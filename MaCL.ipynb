{
  "cells": [
    {
      "cell_type": "markdown",
      "metadata": {
        "id": "view-in-github",
        "colab_type": "text"
      },
      "source": [
        "<a href=\"https://colab.research.google.com/github/swamptoday/colab-files/blob/main/MaCL.ipynb\" target=\"_parent\"><img src=\"https://colab.research.google.com/assets/colab-badge.svg\" alt=\"Open In Colab\"/></a>"
      ]
    },
    {
      "cell_type": "code",
      "execution_count": null,
      "metadata": {
        "id": "bwcgZTHc4Zgp",
        "colab": {
          "base_uri": "https://localhost:8080/"
        },
        "outputId": "2a51fcd4-9eb0-4d8d-e7f3-16ad4a556ee1"
      },
      "outputs": [
        {
          "output_type": "stream",
          "name": "stderr",
          "text": [
            "[nltk_data] Downloading package averaged_perceptron_tagger to\n",
            "[nltk_data]     /root/nltk_data...\n",
            "[nltk_data]   Package averaged_perceptron_tagger is already up-to-\n",
            "[nltk_data]       date!\n",
            "[nltk_data] Downloading package tagsets to /root/nltk_data...\n",
            "[nltk_data]   Package tagsets is already up-to-date!\n",
            "[nltk_data] Downloading package wordnet to /root/nltk_data...\n",
            "[nltk_data]   Package wordnet is already up-to-date!\n"
          ]
        },
        {
          "output_type": "execute_result",
          "data": {
            "text/plain": [
              "True"
            ]
          },
          "metadata": {},
          "execution_count": 82
        }
      ],
      "source": [
        "import nltk\n",
        "from nltk import DefaultTagger, UnigramTagger, BigramTagger, TrigramTagger\n",
        "from nltk.tokenize import word_tokenize\n",
        "from nltk.tag import pos_tag\n",
        "from nltk.corpus import wordnet as wn\n",
        "from nltk.corpus import treebank\n",
        "from nltk.corpus import gutenberg\n",
        "from nltk.corpus import genesis\n",
        "\n",
        "import numpy as np\n",
        "import matplotlib.pyplot as plt\n",
        "\n",
        "from sklearn.model_selection import train_test_split\n",
        "nltk.download('averaged_perceptron_tagger')\n",
        "nltk.download('tagsets')\n",
        "nltk.download('wordnet')"
      ]
    },
    {
      "cell_type": "markdown",
      "metadata": {
        "id": "QV1wqmBR4qc7"
      },
      "source": [
        "# Practice 1"
      ]
    },
    {
      "cell_type": "markdown",
      "metadata": {
        "id": "wYRFYT788cL2"
      },
      "source": [
        "## Пакет Numpy в Python"
      ]
    },
    {
      "cell_type": "markdown",
      "metadata": {
        "id": "9qgKOYqz8P8S"
      },
      "source": [
        "### 1. Створіть два одновимірні масиви Numpy."
      ]
    },
    {
      "cell_type": "code",
      "execution_count": null,
      "metadata": {
        "id": "rf_8iA1T8laE"
      },
      "outputs": [],
      "source": [
        "arr1 = np.arange(7, 20, 2)\n",
        "arr2 = np.array([2.34, 1.23, 5.89, 4.98, 3.6, 7.19, 2.67])"
      ]
    },
    {
      "cell_type": "markdown",
      "metadata": {
        "id": "KZrlHjMe83Uh"
      },
      "source": [
        "### 2. Використовуючи оператори пакета Numpy, зведіть усі елементи першого масиву в квадрат, потім перемножте елементи першого масиву по-елементно з елементами другого масиву."
      ]
    },
    {
      "cell_type": "code",
      "execution_count": null,
      "metadata": {
        "colab": {
          "base_uri": "https://localhost:8080/"
        },
        "id": "5PMlRw-m9e1g",
        "outputId": "3d04af24-13e6-4017-bd27-3f153f12bb0b"
      },
      "outputs": [
        {
          "output_type": "stream",
          "name": "stdout",
          "text": [
            "[ 7  9 11 13 15 17 19]\n",
            "[ 49  81 121 169 225 289 361]\n",
            "\n",
            "[2.34 1.23 5.89 4.98 3.6  7.19 2.67]\n",
            "[ 16.38  11.07  64.79  64.74  54.   122.23  50.73]\n"
          ]
        }
      ],
      "source": [
        "print(arr1)\n",
        "print(np.power(arr1, 2))\n",
        "print()\n",
        "print(arr2)\n",
        "print(np.multiply(arr1, arr2))"
      ]
    },
    {
      "cell_type": "markdown",
      "metadata": {
        "id": "qWlIQAH48_Yy"
      },
      "source": [
        "### 3. Створіть двовимірний масив Numpy, що містить не менше ніж 4 рядки та п'ять стовпців цілих чисел."
      ]
    },
    {
      "cell_type": "code",
      "execution_count": null,
      "metadata": {
        "colab": {
          "base_uri": "https://localhost:8080/"
        },
        "id": "uyvj_DoA-Zu3",
        "outputId": "ac5467c0-0889-4462-f7ed-529b30eed36f"
      },
      "outputs": [
        {
          "output_type": "stream",
          "name": "stdout",
          "text": [
            "First method\n",
            "[[ 1  2  3  4  5]\n",
            " [ 6  7  8  9 10]\n",
            " [11 12 13 14 15]\n",
            " [16 17 18 19 20]]\n",
            "\n",
            "Second method\n",
            "[[ 0  1  2  3  4]\n",
            " [ 5  6  7  8  9]\n",
            " [10 11 12 13 14]\n",
            " [15 16 17 18 19]]\n",
            "\n",
            "Third method\n",
            "[[5 8 7 7 2]\n",
            " [3 1 5 8 2]\n",
            " [6 3 9 2 4]\n",
            " [1 1 4 1 4]]\n"
          ]
        }
      ],
      "source": [
        "print('First method')\n",
        "np_2d = np.array([np.arange(1,6), np.arange(6,11), np.arange(11, 16), np.arange(16, 21)])\n",
        "print(np_2d)\n",
        "print()\n",
        "\n",
        "print('Second method')\n",
        "np_2d = np.arange(20).reshape(4, 5)\n",
        "print(np_2d)\n",
        "print()\n",
        "\n",
        "print('Third method')\n",
        "np_2d = np.random.randint(0, 10, size=(4, 5))\n",
        "print(np_2d)"
      ]
    },
    {
      "cell_type": "markdown",
      "metadata": {
        "id": "9sJxn7fW9Gxt"
      },
      "source": [
        "4. У кожному стовпчику значення другого рядка замініть на 0."
      ]
    },
    {
      "cell_type": "code",
      "execution_count": null,
      "metadata": {
        "colab": {
          "base_uri": "https://localhost:8080/"
        },
        "id": "z2KirTQWAyZ-",
        "outputId": "db671a0c-cdb4-47a2-e068-3e18b28577a5"
      },
      "outputs": [
        {
          "output_type": "stream",
          "name": "stdout",
          "text": [
            "[[5 8 7 7 2]\n",
            " [0 0 0 0 0]\n",
            " [6 3 9 2 4]\n",
            " [1 1 4 1 4]]\n"
          ]
        }
      ],
      "source": [
        "np_2d[1, :] = 0\n",
        "print(np_2d)"
      ]
    },
    {
      "cell_type": "markdown",
      "metadata": {
        "id": "UwXD7Gb09J9G"
      },
      "source": [
        "### 5. Змініть форму масиву, змінивши число рядків на число стовпців і навпаки."
      ]
    },
    {
      "cell_type": "code",
      "execution_count": null,
      "metadata": {
        "colab": {
          "base_uri": "https://localhost:8080/"
        },
        "id": "0ZOZjaTQBkno",
        "outputId": "5a777664-f792-4fde-a0c1-cb53beb66a52"
      },
      "outputs": [
        {
          "output_type": "stream",
          "name": "stdout",
          "text": [
            "[[5 8 7 7]\n",
            " [2 0 0 0]\n",
            " [0 0 6 3]\n",
            " [9 2 4 1]\n",
            " [1 4 1 4]]\n"
          ]
        }
      ],
      "source": [
        "print(np_2d.reshape(5,4))"
      ]
    },
    {
      "cell_type": "markdown",
      "metadata": {
        "id": "52diFiX69QPy"
      },
      "source": [
        "### 6. Використовуючи значення сайту http://wiki.stat.ucla.edu/socr/index.php/SOCR_Data_MLB_HeightsWeights створіть два Numpy масиву, що містять зріст та вагу будь-яких 10 гравців Major League Baseball Players."
      ]
    },
    {
      "cell_type": "code",
      "execution_count": null,
      "metadata": {
        "id": "oh9ufgNpB0N5"
      },
      "outputs": [],
      "source": [
        "mlbp_height = np.array([74, 74, 72, 72, 73, 69, 69, 71, 76, 71])\n",
        "mlbp_weight = np.array([180, 215, 210, 210, 188, 176, 209, 200, 231, 180])"
      ]
    },
    {
      "cell_type": "markdown",
      "metadata": {
        "id": "8dcZBo4H9V0f"
      },
      "source": [
        "### 7. Переведіть зріст у метри, а вагу в кілограми та порахуйте індекс маси тіла для кожного баскетболіста."
      ]
    },
    {
      "cell_type": "code",
      "execution_count": null,
      "metadata": {
        "colab": {
          "base_uri": "https://localhost:8080/"
        },
        "id": "G1_bBI48F-MZ",
        "outputId": "db9c3b84-76ca-476e-9b3e-a63c55f6cc44"
      },
      "outputs": [
        {
          "output_type": "stream",
          "name": "stdout",
          "text": [
            "[1.88 1.88 1.83 1.83 1.85 1.75 1.75 1.8  1.93 1.8 ]\n",
            "[ 81.65  97.52  95.25  95.25  85.28  79.83  94.8   90.72 104.78  81.65]\n",
            "\n",
            "bmi: [23.11 27.6  28.48 28.48 24.8  25.99 30.86 27.89 28.12 25.1 ]\n"
          ]
        }
      ],
      "source": [
        "mlbp_height_m = mlbp_height * 0.0254\n",
        "print(np.round(mlbp_height_m, 2))\n",
        "\n",
        "mlbp_weight_kg = mlbp_weight * 0.45359237\n",
        "print(np.round(mlbp_weight_kg, 2))\n",
        "\n",
        "print()\n",
        "\n",
        "bmi = mlbp_weight_kg / np.power(mlbp_height_m, 2)\n",
        "print(f'bmi: {np.round(bmi, 2)}')\n"
      ]
    },
    {
      "cell_type": "markdown",
      "metadata": {
        "id": "ngPNo48F9Y9E"
      },
      "source": [
        "### 8. Виведіть масив, до якого включено значення bmi<21."
      ]
    },
    {
      "cell_type": "code",
      "execution_count": null,
      "metadata": {
        "colab": {
          "base_uri": "https://localhost:8080/"
        },
        "id": "sKQ9ipHQKek8",
        "outputId": "f7f825bb-0d6f-4535-ec69-e719ecddc680"
      },
      "outputs": [
        {
          "output_type": "stream",
          "name": "stdout",
          "text": [
            "[False False False False False False False False False False]\n",
            "[]\n"
          ]
        }
      ],
      "source": [
        "print(bmi < 21)\n",
        "print(bmi[bmi < 21])"
      ]
    },
    {
      "cell_type": "markdown",
      "metadata": {
        "id": "O78teYZY8fq2"
      },
      "source": [
        "## Робота з багатовимірними масивами пакета Numpy"
      ]
    },
    {
      "cell_type": "markdown",
      "metadata": {
        "id": "jp4bVCww8rik"
      },
      "source": [
        "### 1. Використовуючи інформацію сайту http://wiki.stat.ucla.edu/socr/index.php/SOCR_Data_MLB_HeightsWeights створіть двомірний Numpy масив, що містить інформацію про зріст, вагу та вік 20 будь-яких баскетболістів Major League Baseball Players."
      ]
    },
    {
      "cell_type": "code",
      "execution_count": null,
      "metadata": {
        "colab": {
          "base_uri": "https://localhost:8080/"
        },
        "id": "eR1X61at9ruR",
        "outputId": "5e16e9b9-ce00-4106-b0a4-8973efd05d12"
      },
      "outputs": [
        {
          "output_type": "stream",
          "name": "stdout",
          "text": [
            "[[ 22.99  34.69  30.78  35.43  35.71  29.39  30.77  35.07  30.19  27.05\n",
            "   23.88  26.96  23.29  26.11  27.55  34.27  30.    27.99  22.38  22.89]\n",
            " [ 81.65  97.52  95.25  95.25  85.28  79.83  94.8   90.72 104.78  81.65\n",
            "   85.28  81.65  83.91  72.57  81.65  83.91  89.36  85.73  83.91  99.34]\n",
            " [  1.88   1.88   1.83   1.83   1.85   1.75   1.75   1.8    1.93   1.8\n",
            "    1.85   1.85   1.88   1.88   1.75   1.78   1.83   1.85   1.9    1.98]]\n"
          ]
        }
      ],
      "source": [
        "mlbp_age = np.array([22.99, 34.69, 30.78, 35.43, 35.71, 29.39, 30.77, 35.07, 30.19, 27.05, 23.88, 26.96, 23.29, 26.11, 27.55, 34.27, 30, 27.99, 22.38, 22.89])\n",
        "mlbp_weight = np.array([180, 215, 210, 210, 188, 176, 209, 200, 231, 180, 188, 180, 185, 160, 180, 185, 197, 189, 185, 219])\n",
        "mlbp_height = np.array([74, 74, 72, 72, 73, 69, 69, 71, 76, 71, 73, 73, 74, 74, 69, 70, 72, 73, 75, 78])\n",
        "\n",
        "mlbp_measure = np.array([mlbp_age, mlbp_weight * 0.45359237, mlbp_height * 0.0254])\n",
        "print(np.round(mlbp_measure, 2))"
      ]
    },
    {
      "cell_type": "markdown",
      "metadata": {
        "id": "OWfa9BYQ8wrB"
      },
      "source": [
        "### 2. Вивести на екран інформацію про четвертого гравця даного масиву."
      ]
    },
    {
      "cell_type": "code",
      "execution_count": null,
      "metadata": {
        "colab": {
          "base_uri": "https://localhost:8080/"
        },
        "id": "MKJNW_kQ_ziT",
        "outputId": "39934a49-d619-4c8e-9a7e-dc23ecfad07f"
      },
      "outputs": [
        {
          "output_type": "stream",
          "name": "stdout",
          "text": [
            "Information together\n",
            "[35.43      95.2543977  1.8288   ]\n",
            "\n",
            "Age\n",
            "35.43\n",
            "\n",
            "Weight\n",
            "95.2543977\n",
            "\n",
            "Height\n",
            "1.8288\n"
          ]
        }
      ],
      "source": [
        "print('Information together')\n",
        "print(mlbp_measure[:, 3])\n",
        "print()\n",
        "\n",
        "print('Age')\n",
        "print(mlbp_measure[0, 3])\n",
        "print()\n",
        "\n",
        "print('Weight')\n",
        "print(mlbp_measure[1, 3])\n",
        "print()\n",
        "\n",
        "print('Height')\n",
        "print(mlbp_measure[2, 3])"
      ]
    },
    {
      "cell_type": "markdown",
      "metadata": {
        "id": "7OmOlCAj8zbx"
      },
      "source": [
        "### 3. Вивести на екран інформацію про вагу всіх гравців."
      ]
    },
    {
      "cell_type": "code",
      "execution_count": null,
      "metadata": {
        "colab": {
          "base_uri": "https://localhost:8080/"
        },
        "id": "dZEbEZHhAkdv",
        "outputId": "6ba643fd-3b95-4fc8-c142-3ca475337e01"
      },
      "outputs": [
        {
          "output_type": "stream",
          "name": "stdout",
          "text": [
            "81.65\n",
            "97.52\n",
            "95.25\n",
            "95.25\n",
            "85.28\n",
            "79.83\n",
            "94.8\n",
            "90.72\n",
            "104.78\n",
            "81.65\n",
            "85.28\n",
            "81.65\n",
            "83.91\n",
            "72.57\n",
            "81.65\n",
            "83.91\n",
            "89.36\n",
            "85.73\n",
            "83.91\n",
            "99.34\n"
          ]
        }
      ],
      "source": [
        "for weight in mlbp_measure[1, :]:\n",
        "  print(np.round(weight, 2))"
      ]
    },
    {
      "cell_type": "markdown",
      "metadata": {
        "id": "xr65MiGj816Q"
      },
      "source": [
        "### 4. Порівняти індекс маси тіла четвертого гравця і шостого гравця та вивести відповідне повідомлення (“Індекс маси тіла четвертого гравця більше за індекс маси тіла шостого гравця” або “Індекс маси тіла шостого гравця більше за індекс маси четвертого гравця”)."
      ]
    },
    {
      "cell_type": "code",
      "execution_count": null,
      "metadata": {
        "colab": {
          "base_uri": "https://localhost:8080/"
        },
        "id": "FzLED-sMC8RR",
        "outputId": "bf2a7c78-8ef4-4d18-e483-9f86ac43800b"
      },
      "outputs": [
        {
          "output_type": "stream",
          "name": "stdout",
          "text": [
            "Індекс маси тіла четвертого гравця більше за індекс маси тіла шостого гравця\n"
          ]
        }
      ],
      "source": [
        "bmi = mlbp_measure[1, :] / np.power(mlbp_measure[2, :], 2)\n",
        "if (bmi[3] < bmi[5]):\n",
        "  print('Індекс маси тіла шостого гравця більше за індекс маси четвертого гравця')\n",
        "else:\n",
        "  print('Індекс маси тіла четвертого гравця більше за індекс маси тіла шостого гравця')"
      ]
    },
    {
      "cell_type": "markdown",
      "metadata": {
        "id": "yab7kgeR8-28"
      },
      "source": [
        "### 5. Вивести на екран список, висоту і вагу другого і третього гравця одночасно."
      ]
    },
    {
      "cell_type": "code",
      "execution_count": null,
      "metadata": {
        "colab": {
          "base_uri": "https://localhost:8080/"
        },
        "id": "pnauLj1eFAjb",
        "outputId": "25faaae7-cb70-4022-eff2-87acc025d9a2"
      },
      "outputs": [
        {
          "output_type": "stream",
          "name": "stdout",
          "text": [
            "[97.52235955  1.8796    ]\n",
            "[95.2543977  1.8288   ]\n"
          ]
        }
      ],
      "source": [
        "for i in [1, 2]:\n",
        "  print(mlbp_measure[[1,2], i])"
      ]
    },
    {
      "cell_type": "markdown",
      "metadata": {
        "id": "0xCatnzz9DQP"
      },
      "source": [
        "### 6. Визначити розмірність, число елементів та тип елементів масиву (властивість dtype)."
      ]
    },
    {
      "cell_type": "code",
      "execution_count": null,
      "metadata": {
        "colab": {
          "base_uri": "https://localhost:8080/"
        },
        "id": "a9U1MWGIF7HG",
        "outputId": "c80fd298-3901-4905-bc95-191d9a655f85"
      },
      "outputs": [
        {
          "output_type": "stream",
          "name": "stdout",
          "text": [
            "Розмірність: 2\n",
            "Число елементів: 60\n",
            "Тип елементів: float64\n"
          ]
        }
      ],
      "source": [
        "print(f'Розмірність: {mlbp_measure.ndim}')\n",
        "print(f'Число елементів: {mlbp_measure.shape[0] * mlbp_measure.shape[1]}')\n",
        "print(f'Тип елементів: {mlbp_measure.dtype}')"
      ]
    },
    {
      "cell_type": "markdown",
      "metadata": {
        "id": "WSNUCwZx9H6z"
      },
      "source": [
        "### 7. Створіть масив, що містить два рядки та дев'ять стовпців, заповнивши його довільними речовими числами."
      ]
    },
    {
      "cell_type": "code",
      "execution_count": null,
      "metadata": {
        "colab": {
          "base_uri": "https://localhost:8080/"
        },
        "id": "GAsE478OG2VC",
        "outputId": "e2725ec9-9f75-4df1-ccef-cc3ef03c6346"
      },
      "outputs": [
        {
          "output_type": "stream",
          "name": "stdout",
          "text": [
            "[[0.43593833 0.1099299  0.71434148 0.42094329 0.92093564 0.36609356\n",
            "  0.02856111 0.10078357 0.56755805]\n",
            " [0.91771518 0.02275093 0.55405178 0.04605422 0.45345666 0.51031017\n",
            "  0.67365639 0.47073185 0.81614515]]\n"
          ]
        }
      ],
      "source": [
        "arr = np.random.rand(2,9)\n",
        "print(arr)"
      ]
    },
    {
      "cell_type": "markdown",
      "metadata": {
        "id": "2jFaMR9I9M3Z"
      },
      "source": [
        "### 8. Заповніть масиви a1, b2, c3, d4, що складаються з чотирьох рядків і трьох стовпців, довільними значеннями, використовуючи рівномірний розподіл (a1), нормальний розподіл (b2), стандартний нормальний розподіл (c3) та розподіл Ципфа (d4)."
      ]
    },
    {
      "cell_type": "code",
      "execution_count": null,
      "metadata": {
        "colab": {
          "base_uri": "https://localhost:8080/"
        },
        "id": "windK3d0Hke1",
        "outputId": "8c02cb74-407d-4e83-d449-19f07d322e51"
      },
      "outputs": [
        {
          "output_type": "stream",
          "name": "stdout",
          "text": [
            "Рівномірний розподіл: [[3.80130908 3.18594558 4.70633579]\n",
            " [4.33552242 3.70761077 4.36146278]\n",
            " [4.18448967 3.09103078 3.93946679]\n",
            " [3.22960791 3.24080612 3.95044549]]\n",
            "\n",
            "Нормальний розподіл: [[ 8.39356538  1.24187918  3.72491487]\n",
            " [11.64256885 -5.73263823  1.84902421]\n",
            " [ 0.71541597 18.74348053  3.27512354]\n",
            " [ 9.09287929 -7.44350723 16.0277748 ]]\n",
            "\n",
            "Стандартний нормальний розподіл: [[-0.25709046 -1.07511339 -1.77608731]\n",
            " [-1.08162007 -1.79259299  1.17799391]\n",
            " [ 1.59685573 -2.49994217  0.62452799]\n",
            " [ 1.12533674  2.26700021  0.46515591]]\n",
            "\n",
            "Розподіл Ципфа: [[1 1 1]\n",
            " [1 2 1]\n",
            " [1 1 1]\n",
            " [1 1 1]]\n"
          ]
        }
      ],
      "source": [
        "a1 = np.random.uniform(3, 5, (4, 3))\n",
        "print(f'Рівномірний розподіл: {a1}')\n",
        "print()\n",
        "\n",
        "b2 = np.random.normal(6, 8, (4, 3))\n",
        "print(f'Нормальний розподіл: {b2}')\n",
        "print()\n",
        "\n",
        "c3 = np.random.standard_normal((4, 3))\n",
        "print(f'Стандартний нормальний розподіл: {c3}')\n",
        "print()\n",
        "\n",
        "d4 = np.random.zipf(4, (4, 3))\n",
        "print(f'Розподіл Ципфа: {d4}')\n"
      ]
    },
    {
      "cell_type": "markdown",
      "metadata": {
        "id": "wRGiqRZD9Qyi"
      },
      "source": [
        "### 9. Округліть значення елементів масиву b2 до двох символів після коми."
      ]
    },
    {
      "cell_type": "code",
      "execution_count": null,
      "metadata": {
        "colab": {
          "base_uri": "https://localhost:8080/"
        },
        "id": "3mgnWmaRJzPP",
        "outputId": "ea89f659-523a-4f7a-eaf3-884673f0dd85"
      },
      "outputs": [
        {
          "output_type": "stream",
          "name": "stdout",
          "text": [
            "[[ 8.39  1.24  3.72]\n",
            " [11.64 -5.73  1.85]\n",
            " [ 0.72 18.74  3.28]\n",
            " [ 9.09 -7.44 16.03]]\n"
          ]
        }
      ],
      "source": [
        "b2_r = np.round(b2, 2)\n",
        "print(b2_r)"
      ]
    },
    {
      "cell_type": "markdown",
      "metadata": {
        "id": "eZ7UH_hJ9UHS"
      },
      "source": [
        "### 10. Визначити мінімальне, максимальне значення елементів отриманого масиву."
      ]
    },
    {
      "cell_type": "code",
      "execution_count": null,
      "metadata": {
        "colab": {
          "base_uri": "https://localhost:8080/"
        },
        "id": "_Q9qCbnBKFH0",
        "outputId": "2db89c78-433f-42e9-9969-d694afcddb84"
      },
      "outputs": [
        {
          "output_type": "stream",
          "name": "stdout",
          "text": [
            "Min: -7.44\n",
            "Max: 18.74\n"
          ]
        }
      ],
      "source": [
        "print(f'Min: {b2_r.min()}')\n",
        "print(f'Max: {b2_r.max()}')"
      ]
    },
    {
      "cell_type": "markdown",
      "metadata": {
        "id": "4G4bR9jf9XyM"
      },
      "source": [
        "### 11. Визначте середнє значення другого рядка та останнього стовпця масиву."
      ]
    },
    {
      "cell_type": "code",
      "execution_count": null,
      "metadata": {
        "colab": {
          "base_uri": "https://localhost:8080/"
        },
        "id": "RIKU2zsVKP2H",
        "outputId": "3772c05b-61dc-49a6-a9b0-a67b8eb2360b"
      },
      "outputs": [
        {
          "output_type": "stream",
          "name": "stdout",
          "text": [
            "Mean of 2 row: 2.5866666666666664\n",
            "Mean of last column: 6.220000000000001\n"
          ]
        }
      ],
      "source": [
        "print(f'Mean of 2 row: {b2_r[1, :].mean()}')\n",
        "print(f'Mean of last column: {b2_r[:, -1].mean()}')"
      ]
    },
    {
      "cell_type": "markdown",
      "metadata": {
        "id": "xVL4Hwjy9a3A"
      },
      "source": [
        "### 12. Округлити значення елементів масиву a1 за допомогою функцій fix() та rint(). Як ви вважаєте, через що отримали різницю результатів округлення?"
      ]
    },
    {
      "cell_type": "code",
      "execution_count": null,
      "metadata": {
        "colab": {
          "base_uri": "https://localhost:8080/"
        },
        "id": "XfhN36vCLDjS",
        "outputId": "65004590-268e-49c2-8977-b55e062bb311"
      },
      "outputs": [
        {
          "output_type": "stream",
          "name": "stdout",
          "text": [
            "[[3.80130908 3.18594558 4.70633579]\n",
            " [4.33552242 3.70761077 4.36146278]\n",
            " [4.18448967 3.09103078 3.93946679]\n",
            " [3.22960791 3.24080612 3.95044549]]\n",
            "\n",
            "Rint:\n",
            "[[4. 3. 5.]\n",
            " [4. 4. 4.]\n",
            " [4. 3. 4.]\n",
            " [3. 3. 4.]]\n",
            "\n",
            "Fix:\n",
            "[[3. 3. 4.]\n",
            " [4. 3. 4.]\n",
            " [4. 3. 3.]\n",
            " [3. 3. 3.]]\n"
          ]
        }
      ],
      "source": [
        "print(a1)\n",
        "print()\n",
        "\n",
        "# Округлює до найближчого цілого\n",
        "print('Rint:')\n",
        "print(np.rint(a1))\n",
        "print()\n",
        "\n",
        "# Округлює до найближчого цілого в напрямку нуля\n",
        "print('Fix:')\n",
        "print(np.fix(a1))"
      ]
    },
    {
      "cell_type": "markdown",
      "metadata": {
        "id": "WDzEqaoO9flK"
      },
      "source": [
        "### 13. Згенеруйте двовимірний масив цілих чисел у проміжку від 100 тисяч до мільйона."
      ]
    },
    {
      "cell_type": "code",
      "execution_count": null,
      "metadata": {
        "colab": {
          "base_uri": "https://localhost:8080/"
        },
        "id": "eAd14qbRL2jC",
        "outputId": "0f1701ec-c85e-4ca3-898b-5e65bf2682e4"
      },
      "outputs": [
        {
          "output_type": "stream",
          "name": "stdout",
          "text": [
            "[[663551435 466731540 437876641]\n",
            " [761538663 437284617 510463892]]\n"
          ]
        }
      ],
      "source": [
        "arr_2d = np.random.randint(100000, 1000000000, (2, 3))\n",
        "\n",
        "print(arr_2d)"
      ]
    },
    {
      "cell_type": "markdown",
      "metadata": {
        "id": "N2vAWhIy9inO"
      },
      "source": [
        "### 14. Округліть значення масиву до тисячі."
      ]
    },
    {
      "cell_type": "code",
      "execution_count": null,
      "metadata": {
        "colab": {
          "base_uri": "https://localhost:8080/"
        },
        "id": "ROENJ6aLMUB8",
        "outputId": "7af2acc0-4461-406f-c85d-8a613a0a1cc9"
      },
      "outputs": [
        {
          "output_type": "execute_result",
          "data": {
            "text/plain": [
              "array([[663551000, 466732000, 437877000],\n",
              "       [761539000, 437285000, 510464000]])"
            ]
          },
          "metadata": {},
          "execution_count": 99
        }
      ],
      "source": [
        "np.round(arr_2d, -3)"
      ]
    },
    {
      "cell_type": "markdown",
      "metadata": {
        "id": "a2EmN9Cd4V8d"
      },
      "source": [
        "# Practice 2"
      ]
    },
    {
      "cell_type": "markdown",
      "metadata": {
        "id": "EbVVXZUn79Mu"
      },
      "source": [
        "## Реалізувати все приклади, які наведені у лабораторній роботі на своїх довільних текстах. Тексти можна брати з бібліотеки nltk."
      ]
    },
    {
      "cell_type": "markdown",
      "metadata": {
        "id": "cNwMos998AE7"
      },
      "source": [
        "### Приклад 1. Функції роботи з рядками у Python"
      ]
    },
    {
      "cell_type": "code",
      "execution_count": null,
      "metadata": {
        "colab": {
          "base_uri": "https://localhost:8080/"
        },
        "id": "67gLVW0w4bYN",
        "outputId": "e85d4ecc-3be1-4289-84a5-88949446f61b"
      },
      "outputs": [
        {
          "output_type": "stream",
          "name": "stderr",
          "text": [
            "[nltk_data] Downloading package gutenberg to /root/nltk_data...\n",
            "[nltk_data]   Package gutenberg is already up-to-date!\n",
            "[nltk_data] Downloading package genesis to /root/nltk_data...\n",
            "[nltk_data]   Package genesis is already up-to-date!\n",
            "[nltk_data] Downloading package inaugural to /root/nltk_data...\n",
            "[nltk_data]   Package inaugural is already up-to-date!\n",
            "[nltk_data] Downloading package nps_chat to /root/nltk_data...\n",
            "[nltk_data]   Package nps_chat is already up-to-date!\n",
            "[nltk_data] Downloading package webtext to /root/nltk_data...\n",
            "[nltk_data]   Package webtext is already up-to-date!\n",
            "[nltk_data] Downloading package treebank to /root/nltk_data...\n",
            "[nltk_data]   Package treebank is already up-to-date!\n",
            "[nltk_data] Downloading package stopwords to /root/nltk_data...\n",
            "[nltk_data]   Package stopwords is already up-to-date!\n",
            "[nltk_data] Downloading package punkt to /root/nltk_data...\n",
            "[nltk_data]   Package punkt is already up-to-date!\n",
            "[nltk_data] Downloading package omw-1.4 to /root/nltk_data...\n",
            "[nltk_data]   Package omw-1.4 is already up-to-date!\n",
            "[nltk_data] Downloading package wordnet to /root/nltk_data...\n",
            "[nltk_data]   Package wordnet is already up-to-date!\n"
          ]
        }
      ],
      "source": [
        "nltk.download('gutenberg')\n",
        "nltk.download('genesis')\n",
        "nltk.download('inaugural')\n",
        "nltk.download('nps_chat')\n",
        "nltk.download('webtext')\n",
        "nltk.download('treebank')\n",
        "nltk.download('stopwords')\n",
        "nltk.download('punkt')\n",
        "nltk.download('omw-1.4')\n",
        "nltk.download('wordnet')\n",
        "\n",
        "from nltk.book import *"
      ]
    },
    {
      "cell_type": "code",
      "execution_count": null,
      "metadata": {
        "id": "6Y0b54r18EpC"
      },
      "outputs": [],
      "source": [
        "# creating array with 4 elements-arrays, that consists of 50 token sentences each\n",
        "\n",
        "sent_size = 5\n",
        "sent = [text2[i:i+sent_size] for i in range(0, len(text2), sent_size)]"
      ]
    },
    {
      "cell_type": "code",
      "execution_count": null,
      "metadata": {
        "colab": {
          "base_uri": "https://localhost:8080/"
        },
        "id": "BR8htSxM_ZRB",
        "outputId": "1013c519-0a43-49e1-ba5f-64a41daedfe2"
      },
      "outputs": [
        {
          "output_type": "stream",
          "name": "stdout",
          "text": [
            "Виведемо поєднання двох масивів\n",
            "['[', 'Sense', 'and', 'Sensibility', 'by', 'Jane', 'Austen', '1811', ']', 'CHAPTER']\n",
            "Виведемо поєднання трьох масивів\n",
            "['had', 'long', 'been', 'settled', 'in', '[', 'Sense', 'and', 'Sensibility', 'by', 'Jane', 'Austen', '1811', ']', 'CHAPTER']\n",
            "Додамо до масиву ще один елемент\n",
            "['[', 'Sense', 'and', 'Sensibility', 'by', \"Author's\"]\n"
          ]
        }
      ],
      "source": [
        "print ('Виведемо поєднання двох масивів')\n",
        "print (sent[0] + sent[1])\n",
        "print ('Виведемо поєднання трьох масивів')\n",
        "print (sent[3] + sent[0] + sent[1])\n",
        "sent[0].append(\"Author's\")\n",
        "print ('Додамо до масиву ще один елемент')\n",
        "print (sent[0])"
      ]
    },
    {
      "cell_type": "code",
      "execution_count": null,
      "metadata": {
        "colab": {
          "base_uri": "https://localhost:8080/"
        },
        "id": "SI5kdbgJAHMM",
        "outputId": "5f59bd55-82f4-4c29-b60f-fab6e170a447"
      },
      "outputs": [
        {
          "output_type": "stream",
          "name": "stdout",
          "text": [
            "['1', 'The', 'family', 'of', 'Dashwood']\n",
            "Виведемо елемент колекції під індексом 3\n",
            "of\n",
            "Знайдемо індекс елемента зі значенням The\n",
            "1\n"
          ]
        }
      ],
      "source": [
        "print(sent[2])\n",
        "print ('Виведемо елемент колекції під індексом 3')\n",
        "print (sent[2][3])\n",
        "print ('Знайдемо індекс елемента зі значенням The')\n",
        "print (sent[2].index('The'))"
      ]
    },
    {
      "cell_type": "code",
      "execution_count": null,
      "metadata": {
        "colab": {
          "base_uri": "https://localhost:8080/"
        },
        "id": "NXcOn_ma65wJ",
        "outputId": "a8d5f389-e115-4f54-b13b-37ab4915ca0e"
      },
      "outputs": [
        {
          "output_type": "stream",
          "name": "stdout",
          "text": [
            "['Jane', 'Austen', '1811', ']', 'CHAPTER']\n",
            "Виведемо елементи колекції \n",
            "['Austen', '1811', ']']\n"
          ]
        }
      ],
      "source": [
        "print(sent[1])\n",
        "print ('Виведемо елементи колекції ')\n",
        "print (sent[1][1:4])"
      ]
    },
    {
      "cell_type": "code",
      "execution_count": null,
      "metadata": {
        "colab": {
          "base_uri": "https://localhost:8080/"
        },
        "id": "Yx86YnGGBVKl",
        "outputId": "407980b4-5ec4-4819-8bc1-70ecbc52967a"
      },
      "outputs": [
        {
          "output_type": "stream",
          "name": "stdout",
          "text": [
            "['had', 'long', 'been', 'settled', 'in']\n",
            "Відсортуємо колекцію \n",
            "['been', 'had', 'in', 'long', 'settled']\n"
          ]
        }
      ],
      "source": [
        "print(sent[3])\n",
        "print ('Відсортуємо колекцію ')\n",
        "print (sorted(sent[3]))"
      ]
    },
    {
      "cell_type": "code",
      "execution_count": null,
      "metadata": {
        "colab": {
          "base_uri": "https://localhost:8080/"
        },
        "id": "1VFDiwAlBhH7",
        "outputId": "d9b7bca1-9f2c-47b2-9813-e796a09eb04d"
      },
      "outputs": [
        {
          "output_type": "stream",
          "name": "stdout",
          "text": [
            "had long been settled in\n",
            "['had', 'long', 'been', 'settled', 'in']\n"
          ]
        }
      ],
      "source": [
        "s =' '.join(sent[3])\n",
        "print (s)\n",
        "print (s.split())"
      ]
    },
    {
      "cell_type": "code",
      "execution_count": null,
      "metadata": {
        "colab": {
          "base_uri": "https://localhost:8080/"
        },
        "id": "OaQ8LQj2EgPC",
        "outputId": "da718e67-0957-4f68-eded-76724ef2202f"
      },
      "outputs": [
        {
          "output_type": "stream",
          "name": "stdout",
          "text": [
            "['return', 'pious', 'gratitude', 'along', 'humble', 'anticipation', 'future', 'blessings', 'past', 'seem', 'presage', 'These', 'reflections', 'arising', 'out', 'crisis', 'forced', 'strongly', 'mind', 'suppressed']\n",
            "Frequency of 'return': 25\n"
          ]
        }
      ],
      "source": [
        "fdist1 = FreqDist(text4)\n",
        "vocab = list(fdist1.keys())\n",
        "print (vocab[300:320])\n",
        "print (f\"Frequency of 'return': {fdist1['return']}\")"
      ]
    },
    {
      "cell_type": "code",
      "execution_count": null,
      "metadata": {
        "id": "D_XFpBxkH5Ux"
      },
      "outputs": [],
      "source": [
        "def addlabels(x, y):\n",
        "    for i in range(len(x)):\n",
        "        axes.text(i, y[i], round(y[i], 2), ha='center')"
      ]
    },
    {
      "cell_type": "code",
      "execution_count": null,
      "metadata": {
        "colab": {
          "base_uri": "https://localhost:8080/",
          "height": 54
        },
        "id": "40JIWMyAE3a8",
        "outputId": "ee5e6bcc-f830-4502-90b3-e771a779b01c"
      },
      "outputs": [
        {
          "output_type": "display_data",
          "data": {
            "text/plain": [
              "<Figure size 1000x600 with 1 Axes>"
            ],
            "image/png": "[encoded data removed]"
          },
          "metadata": {}
        }
      ],
      "source": [
        "top_20 = fdist1.most_common(20)\n",
        "words, frequencies = zip(*top_20)\n",
        "\n",
        "fig, axes = plt.subplots(1, 1, figsize=(10, 6))  # Adjust figsize as needed\n",
        "\n",
        "axes.bar(range(len(words)), frequencies, tick_label=words, color='skyblue')\n",
        "axes.set_xticklabels(words, rotation=90)  # Set the rotation for tick labels\n",
        "addlabels(range(len(words)), frequencies )\n",
        "axes.set_ylabel('Frequencies')\n",
        "axes.set_title('Top 20 Most Common Words')\n",
        "\n",
        "plt.tight_layout()\n",
        "plt.show()"
      ]
    },
    {
      "cell_type": "code",
      "execution_count": null,
      "metadata": {
        "colab": {
          "base_uri": "https://localhost:8080/"
        },
        "id": "I2aoVlLzIKcx",
        "outputId": "6f8960bb-3e0b-4173-8e09-0df19549bcec"
      },
      "outputs": [
        {
          "output_type": "stream",
          "name": "stdout",
          "text": [
            "['[', 'Sense', 'and', 'Sensibility', 'by', \"Author's\"]\n",
            "['Sensibility', \"Author's\"]\n",
            "['Sensibility', 'by']\n"
          ]
        }
      ],
      "source": [
        "sent_to_search = sent[0]\n",
        "print (sent_to_search)\n",
        "\n",
        "long_words = [w for w in sent_to_search if len(w) >= 8]\n",
        "print(long_words)\n",
        "\n",
        "words_with_y = [w for w in sent_to_search if ('y' in w)]\n",
        "print(words_with_y)"
      ]
    },
    {
      "cell_type": "markdown",
      "metadata": {
        "id": "n-ZVuJuhJYv5"
      },
      "source": [
        "### Приклад 2. Функція bigrams"
      ]
    },
    {
      "cell_type": "code",
      "execution_count": null,
      "metadata": {
        "colab": {
          "base_uri": "https://localhost:8080/"
        },
        "id": "VSwSpPIIJdQ7",
        "outputId": "15145c20-2d56-415d-f25f-a45bf17003e8"
      },
      "outputs": [
        {
          "output_type": "stream",
          "name": "stdout",
          "text": [
            "['had', 'long', 'been', 'settled', 'in']\n",
            "[('had', 'long'), ('long', 'been'), ('been', 'settled'), ('settled', 'in')]\n"
          ]
        }
      ],
      "source": [
        "print(sent[3])\n",
        "print (list(bigrams(sent[3])))"
      ]
    },
    {
      "cell_type": "markdown",
      "metadata": {
        "id": "992Vy4RyHEOU"
      },
      "source": [
        "### Приклад 3. Функція collocations()"
      ]
    },
    {
      "cell_type": "code",
      "execution_count": null,
      "metadata": {
        "colab": {
          "base_uri": "https://localhost:8080/"
        },
        "id": "QcUQq12jHJEZ",
        "outputId": "53fb8434-95e3-451e-e43f-85882497ecb8"
      },
      "outputs": [
        {
          "output_type": "stream",
          "name": "stdout",
          "text": [
            "said Syme; asked Syme; Saffron Park; Comrade Gregory; Leicester\n",
            "Square; Colonel Ducroix; red hair; old gentleman; could see; Inspector\n",
            "Ratcliffe; Anarchist Council; blue card; Scotland Yard; dark room;\n",
            "blue eyes; common sense; straw hat; hundred yards; said Gregory; run\n",
            "away\n",
            "None\n"
          ]
        }
      ],
      "source": [
        "print (text9.collocations())"
      ]
    },
    {
      "cell_type": "markdown",
      "metadata": {
        "id": "VXUOjwh9IksA"
      },
      "source": [
        "### Приклад 4. Використання Стеммер Портера і Ланкастера"
      ]
    },
    {
      "cell_type": "code",
      "execution_count": null,
      "metadata": {
        "colab": {
          "base_uri": "https://localhost:8080/"
        },
        "id": "XG0XMFmoIm8V",
        "outputId": "a2857e86-4462-4114-8494-4f5ee4d72043"
      },
      "outputs": [
        {
          "output_type": "stream",
          "name": "stdout",
          "text": [
            "('lived', 'live', 'liv')\n",
            "('in', 'in', 'in')\n",
            "('so', 'so', 'so')\n",
            "('respectable', 'respect', 'respect')\n",
            "('a', 'a', 'a')\n",
            "('manner', 'manner', 'man')\n",
            "('as', 'as', 'as')\n",
            "('to', 'to', 'to')\n",
            "('engage', 'engag', 'eng')\n",
            "('the', 'the', 'the')\n",
            "('general', 'gener', 'gen')\n",
            "('good', 'good', 'good')\n",
            "('opinion', 'opinion', 'opin')\n",
            "('of', 'of', 'of')\n",
            "('their', 'their', 'their')\n",
            "('surrounding', 'surround', 'surround')\n",
            "('acquaintance', 'acquaint', 'acquaint')\n",
            "('.', '.', '.')\n",
            "('The', 'the', 'the')\n",
            "('late', 'late', 'lat')\n"
          ]
        }
      ],
      "source": [
        "text = \"Natural language processing (NLP) is a subfield of linguistics, computer science, and artificial intelligence concerned with the interactions between computers and human language, in particular how to program computers to process and analyze large amounts of natural language data.\"\n",
        "\n",
        "text_for_stem = ' '.join(text2[50:150])\n",
        "\n",
        "\n",
        "tokens = word_tokenize(text_for_stem)\n",
        "# print(tokens)\n",
        "porter = nltk.PorterStemmer()\n",
        "lancaster = nltk.LancasterStemmer()\n",
        "\n",
        "stem_check = [(t, porter.stem(t), lancaster.stem(t)) for t in tokens[:20]]\n",
        "\n",
        "for i in stem_check:\n",
        "    print(i)"
      ]
    },
    {
      "cell_type": "markdown",
      "metadata": {
        "id": "8dUzy6WP0Xj5"
      },
      "source": [
        "### Приклад 5. Застосування лематизатора WordNet для лематизації тексту"
      ]
    },
    {
      "cell_type": "code",
      "execution_count": null,
      "metadata": {
        "colab": {
          "base_uri": "https://localhost:8080/"
        },
        "id": "cmpydPHZ0Xj5",
        "outputId": "da7dbe3d-0bc8-49f6-b17d-1d8975390ea8"
      },
      "outputs": [
        {
          "output_type": "stream",
          "name": "stdout",
          "text": [
            "('foxes', 'fox')\n",
            "('dogs', 'dog')\n",
            "('antics', 'antic')\n",
            "('as', 'a')\n",
            "('leaves', 'leaf')\n",
            "('squirrels', 'squirrel')\n",
            "('nuts', 'nut')\n",
            "('months', 'month')\n",
            "('plays', 'play')\n"
          ]
        }
      ],
      "source": [
        "text_to_lemma = \"The quick brown foxes are jumping over the lazy dogs. They seem to enjoy their playful antics in the bright sunshine. Birds chirp melodiously as they flit from branch to branch, adding to the picturesque scene. The rustling leaves create a soothing rhythm in the gentle breeze, inviting a sense of calmness to the surroundings. Meanwhile, nearby squirrels scurry about, gathering nuts for the upcoming winter months. Nature's symphony plays out harmoniously, painting a serene portrait of life in the wilderness\"\n",
        "\n",
        "tokens = word_tokenize(text_to_lemma)\n",
        "wnl = nltk.WordNetLemmatizer()\n",
        "\n",
        "lemmatized = [(t, wnl.lemmatize(t)) for t in tokens]\n",
        "\n",
        "for i in lemmatized:\n",
        "    if (i[0] != i[1]):\n",
        "        print(i)"
      ]
    },
    {
      "cell_type": "markdown",
      "metadata": {
        "id": "Su8GeRzc0Xj5"
      },
      "source": [
        "### Приклад 6. Використання книг з бібліотеки"
      ]
    },
    {
      "cell_type": "code",
      "execution_count": null,
      "metadata": {
        "colab": {
          "base_uri": "https://localhost:8080/"
        },
        "id": "ZYwpYs0E0Xj5",
        "outputId": "d05c6236-340a-4658-e854-385a52664303"
      },
      "outputs": [
        {
          "output_type": "stream",
          "name": "stdout",
          "text": [
            "Text 1: tokens from 0 to 20:\n",
            "['[', 'Moby', 'Dick', 'by', 'Herman', 'Melville', '1851', ']', 'ETYMOLOGY', '.', '(', 'Supplied', 'by', 'a', 'Late', 'Consumptive', 'Usher', 'to', 'a', 'Grammar']\n",
            "Text 2: tokens from 20 to 40:\n",
            "['Sussex', '.', 'Their', 'estate', 'was', 'large', ',', 'and', 'their', 'residence', 'was', 'at', 'Norland', 'Park', ',', 'in', 'the', 'centre', 'of', 'their']\n",
            "Text 3: tokens from 40 to 60:\n",
            "['of', 'the', 'waters', '.', 'And', 'God', 'said', ',', 'Let', 'there', 'be', 'light', ':', 'and', 'there', 'was', 'light', '.', 'And', 'God']\n",
            "Text 4: tokens from 60 to 80:\n",
            "['my', 'Country', ',', 'whose', 'voice', 'I', 'can', 'never', 'hear', 'but', 'with', 'veneration', 'and', 'love', ',', 'from', 'a', 'retreat', 'which', 'I']\n"
          ]
        }
      ],
      "source": [
        "texts = [text1, text2, text3, text4]\n",
        "for i, j, z in zip(range(0, 80, 20), range(20, 100, 20), range(0, 5)):\n",
        "    print(f'Text {z+1}: tokens from {i} to {j}:')\n",
        "    print(texts[z][i:j])"
      ]
    },
    {
      "cell_type": "markdown",
      "metadata": {
        "id": "kQVmzrsV0Xj6"
      },
      "source": [
        "### Приклад 7. Пошук в текстах"
      ]
    },
    {
      "cell_type": "code",
      "execution_count": null,
      "metadata": {
        "colab": {
          "base_uri": "https://localhost:8080/"
        },
        "id": "i34nmW9n0Xj6",
        "outputId": "978e98d1-bbeb-4b8b-f520-789584017855"
      },
      "outputs": [
        {
          "output_type": "stream",
          "name": "stdout",
          "text": [
            "<Text: Moby Dick by Herman Melville 1851>\n",
            "['statements', 'however', 'authentic', 'these', 'extracts', 'veritable', 'gospel', 'cetology', 'Far', 'As']\n",
            "Displaying 3 of 3 matches:\n",
            "tatements , however authentic , in these extracts\n",
            "lar onset , but the authentic particulars of this\n",
            "st , got one of his authentic abortions ; that is\n",
            "None\n"
          ]
        }
      ],
      "source": [
        "print(text1)\n",
        "print(list(text1.vocab().keys())[200:210])\n",
        "\n",
        "print(text1.concordance('authentic', 50, 10))"
      ]
    },
    {
      "cell_type": "markdown",
      "metadata": {
        "id": "m4VDyi9d0Xj6"
      },
      "source": [
        "### Приклад 8. Визначимо, які ще слова зустрічаються в одному контексті разом зі  словом monstrous за допомогою функції similar"
      ]
    },
    {
      "cell_type": "code",
      "execution_count": null,
      "metadata": {
        "colab": {
          "base_uri": "https://localhost:8080/"
        },
        "id": "IucjyIoD0Xj6",
        "outputId": "703cca44-fab1-48a0-8c67-2e532301978e"
      },
      "outputs": [
        {
          "output_type": "stream",
          "name": "stdout",
          "text": [
            "<Text: Moby Dick by Herman Melville 1851>\n",
            "<Text: Sense and Sensibility by Jane Austen 1811>\n",
            "Similar context with bones in text1:\n",
            "one eyes back ship place cabin to it hand which whales land life men\n",
            "work side way stern head feet\n",
            "None\n",
            "\n",
            "Similar context with bones in text2:\n",
            "gentleman degree one other sale desire mark thing addition notice\n",
            "offence opportunity act imprudence instance wish idea part symptom\n",
            "doubt\n",
            "None\n",
            "\n",
            "Common contexts between bones and one in text1:\n",
            "had_of and_after with_of\n",
            "None\n"
          ]
        }
      ],
      "source": [
        "print (text1)\n",
        "print (text2)\n",
        "print('Similar context with bones in text1:')\n",
        "print (text1.similar(\"bones\"))\n",
        "print('\\nSimilar context with bones in text2:')\n",
        "print (text2.similar(\"bones\"))\n",
        "\n",
        "print('\\nCommon contexts between bones and one in text1:')\n",
        "print (text1.common_contexts([\"bones\", \"one\"]))"
      ]
    },
    {
      "cell_type": "markdown",
      "metadata": {
        "id": "ymSX25rM0Xj6"
      },
      "source": [
        "### Приклад 9. Візуалізація розподілу слів за текстами"
      ]
    },
    {
      "cell_type": "code",
      "execution_count": null,
      "metadata": {
        "colab": {
          "base_uri": "https://localhost:8080/",
          "height": 72
        },
        "id": "Kgbphy6n0Xj6",
        "outputId": "723fc199-9190-4dfb-d5a7-49172ba39540"
      },
      "outputs": [
        {
          "output_type": "stream",
          "name": "stdout",
          "text": [
            "['In', 'the', 'beginning', 'God', 'created', 'the', 'heaven', 'and', 'the', 'earth', '.', 'And', 'the', 'earth', 'was', 'without', 'form', ',', 'and', 'void', ';', 'and', 'darkness', 'was', 'upon', 'the', 'face', 'of', 'the', 'deep', '.', 'And', 'the', 'Spirit', 'of', 'God', 'moved', 'upon', 'the', 'face', 'of', 'the', 'waters', '.', 'And', 'God', 'said', ',', 'Let', 'there', 'be', 'light', ':', 'and', 'there', 'was', 'light', '.', 'And', 'God', 'saw', 'the', 'light', ',', 'that', 'it', 'was', 'good', ':', 'and', 'God', 'divided', 'the', 'light', 'from', 'the', 'darkness', '.', 'And', 'God', 'called', 'the', 'light', 'Day', ',', 'and', 'the', 'darkness', 'he', 'called', 'Night', '.', 'And', 'the', 'evening', 'and', 'the', 'morning', 'were', 'the']\n"
          ]
        },
        {
          "output_type": "display_data",
          "data": {
            "text/plain": [
              "<Figure size 640x480 with 1 Axes>"
            ],
            "image/png": "[encoded data removed]"
          },
          "metadata": {}
        }
      ],
      "source": [
        "print(text3[0:100])\n",
        "\n",
        "text3.dispersion_plot([\"God\", \"genesis\", \"Spirit\", \"form\"])"
      ]
    },
    {
      "cell_type": "markdown",
      "metadata": {
        "id": "0N9zPDby0Xj6"
      },
      "source": [
        "### Приклад 10. Визначення довжини тексту (кількість символів у тексті)"
      ]
    },
    {
      "cell_type": "code",
      "execution_count": null,
      "metadata": {
        "colab": {
          "base_uri": "https://localhost:8080/"
        },
        "id": "hAR10mpQ0Xj6",
        "outputId": "337e649e-e8ec-4b9d-b5d2-edc07cd1312a"
      },
      "outputs": [
        {
          "output_type": "stream",
          "name": "stdout",
          "text": [
            "Text 4: <Text: Inaugural Address Corpus> has bigger length than text 3 <Text: The Book of Genesis>\n"
          ]
        }
      ],
      "source": [
        "len4 = (len(text4))\n",
        "len3 = (len(text3))\n",
        "\n",
        "if (len4 > len3):\n",
        "    print(f'Text 4: {text4} has bigger length than text 3 {text3}')\n",
        "else:\n",
        "    print(f'Text 3: {text3} has bigger length than text 4 {text4}')\n"
      ]
    },
    {
      "cell_type": "markdown",
      "metadata": {
        "id": "K5sdGlqw0Xj6"
      },
      "source": [
        "### Приклад 11. Виділення всіх токенов, які зустрічаються в тексті, без повторень,  а потім їх сортування за алфавітом"
      ]
    },
    {
      "cell_type": "code",
      "execution_count": null,
      "metadata": {
        "colab": {
          "base_uri": "https://localhost:8080/"
        },
        "id": "cSgpu4Kb0Xj7",
        "outputId": "5afc1379-b1ce-4ae3-ecf1-fd6bfde91918"
      },
      "outputs": [
        {
          "output_type": "stream",
          "name": "stdout",
          "text": [
            "Length of original text 9 <Text: The Man Who Was Thursday by G . K . Chesterton 1908>: 69213\n",
            "Length of original sorted tokens of text 9: 6807\n",
            "Length of text 9 is in 10.17 times bigger that length of its unique tokens\n"
          ]
        }
      ],
      "source": [
        "t9_sortedset = sorted(set(text9))\n",
        "# print (t3)\n",
        "print(f'Length of original text 9 {text9}: {len(text9)}')\n",
        "print (f'Length of original sorted tokens of text 9: {len(t9_sortedset)}')\n",
        "print (f'Length of text 9 is in {np.round(len(text9) / len(set(text9)), 2)} times bigger that length of its unique tokens')\n"
      ]
    },
    {
      "cell_type": "markdown",
      "metadata": {
        "id": "IC4_lM760Xj7"
      },
      "source": [
        "### Приклад 12. Визначення частоти появи токена в тексті (скільки разів токен  зустрівся в тексті)"
      ]
    },
    {
      "cell_type": "code",
      "execution_count": null,
      "metadata": {
        "colab": {
          "base_uri": "https://localhost:8080/"
        },
        "id": "Dl4P6DFz0Xj7",
        "outputId": "b09a16b4-8316-42a1-96da-c1d71a11507a"
      },
      "outputs": [
        {
          "output_type": "stream",
          "name": "stdout",
          "text": [
            "Getting amount of times captain was mentioned using count: 112\n",
            "Getting amount of times captain was mentioned using FreqDict: 112\n"
          ]
        }
      ],
      "source": [
        "word = 'captain'\n",
        "\n",
        "print (f'Getting amount of times {word} was mentioned using count: {text1.count(\"captain\")}')\n",
        "fdict = FreqDist(text1)\n",
        "print (f'Getting amount of times {word} was mentioned using FreqDict: {fdict[\"captain\"]}')"
      ]
    },
    {
      "cell_type": "markdown",
      "metadata": {
        "id": "EkImT6eC0Xj7"
      },
      "source": [
        "### Приклад 13. Визначення з якою ймовірністю токен зустрівся в тексті"
      ]
    },
    {
      "cell_type": "code",
      "execution_count": null,
      "metadata": {
        "id": "x-KBSiGm0Xj7"
      },
      "outputs": [],
      "source": [
        "def percentage(count, total):\n",
        " return 100 * count / total"
      ]
    },
    {
      "cell_type": "code",
      "execution_count": null,
      "metadata": {
        "colab": {
          "base_uri": "https://localhost:8080/"
        },
        "id": "7mUbP-xr0Xj7",
        "outputId": "f79f9fc5-0f30-43d1-f9d8-fdc49d9b0bc4"
      },
      "outputs": [
        {
          "output_type": "stream",
          "name": "stdout",
          "text": [
            "Probability using percentage func: 0.04294165685782094\n",
            "Probability using FreqDict: 0.04294165685782094\n"
          ]
        }
      ],
      "source": [
        "print(f'Probability using percentage func: {percentage(text1.count(word), len(text1))}')\n",
        "\n",
        "print(f'Probability using FreqDict: {100 * fdict[word]/len(text1)}')"
      ]
    },
    {
      "cell_type": "markdown",
      "metadata": {
        "id": "SMryJPZH0Xj7"
      },
      "source": [
        "## Взяти довільний текст на англійській мові, не менше 50 слів без пробілів. Застосувати для цього тексту алгоритм Портера, Ланкастера і WordNet лематизатор."
      ]
    },
    {
      "cell_type": "code",
      "execution_count": null,
      "metadata": {
        "colab": {
          "base_uri": "https://localhost:8080/"
        },
        "id": "zzPs-GL20Xj7",
        "outputId": "7ad983da-dba0-4378-a308-41e237cb5640"
      },
      "outputs": [
        {
          "output_type": "stream",
          "name": "stdout",
          "text": [
            "54\n"
          ]
        }
      ],
      "source": [
        "hp_and_the_prisoner_of_azkaban = 'Harry Potter was a highly unusual boy in many ways. For one thing, he hated the summer holidays more than any other time of year. For another, he really wanted to do his homework, but was forced to do it in secret, in the dead of night.'\n",
        "\n",
        "tokens = word_tokenize(hp_and_the_prisoner_of_azkaban)\n",
        "\n",
        "print(len(tokens))"
      ]
    },
    {
      "cell_type": "code",
      "execution_count": null,
      "metadata": {
        "colab": {
          "base_uri": "https://localhost:8080/"
        },
        "id": "tClhBMKZ0Xj8",
        "outputId": "85c4c6ca-22c3-4468-901b-0a2b7c6c01d2"
      },
      "outputs": [
        {
          "output_type": "stream",
          "name": "stdout",
          "text": [
            "('Harry', 'harri')\n",
            "('Potter', 'potter')\n",
            "('was', 'wa')\n",
            "('highly', 'highli')\n",
            "('unusual', 'unusu')\n",
            "('many', 'mani')\n",
            "('ways', 'way')\n",
            "('For', 'for')\n",
            "('hated', 'hate')\n",
            "('holidays', 'holiday')\n",
            "('any', 'ani')\n",
            "('For', 'for')\n",
            "('another', 'anoth')\n",
            "('really', 'realli')\n",
            "('wanted', 'want')\n",
            "('his', 'hi')\n",
            "('was', 'wa')\n",
            "('forced', 'forc')\n"
          ]
        }
      ],
      "source": [
        "# Porter stemmer\n",
        "porter = nltk.PorterStemmer()\n",
        "\n",
        "stem_check = [(t, porter.stem(t)) for t in tokens]\n",
        "\n",
        "for i in stem_check:\n",
        "    if (i[0] != i[1]):\n",
        "        print(i)\n"
      ]
    },
    {
      "cell_type": "code",
      "execution_count": null,
      "metadata": {
        "colab": {
          "base_uri": "https://localhost:8080/"
        },
        "id": "QPPfjM_v0Xj8",
        "outputId": "feb9553a-b594-4fba-9d13-5e4bee53f468"
      },
      "outputs": [
        {
          "output_type": "stream",
          "name": "stdout",
          "text": [
            "('Harry', 'harry')\n",
            "('Potter', 'pot')\n",
            "('highly', 'high')\n",
            "('unusual', 'unus')\n",
            "('ways', 'way')\n",
            "('For', 'for')\n",
            "('one', 'on')\n",
            "('hated', 'hat')\n",
            "('summer', 'sum')\n",
            "('holidays', 'holiday')\n",
            "('more', 'mor')\n",
            "('other', 'oth')\n",
            "('time', 'tim')\n",
            "('For', 'for')\n",
            "('another', 'anoth')\n",
            "('really', 'real')\n",
            "('wanted', 'want')\n",
            "('forced', 'forc')\n"
          ]
        }
      ],
      "source": [
        "# Lancaster stemmer\n",
        "\n",
        "lancaster = nltk.LancasterStemmer()\n",
        "\n",
        "stem_check = [(t, lancaster.stem(t)) for t in tokens]\n",
        "\n",
        "for i in stem_check:\n",
        "    if (i[0] != i[1]):\n",
        "        print(i)\n"
      ]
    },
    {
      "cell_type": "code",
      "execution_count": null,
      "metadata": {
        "colab": {
          "base_uri": "https://localhost:8080/"
        },
        "id": "JaFrogJv0Xj8",
        "outputId": "d0128d60-2b9c-4259-bdf3-79fdb0d667e7"
      },
      "outputs": [
        {
          "output_type": "stream",
          "name": "stdout",
          "text": [
            "('was', 'wa')\n",
            "('ways', 'way')\n",
            "('holidays', 'holiday')\n",
            "('was', 'wa')\n"
          ]
        }
      ],
      "source": [
        "# WordNet\n",
        "\n",
        "wnl = nltk.WordNetLemmatizer()\n",
        "\n",
        "lemmatized = [(t, wnl.lemmatize(t)) for t in tokens]\n",
        "\n",
        "for i in lemmatized:\n",
        "    if (i[0] != i[1]):\n",
        "        print(i)"
      ]
    },
    {
      "cell_type": "markdown",
      "metadata": {
        "id": "9GrRMouI0Xj8"
      },
      "source": [
        "## Для лематизатора WordNet розрахувати точність роботи. Точність розраховувати за формулою: де P – це кількість правильно перетворених слів, а N – загальна кількість слів.\n"
      ]
    },
    {
      "cell_type": "code",
      "source": [
        "correct_dict = {'was': 'be', 'hated': 'hate', 'ways': 'way', 'holidays': 'holiday', 'wanted': 'want', 'forced': 'force'}\n",
        "\n",
        "P = 0\n",
        "N = len(lemmatized)\n",
        "\n",
        "\n",
        "for token, lemma in lemmatized:\n",
        "    if token not in correct_dict or lemma == correct_dict[token]:\n",
        "        P += 1\n",
        "\n",
        "accuracy = P / N * 100\n",
        "print(\"Accuracy:\", accuracy, \"%\")"
      ],
      "metadata": {
        "colab": {
          "base_uri": "https://localhost:8080/"
        },
        "id": "UOroa69Q0cSG",
        "outputId": "778246f3-42a1-499f-c425-88f857096d51"
      },
      "execution_count": null,
      "outputs": [
        {
          "output_type": "stream",
          "name": "stdout",
          "text": [
            "Accuracy: 90.74074074074075 %\n"
          ]
        }
      ]
    },
    {
      "cell_type": "markdown",
      "source": [
        "# Practice 3"
      ],
      "metadata": {
        "id": "rvzDcEZczmh8"
      }
    },
    {
      "cell_type": "markdown",
      "source": [
        "## Part 1"
      ],
      "metadata": {
        "id": "jtHs5vS54x9H"
      }
    },
    {
      "cell_type": "markdown",
      "source": [
        "### 1. Встановіть пакет nltk та “book collection” NLTK-Data."
      ],
      "metadata": {
        "id": "N0byKvqT48FA"
      }
    },
    {
      "cell_type": "code",
      "source": [
        "import nltk\n",
        "from nltk.book import *"
      ],
      "metadata": {
        "id": "ozXa48Hu6YE0"
      },
      "execution_count": null,
      "outputs": []
    },
    {
      "cell_type": "markdown",
      "source": [
        "### 2. Перегляньте назви книг встановлених корпусів."
      ],
      "metadata": {
        "id": "iPlP8v144_kw"
      }
    },
    {
      "cell_type": "code",
      "source": [
        "print(nltk.corpus.gutenberg.fileids())"
      ],
      "metadata": {
        "colab": {
          "base_uri": "https://localhost:8080/"
        },
        "id": "XV8seV-t6e1e",
        "outputId": "5e5627aa-6937-4b72-d6f3-edbd415da6be"
      },
      "execution_count": null,
      "outputs": [
        {
          "output_type": "stream",
          "name": "stdout",
          "text": [
            "['austen-emma.txt', 'austen-persuasion.txt', 'austen-sense.txt', 'bible-kjv.txt', 'blake-poems.txt', 'bryant-stories.txt', 'burgess-busterbrown.txt', 'carroll-alice.txt', 'chesterton-ball.txt', 'chesterton-brown.txt', 'chesterton-thursday.txt', 'edgeworth-parents.txt', 'melville-moby_dick.txt', 'milton-paradise.txt', 'shakespeare-caesar.txt', 'shakespeare-hamlet.txt', 'shakespeare-macbeth.txt', 'whitman-leaves.txt']\n"
          ]
        }
      ]
    },
    {
      "cell_type": "markdown",
      "source": [
        "### 3. Виведіть на екран назву третього та четвертого тексту з “book collection” NLTK-Data"
      ],
      "metadata": {
        "id": "-c2NyJLr5DT9"
      }
    },
    {
      "cell_type": "code",
      "source": [
        "print(text3.name)\n",
        "print(text4.name)"
      ],
      "metadata": {
        "colab": {
          "base_uri": "https://localhost:8080/"
        },
        "id": "KrqzLTs76s7m",
        "outputId": "a61d3c0e-890a-416b-bada-7bf4d1c8df12"
      },
      "execution_count": null,
      "outputs": [
        {
          "output_type": "stream",
          "name": "stdout",
          "text": [
            "The Book of Genesis\n",
            "Inaugural Address Corpus\n"
          ]
        }
      ]
    },
    {
      "cell_type": "markdown",
      "source": [
        "### 4. Створіть текстовий файл, який містить текст:\n",
        "With a solid plan and time for revision, most writing tasks can be completed with ease? This course is for those interested in improving their professional writing. Learn how to improve your writing’s organization, logic, and style so that whatever kind of writing your work requires, you can get your point [across] eloquently and quickly! This COURSE : will delve into the mechanics of the writing process: identifying an audience, choosing the best structure, and revising early drafts of your work. You will build confidence as you practice planning documents; using [organizational] [strategies] such headings and subheadings, and finding misused words and proofreading errors."
      ],
      "metadata": {
        "id": "QuOGVcHB5GmW"
      }
    },
    {
      "cell_type": "code",
      "source": [
        "text = \"\"\"With a solid plan and time for revision, most writing tasks can be completed with ease? This course is for those interested in improving their professional writing. Learn how to improve your writing’s organization, logic, and style so that whatever kind of writing your work requires, you can get your point [across] eloquently and quickly! This COURSE : will delve into the mechanics of the writing process: identifying an audience, choosing the best structure, and revising early drafts of your work. You will build confidence as you practice planning documents; using [organizational] [strategies] such headings and subheadings, and finding misused words and proofreading errors.\"\"\"\n",
        "\n",
        "with open(\"task4.txt\", \"w\", encoding=\"utf-8\") as file:\n",
        "    file.write(text)\n",
        "\n",
        "print(\"Текст успішно записано у файл writing_course.txt\")"
      ],
      "metadata": {
        "colab": {
          "base_uri": "https://localhost:8080/"
        },
        "id": "qUfk6U3u60ND",
        "outputId": "f80cb56d-2e90-4d5c-84bc-8ad1bb1180a5"
      },
      "execution_count": null,
      "outputs": [
        {
          "output_type": "stream",
          "name": "stdout",
          "text": [
            "Текст успішно записано у файл writing_course.txt\n"
          ]
        }
      ]
    },
    {
      "cell_type": "markdown",
      "source": [
        "### 5. Розділіть текст на речення."
      ],
      "metadata": {
        "id": "TisXSjuG5ToQ"
      }
    },
    {
      "cell_type": "code",
      "source": [
        "# Зчитування тексту з файлу\n",
        "with open(\"task4.txt\", \"r\", encoding=\"utf-8\") as file:\n",
        "    text = file.read()\n",
        "\n",
        "# Використання бібліотеки NLTK для розділення тексту на речення\n",
        "sentences = nltk.sent_tokenize(text)\n",
        "\n",
        "for i, sent in enumerate(sentences):\n",
        "  print(f'Sentence {i + 1}: {sent}')"
      ],
      "metadata": {
        "colab": {
          "base_uri": "https://localhost:8080/"
        },
        "id": "o6vfVH7j7auu",
        "outputId": "17dcf829-7a6e-4c83-d1e5-c88b5267d27d"
      },
      "execution_count": null,
      "outputs": [
        {
          "output_type": "stream",
          "name": "stdout",
          "text": [
            "Sentence 1: With a solid plan and time for revision, most writing tasks can be completed with ease?\n",
            "Sentence 2: This course is for those interested in improving their professional writing.\n",
            "Sentence 3: Learn how to improve your writing’s organization, logic, and style so that whatever kind of writing your work requires, you can get your point [across] eloquently and quickly!\n",
            "Sentence 4: This COURSE : will delve into the mechanics of the writing process: identifying an audience, choosing the best structure, and revising early drafts of your work.\n",
            "Sentence 5: You will build confidence as you practice planning documents; using [organizational] [strategies] such headings and subheadings, and finding misused words and proofreading errors.\n"
          ]
        }
      ]
    },
    {
      "cell_type": "markdown",
      "source": [
        "### 6. Розділіть на токени друге та третє речення."
      ],
      "metadata": {
        "id": "UAsJeOk65Wcw"
      }
    },
    {
      "cell_type": "code",
      "source": [
        "sent2_tokenized = word_tokenize(sentences[1])\n",
        "sent3_tokenized = word_tokenize(sentences[2])\n",
        "print(sent2_tokenized)\n",
        "print(sent3_tokenized)"
      ],
      "metadata": {
        "colab": {
          "base_uri": "https://localhost:8080/"
        },
        "id": "sEuqMpBv71JN",
        "outputId": "ab2bc558-7b66-4f9e-c4a1-589779be4b3d"
      },
      "execution_count": null,
      "outputs": [
        {
          "output_type": "stream",
          "name": "stdout",
          "text": [
            "['This', 'course', 'is', 'for', 'those', 'interested', 'in', 'improving', 'their', 'professional', 'writing', '.']\n",
            "['Learn', 'how', 'to', 'improve', 'your', 'writing', '’', 's', 'organization', ',', 'logic', ',', 'and', 'style', 'so', 'that', 'whatever', 'kind', 'of', 'writing', 'your', 'work', 'requires', ',', 'you', 'can', 'get', 'your', 'point', '[', 'across', ']', 'eloquently', 'and', 'quickly', '!']\n"
          ]
        }
      ]
    },
    {
      "cell_type": "markdown",
      "source": [
        "### 7. Створіть словник унікальних слів тексту."
      ],
      "metadata": {
        "id": "0hJxubK-5ZPR"
      }
    },
    {
      "cell_type": "code",
      "source": [
        "with open(\"task4.txt\", \"r\", encoding=\"utf-8\") as file:\n",
        "    text = file.read()\n",
        "\n",
        "words = word_tokenize(text)\n",
        "\n",
        "unique_words = set(words)\n",
        "print(sorted(unique_words))"
      ],
      "metadata": {
        "colab": {
          "base_uri": "https://localhost:8080/"
        },
        "id": "JvdsPbGt8Id-",
        "outputId": "ce87cefe-e8af-491e-8053-477d1b75ba15"
      },
      "execution_count": null,
      "outputs": [
        {
          "output_type": "stream",
          "name": "stdout",
          "text": [
            "['!', ',', '.', ':', ';', '?', 'COURSE', 'Learn', 'This', 'With', 'You', '[', ']', 'a', 'across', 'an', 'and', 'as', 'audience', 'be', 'best', 'build', 'can', 'choosing', 'completed', 'confidence', 'course', 'delve', 'documents', 'drafts', 'early', 'ease', 'eloquently', 'errors', 'finding', 'for', 'get', 'headings', 'how', 'identifying', 'improve', 'improving', 'in', 'interested', 'into', 'is', 'kind', 'logic', 'mechanics', 'misused', 'most', 'of', 'organization', 'organizational', 'plan', 'planning', 'point', 'practice', 'process', 'professional', 'proofreading', 'quickly', 'requires', 'revising', 'revision', 's', 'so', 'solid', 'strategies', 'structure', 'style', 'subheadings', 'such', 'tasks', 'that', 'the', 'their', 'those', 'time', 'to', 'using', 'whatever', 'will', 'with', 'words', 'work', 'writing', 'you', 'your', '’']\n"
          ]
        }
      ]
    },
    {
      "cell_type": "markdown",
      "source": [
        "### 8. За допомогою створеного регулярного виразу знайдіть перший підрядок, написаний у дужках. Виведіть його на екран."
      ],
      "metadata": {
        "id": "h_kHuJwB5eXr"
      }
    },
    {
      "cell_type": "code",
      "source": [
        "import re\n",
        "\n",
        "# Зчитування тексту з файлу\n",
        "with open(\"task4.txt\", \"r\", encoding=\"utf-8\") as file:\n",
        "    text = file.read()\n",
        "\n",
        "# Пошук першого підрядка, написаного у дужках, за допомогою регулярного виразу\n",
        "match = re.search(r'\\[(.*?)\\]', text)\n",
        "\n",
        "# Виведення знайденого підрядка на екран\n",
        "if match:\n",
        "    print(\"Перший підрядок, написаний у дужках:\", match.group(1))\n",
        "else:\n",
        "    print(\"Дужок у тексті не знайдено\")"
      ],
      "metadata": {
        "colab": {
          "base_uri": "https://localhost:8080/"
        },
        "id": "fgIuvsJH84iO",
        "outputId": "9e71774c-56f0-4c22-8180-3741d028cfa6"
      },
      "execution_count": null,
      "outputs": [
        {
          "output_type": "stream",
          "name": "stdout",
          "text": [
            "Перший підрядок, написаний у дужках: across\n"
          ]
        }
      ]
    },
    {
      "cell_type": "markdown",
      "source": [
        "### 9. У четвертому реченні знайдіть і виведіть на екран підрядок, записаний ве-ликими літерами і пробілами, після яких стоїть двокрапка."
      ],
      "metadata": {
        "id": "MK3QYPr35hTZ"
      }
    },
    {
      "cell_type": "code",
      "source": [
        "# Пошук першого підрядка, написаного у дужках, за допомогою регулярного виразу\n",
        "match = re.search(r'([A-Z\\s]+:)', sentences[3])\n",
        "\n",
        "# Виведення знайденого підрядка на екран\n",
        "if match:\n",
        "    print(\"Підрядок з великими літерами та двокракою:\", match.group(1))\n",
        "else:\n",
        "    print(\"Підрядка не знайдено\")"
      ],
      "metadata": {
        "colab": {
          "base_uri": "https://localhost:8080/"
        },
        "id": "dYQpVodF9jXg",
        "outputId": "cace1e44-1764-43b7-ac92-c59a779435c6"
      },
      "execution_count": null,
      "outputs": [
        {
          "output_type": "stream",
          "name": "stdout",
          "text": [
            "Підрядок з великими літерами та двокракою:  COURSE :\n"
          ]
        }
      ]
    },
    {
      "cell_type": "markdown",
      "source": [
        "## Part 2"
      ],
      "metadata": {
        "id": "dKsSZ4W740xw"
      }
    },
    {
      "cell_type": "markdown",
      "source": [
        "### 1. Зчитати найбільш сподобавшийся текст з корпусу gutenberg та записати його до файлу lab3.txt."
      ],
      "metadata": {
        "id": "ets8o__UzqiV"
      }
    },
    {
      "cell_type": "code",
      "source": [
        "import requests\n",
        "\n",
        "def download_text(url):\n",
        "    response = requests.get(url)\n",
        "    if response.status_code == 200:\n",
        "        return response.text\n",
        "    else:\n",
        "        return None\n",
        "\n",
        "\n",
        "def write_to_file(text, filename):\n",
        "    with open(filename, 'w', encoding='utf-8') as file:\n",
        "        file.write(text)\n",
        "\n",
        "\n",
        "url = \"https://drive.google.com/file/d/1q9KXV7T1_6y_r37mtbfjdst-VhsBWDI7/view?usp=sharing\"\n",
        "\n",
        "text = ' '.join(text1)\n",
        "\n",
        "if text:\n",
        "    write_to_file(text, \"lab3.txt\")\n",
        "    print(\"Текст успішно записано у файл lab3.txt\")\n",
        "else:\n",
        "    print(\"Не вдалося завантажити текст\")"
      ],
      "metadata": {
        "colab": {
          "base_uri": "https://localhost:8080/"
        },
        "id": "bajZFWrbzxkR",
        "outputId": "40b1cdf1-8d6d-4fab-a0eb-eb49ca42083f"
      },
      "execution_count": null,
      "outputs": [
        {
          "output_type": "stream",
          "name": "stdout",
          "text": [
            "Текст успішно записано у файл lab3.txt\n"
          ]
        }
      ]
    },
    {
      "cell_type": "markdown",
      "source": [
        "### 2. Усі токени файлу lab3.txt записати маленькими літерами, залишити лише літерні токени, створити словник унікальних токенів, відсортувати його."
      ],
      "metadata": {
        "id": "iPaNjMad0y_N"
      }
    },
    {
      "cell_type": "code",
      "source": [
        "import re\n",
        "\n",
        "def process_text(filename):\n",
        "    unique_tokens = set()\n",
        "\n",
        "    with open(filename, 'r', encoding='utf-8') as file:\n",
        "        text = file.read()\n",
        "        text = text.lower()\n",
        "        tokens = re.findall(r'\\b[a-z]+\\b', text)\n",
        "\n",
        "        for token in tokens:\n",
        "            unique_tokens.add(token)\n",
        "\n",
        "    return sorted(list(unique_tokens))  # сортування та повернення списку унікальних токенів\n",
        "\n",
        "\n",
        "filename = \"lab3.txt\"\n",
        "unique_tokens = process_text(filename)\n",
        "\n",
        "print(\"Унікальні токени (відсортовані - перші 10):\")\n",
        "print(unique_tokens[:10])\n",
        "print(\"Унікальні токени (відсортовані - останні 10):\")\n",
        "print(unique_tokens[-10:])"
      ],
      "metadata": {
        "colab": {
          "base_uri": "https://localhost:8080/"
        },
        "id": "BEQaN5V704qU",
        "outputId": "876d3ff5-3698-47d0-f296-6827a0c7a535"
      },
      "execution_count": null,
      "outputs": [
        {
          "output_type": "stream",
          "name": "stdout",
          "text": [
            "Унікальні токени (відсортовані - перші 10):\n",
            "['a', 'aback', 'abaft', 'abandon', 'abandoned', 'abandonedly', 'abandonment', 'abased', 'abasement', 'abashed']\n",
            "Унікальні токени (відсортовані - останні 10):\n",
            "['zephyr', 'zeuglodon', 'zig', 'zodiac', 'zogranda', 'zone', 'zoned', 'zones', 'zoology', 'zoroaster']\n"
          ]
        }
      ]
    },
    {
      "cell_type": "markdown",
      "source": [
        "### 3. Розглянути різні варіанти токенізації нижче наведеного тексту. Описати їх особливості, по-різному визначаючи токени. Останнім варіантом виділити лише буквені слова."
      ],
      "metadata": {
        "id": "fMhxI8EI1YYP"
      }
    },
    {
      "cell_type": "code",
      "source": [
        "text = \"'Kinto by Mozilla - An open source Parse alternative >> https://github.com/Kinto/kinto/ #python #parse OOOOOOO!!! @kindl!\"\n",
        "\n",
        "tokens_space = text.split()\n",
        "\n",
        "tokens_regex = re.findall(r'\\b\\w+\\b|[^\\w\\s]', text)\n",
        "\n",
        "tokens_alpha = re.findall(r'\\b\\w+\\b', text)\n",
        "\n",
        "print(\"Розділення, використовуючи nltk:\", word_tokenize(text))\n",
        "print(\"Розділення за пробілами:\", tokens_space)\n",
        "print(\"Розділення за регулярним виразом:\", tokens_regex)\n",
        "print(\"Виділення тільки буквених слів:\", tokens_alpha)"
      ],
      "metadata": {
        "colab": {
          "base_uri": "https://localhost:8080/"
        },
        "id": "yZPFcRW41dSX",
        "outputId": "ffbca88c-873f-457f-d307-1324779fcc90"
      },
      "execution_count": null,
      "outputs": [
        {
          "output_type": "stream",
          "name": "stdout",
          "text": [
            "Розділення, використовуючи nltk: [\"'Kinto\", 'by', 'Mozilla', '-', 'An', 'open', 'source', 'Parse', 'alternative', '>', '>', 'https', ':', '//github.com/Kinto/kinto/', '#', 'python', '#', 'parse', 'OOOOOOO', '!', '!', '!', '@', 'kindl', '!']\n",
            "Розділення за пробілами: [\"'Kinto\", 'by', 'Mozilla', '-', 'An', 'open', 'source', 'Parse', 'alternative', '>>', 'https://github.com/Kinto/kinto/', '#python', '#parse', 'OOOOOOO!!!', '@kindl!']\n",
            "Розділення за регулярним виразом: [\"'\", 'Kinto', 'by', 'Mozilla', '-', 'An', 'open', 'source', 'Parse', 'alternative', '>', '>', 'https', ':', '/', '/', 'github', '.', 'com', '/', 'Kinto', '/', 'kinto', '/', '#', 'python', '#', 'parse', 'OOOOOOO', '!', '!', '!', '@', 'kindl', '!']\n",
            "Виділення тільки буквених слів: ['Kinto', 'by', 'Mozilla', 'An', 'open', 'source', 'Parse', 'alternative', 'https', 'github', 'com', 'Kinto', 'kinto', 'python', 'parse', 'OOOOOOO', 'kindl']\n"
          ]
        }
      ]
    },
    {
      "cell_type": "markdown",
      "source": [
        "### 4. Використовуючи наявний список твітів, виділити, за допомогою функ-ції regexp_tokenize() у першому твіті (і останньому твіті) токени з хеш-тегами, тобто. що починаються з символу \\# або з символу @ (подібно до \\#Data або @text)\n",
        "\n",
        "[“ #True_store In the ZONE: The Official Music Video, Jut Now @example”,\n",
        "\n",
        "“Katie #UTE @B0TTersnike. By far your bestalbum since Won’t Go Quietly @example back to your best”,\n",
        "\n",
        "”@realDonalTrump FLORIDA – it is imperative that you heed the directions of your State and Local Officials. Please be prepared, be careful and be SAFE! #HurricaneMichael ready gov”,\n",
        "\n",
        "“@NWSTallahassee 8am Intermediate Advisory from @NHC_Atlantic upgrades #HurricaneMichael into a category 2 hurricane.”]"
      ],
      "metadata": {
        "id": "1HOQmH2h5lOu"
      }
    },
    {
      "cell_type": "code",
      "source": [
        "twits = ['#True_store In the ZOOOOOOOONE: The Official Music Video, Jut Now @example',\n",
        "\n",
        "'Katie #UTE @B0TTersnike. By far your bestalbum since Won’t Go Quietly @example back to your best',\n",
        "\n",
        "'@realDonalTrump FLORIDA – it is imperative that you heed the directions of your State and Local Officials. Please be prepared, be careful and be SAFE! #HurricaneMichael ready gov',\n",
        "\n",
        "'@NWSTallahassee 8am Intermediate Advisory from @NHC_Atlantic upgrades #HurricaneMichael into a category 2 hurricane.']"
      ],
      "metadata": {
        "id": "Gypt2aRQ_H9H"
      },
      "execution_count": null,
      "outputs": []
    },
    {
      "cell_type": "code",
      "source": [
        "from nltk.tokenize import regexp_tokenize\n",
        "\n",
        "pattern= r\"[#@]\\w+\"\n",
        "\n",
        "print (regexp_tokenize(twits[0], pattern))\n",
        "print (regexp_tokenize(twits[-1], pattern))"
      ],
      "metadata": {
        "colab": {
          "base_uri": "https://localhost:8080/"
        },
        "id": "fFPJYsIr_Z4P",
        "outputId": "80fc31d4-ff44-4d89-bec8-dfb8bb6a3dcd"
      },
      "execution_count": null,
      "outputs": [
        {
          "output_type": "stream",
          "name": "stdout",
          "text": [
            "['#True_store', '@example']\n",
            "['@NWSTallahassee', '@NHC_Atlantic', '#HurricaneMichael']\n"
          ]
        }
      ]
    },
    {
      "cell_type": "markdown",
      "source": [
        "### 5. Використовуючи екземпляр класу TweetTokenizer, виведіть на екран токени всіх твітів."
      ],
      "metadata": {
        "id": "-eHimHX559za"
      }
    },
    {
      "cell_type": "code",
      "source": [
        "from nltk.tokenize import TweetTokenizer\n",
        "\n",
        "tknzr=TweetTokenizer()\n",
        "\n",
        "print('Basic tokenization:')\n",
        "for i, twit in enumerate(twits):\n",
        "  print(f'Twit {i +1} tokens: {tknzr.tokenize(twit)}')\n",
        "\n",
        "tknzr_custom=TweetTokenizer(strip_handles=True, reduce_len=True, preserve_case=False)\n",
        "\n",
        "print('\\nCustom tokenization:')\n",
        "for i, twit in enumerate(twits):\n",
        "  print(f'Twit {i +1} tokens: {tknzr_custom.tokenize(twit)}')"
      ],
      "metadata": {
        "colab": {
          "base_uri": "https://localhost:8080/"
        },
        "id": "rGP6z3hiA4DR",
        "outputId": "33d5503b-54c5-47b7-8377-4376552e35ea"
      },
      "execution_count": null,
      "outputs": [
        {
          "output_type": "stream",
          "name": "stdout",
          "text": [
            "Basic tokenization:\n",
            "Twit 1 tokens: ['#True_store', 'In', 'the', 'ZOOOOOOOONE', ':', 'The', 'Official', 'Music', 'Video', ',', 'Jut', 'Now', '@example']\n",
            "Twit 2 tokens: ['Katie', '#UTE', '@B0TTersnike', '.', 'By', 'far', 'your', 'bestalbum', 'since', 'Won', '’', 't', 'Go', 'Quietly', '@example', 'back', 'to', 'your', 'best']\n",
            "Twit 3 tokens: ['@realDonalTrump', 'FLORIDA', '–', 'it', 'is', 'imperative', 'that', 'you', 'heed', 'the', 'directions', 'of', 'your', 'State', 'and', 'Local', 'Officials', '.', 'Please', 'be', 'prepared', ',', 'be', 'careful', 'and', 'be', 'SAFE', '!', '#HurricaneMichael', 'ready', 'gov']\n",
            "Twit 4 tokens: ['@NWSTallahassee', '8am', 'Intermediate', 'Advisory', 'from', '@NHC_Atlantic', 'upgrades', '#HurricaneMichael', 'into', 'a', 'category', '2', 'hurricane', '.']\n",
            "\n",
            "Custom tokenization:\n",
            "Twit 1 tokens: ['#true_store', 'in', 'the', 'zooone', ':', 'the', 'official', 'music', 'video', ',', 'jut', 'now']\n",
            "Twit 2 tokens: ['katie', '#ute', '.', 'by', 'far', 'your', 'bestalbum', 'since', 'won', '’', 't', 'go', 'quietly', 'back', 'to', 'your', 'best']\n",
            "Twit 3 tokens: ['florida', '–', 'it', 'is', 'imperative', 'that', 'you', 'heed', 'the', 'directions', 'of', 'your', 'state', 'and', 'local', 'officials', '.', 'please', 'be', 'prepared', ',', 'be', 'careful', 'and', 'be', 'safe', '!', '#hurricanemichael', 'ready', 'gov']\n",
            "Twit 4 tokens: ['8am', 'intermediate', 'advisory', 'from', 'upgrades', '#hurricanemichael', 'into', 'a', 'category', '2', 'hurricane', '.']\n"
          ]
        }
      ]
    },
    {
      "cell_type": "markdown",
      "source": [
        "### 6. Використовуючи функцію regexp_tokenize() виділити з рядка \"That U.S.A. and USA poster-print costs $12.40 at New-York... $145.9%\" (або будь-якого іншого подібного рядка тексту) токени, що пред-ставляють звичайні слова, абревіатури, слова з дефісом, валюту (число з точ-кою, що починається зі знака $ і можливо має знак % наприкінці числа) і три крапочки (…)."
      ],
      "metadata": {
        "id": "H7BLU6F66BOj"
      }
    },
    {
      "cell_type": "code",
      "source": [
        "sent = \"That U.S.A and USA poster-print costs $12.40 at New-York...$145.9%\"\n",
        "\n",
        "\n",
        "pattern = r\"(\\.{3}|\\w+-\\w+|\\$\\d+\\.?\\d+%?|(?:[A-Z]\\.?)+[A-Z])\"\n",
        "# \\.{3} - ...\n",
        "# [A-Za-z]+-[A-Za-z]+ - word-word\n",
        "# \\$\\d+\\.?\\d+%? - $87.89/$87.89%\n",
        "# (?:[A-Z]\\.?)+[A-Z]) U.S.A/USA\n",
        "\n",
        "print (regexp_tokenize(sent, pattern))"
      ],
      "metadata": {
        "id": "4pZf6Se8C6As",
        "colab": {
          "base_uri": "https://localhost:8080/"
        },
        "outputId": "d9525692-8a3b-43b0-ab18-959d86ce2e1e"
      },
      "execution_count": null,
      "outputs": [
        {
          "output_type": "stream",
          "name": "stdout",
          "text": [
            "['U.S.A', 'USA', 'poster-print', '$12.40', 'New-York', '...', '$145.9%']\n"
          ]
        }
      ]
    },
    {
      "cell_type": "markdown",
      "source": [
        "# Practice 4"
      ],
      "metadata": {
        "id": "K5AZUNakMTcl"
      }
    },
    {
      "cell_type": "markdown",
      "source": [
        "## Part 1"
      ],
      "metadata": {
        "id": "uGevyuQqNebG"
      }
    },
    {
      "cell_type": "markdown",
      "source": [
        "### 1. Використовуючи регулярний вираз, що дозволяє виділити закінчення іменників жіночого роду (для української мови), виведіть на екран: (а) закінчення, (б) слово цілком."
      ],
      "metadata": {
        "id": "ne8kdFrUMVnw"
      }
    },
    {
      "cell_type": "code",
      "source": [
        "text = \"дівчина, дівчиною, лілією, хлопець, стіл, красою, динею, лілія, ноутбук\"\n",
        "\n",
        "matches_word = re.findall(r\"\\b\\w+(?:а|я|ею|єю|ою|и|і|ї|у|ю)\\b\", text)\n",
        "\n",
        "matches_end = re.findall(r\"(?:а|я|ею|єю|ою|и|і|ї|у|ю)\\b\", text)\n",
        "\n",
        "print(matches_word)\n",
        "print(matches_end)"
      ],
      "metadata": {
        "colab": {
          "base_uri": "https://localhost:8080/"
        },
        "id": "8sAV5LzRUoa7",
        "outputId": "83606b97-8933-46fc-c520-386ddcedf77b"
      },
      "execution_count": null,
      "outputs": [
        {
          "output_type": "stream",
          "name": "stdout",
          "text": [
            "['дівчина', 'дівчиною', 'лілією', 'красою', 'динею', 'лілія']\n",
            "['а', 'ою', 'єю', 'ою', 'ею', 'я']\n"
          ]
        }
      ]
    },
    {
      "cell_type": "markdown",
      "source": [
        "### 2. Використовуючи регулярний вираз, створіть функцію та здійсніть стемінг фрагмента українського тексту:\n",
        "\n",
        "«Сучасні європейські університети трансформуються в умовах масовізації університетської освіти. Побіжно продемонструємо це на прикладі Великої Британії, вірніше її частини – Англії. Так в Англії понад шість століть існували лише два університети: Оксфордський та Кембриджський. Лише в XIX столітті було засновано ще два університети, один з них у Лондоні»"
      ],
      "metadata": {
        "id": "sU6iMSMGMy6q"
      }
    },
    {
      "cell_type": "code",
      "source": [
        "class MyStemmer:\n",
        "    def __init__(self, endings=None, suffixes=None):\n",
        "        # Initialize the MyStemmer object with optional custom endings and suffixes lists\n",
        "        self.endings = endings if endings else ['і', 'и', 'ться', 'шся', 'ах', 'ях', 'ії', 'ої', 'ь', 'ий', 'у']\n",
        "        self.suffixes = suffixes if suffixes else ['ар', 'яр', 'ич', 'ець', 'ин', 'чшн', 'иц', 'иця', 'ниц', 'ниця', 'ець', 'тель', 'к', 'ка', 'ист', 'іст', 'я', 'ав', 'яв', 'еньк', 'есеньк', 'ісіньк', 'юсіньк', 'ськ', 'цьк', 'зьк', 'и', 'е', 'а', 'ва', 'ти', 'ува', 'юва', 'о', 'є', 'і ', 'у', 'оньк', 'атк', 'ен', 'ець', 'инк', 'иц', 'ищ', 'иськ', 'юр', 'юг', 'ом']\n",
        "\n",
        "    def clean(self, text):\n",
        "        # Remove punctuation and convert words to lowercase\n",
        "        words = word_tokenize(text)\n",
        "        punctuation_pattern = re.compile(r'[^\\w\\s]')\n",
        "        words_wo_punct = [re.sub(punctuation_pattern, '', word) for word in words]\n",
        "        words_wo_punct = [word.lower() for word in words_wo_punct if word]\n",
        "        return ' '.join(words_wo_punct)\n",
        "\n",
        "    def remove_endings(self, text):\n",
        "        # Remove specified endings from words\n",
        "        words = word_tokenize(text)\n",
        "        pattern = r'(' + '|'.join(self.endings) + r')$'\n",
        "        for i, word in enumerate(words):\n",
        "            match = re.search(pattern, word)\n",
        "            if match:\n",
        "                stemmed_word = re.sub(pattern, '', word)\n",
        "                if len(stemmed_word) > 2:\n",
        "                    words[i] = stemmed_word\n",
        "        cleaned_text = ' '.join(words)\n",
        "        return cleaned_text\n",
        "\n",
        "    def remove_suffixes(self, text):\n",
        "        # Remove specified suffixes from words\n",
        "        words = word_tokenize(text)\n",
        "        pattern = r'(' + '|'.join(self.suffixes) + r')$'\n",
        "        for i, word in enumerate(words):\n",
        "            match = re.search(pattern, word)\n",
        "            if match:\n",
        "                stemmed_word = re.sub(pattern, '', word)\n",
        "                if len(stemmed_word) > 2:\n",
        "                    words[i] = stemmed_word\n",
        "        cleaned_text = ' '.join(words)\n",
        "        return cleaned_text\n",
        "\n",
        "    def stem(self, text):\n",
        "        # Apply stemming process (cleaning, removing endings, and removing suffixes)\n",
        "        text = self.clean(text)\n",
        "        return self.remove_suffixes(self.remove_endings(text))\n"
      ],
      "metadata": {
        "id": "UPpmGJEqpE8p"
      },
      "execution_count": null,
      "outputs": []
    },
    {
      "cell_type": "code",
      "source": [
        "from tabulate import tabulate\n",
        "\n",
        "text = \"\"\"\n",
        "Сучасні європейські університети трансформуються в умовах масовізації університетської освіти.\n",
        "Побіжно продемонструємо це на прикладі Великої Британії, вірніше її частини – Англії.\n",
        "Так в Англії понад шість століть існували лише два університети: Оксфордський та Кембриджський.\n",
        "Лише в XIX столітті було засновано ще два університети, один з них у Лондоні\n",
        "\"\"\"\n",
        "# Creating an instance of the MyStemmer class\n",
        "stemmer = MyStemmer()\n",
        "\n",
        "# Stemming the text using the stem method of the MyStemmer class\n",
        "stemmed_text = stemmer.stem(text)\n",
        "\n",
        "# Tokenizing the original and stemmed text\n",
        "tokenized_result = zip(word_tokenize(stemmer.clean(text)), word_tokenize(stemmed_text))\n",
        "\n",
        "# Printing the tokenized results using the tabulate function\n",
        "print(tabulate(tokenized_result, headers=[\"Before\", \"After\"]))"
      ],
      "metadata": {
        "colab": {
          "base_uri": "https://localhost:8080/"
        },
        "id": "O-wcC0qfkc8v",
        "outputId": "eaa8ddd2-950e-4740-8771-e7ed10fa42ae"
      },
      "execution_count": null,
      "outputs": [
        {
          "output_type": "stream",
          "name": "stdout",
          "text": [
            "Before            After\n",
            "----------------  --------------\n",
            "сучасні           сучасн\n",
            "європейські       європей\n",
            "університети      університет\n",
            "трансформуються   трансформую\n",
            "в                 в\n",
            "умовах            умов\n",
            "масовізації       масовізац\n",
            "університетської  університет\n",
            "освіти            освіт\n",
            "побіжно           побіжн\n",
            "продемонструємо   продемонструєм\n",
            "це                це\n",
            "на                на\n",
            "прикладі          приклад\n",
            "великої           вели\n",
            "британії          британ\n",
            "вірніше           вірніш\n",
            "її                її\n",
            "частини           част\n",
            "англії            англ\n",
            "так               так\n",
            "в                 в\n",
            "англії            англ\n",
            "понад             понад\n",
            "шість             шіст\n",
            "століть           століт\n",
            "існували          існувал\n",
            "лише              лиш\n",
            "два               два\n",
            "університети      університет\n",
            "оксфордський      оксфорд\n",
            "та                та\n",
            "кембриджський     кембридж\n",
            "лише              лиш\n",
            "в                 в\n",
            "xix               xix\n",
            "столітті          столітт\n",
            "було              бул\n",
            "засновано         заснован\n",
            "ще                ще\n",
            "два               два\n",
            "університети      університет\n",
            "один              один\n",
            "з                 з\n",
            "них               них\n",
            "у                 у\n",
            "лондоні           лондон\n"
          ]
        }
      ]
    },
    {
      "cell_type": "markdown",
      "source": [
        "### 3. Використовуючи один із вбудованих стемерів пакета nltk, здійсніть стемінг фрагмента тексту й зробіть висновок про можливість використання даного стемера для української мови:\n",
        "\n",
        "Сучасна система вищої освіти Німеччини помітно відрізняється. У Німеччині проголошено принцип «академічної свободи», згідно з яким свобода надана не лише закладам вищої освіти у питаннях управління, а й кожному студенту окремо. У Німеччині немає жорсткої системи навчання в загальному обов'язковому порядку. Тобто багато залежить від самостійності, відповідальності та самодисципліни студента."
      ],
      "metadata": {
        "id": "YRVPn0RYM7bz"
      }
    },
    {
      "cell_type": "code",
      "source": [
        "from nltk.stem import SnowballStemmer\n",
        "\n",
        "text = '''\n",
        "Сучасна система вищої освіти Німеччини помітно відрізняється.\n",
        "У Німеччині проголошено принцип «академічної свободи», згідно з яким свобода надана не лише закладам вищої освіти у питаннях управління, а й кожному студенту окремо.\n",
        "У Німеччині немає жорсткої системи навчання в загальному обов'язковому порядку.\n",
        "Тобто багато залежить від самостійності, відповідальності та самодисципліни студента.\n",
        "'''\n",
        "\n",
        "snowball_stemmer=SnowballStemmer(\"russian\")\n",
        "\n",
        "print(snowball_stemmer.stem(text))\n",
        "\n",
        "# It is obvious that this stemmer won't work, as difference between grammar and lexical part is too big\n"
      ],
      "metadata": {
        "colab": {
          "base_uri": "https://localhost:8080/"
        },
        "id": "ymCXfaUDCeAO",
        "outputId": "6796126d-cdb5-45fa-bd91-2a2cf11ffcd4"
      },
      "execution_count": null,
      "outputs": [
        {
          "output_type": "stream",
          "name": "stdout",
          "text": [
            "\n",
            "сучасна система вищої освіти німеччини помітно відрізняється.\n",
            "у німеччині проголошено принцип «академічної свободи», згідно з яким свобода надана не лише закладам вищої освіти у питаннях управління, а й кожному студенту окремо.\n",
            "у німеччині немає жорсткої системи навчання в загальному обовьязковому порядку.\n",
            "тобто багато залежить від самостійності, відповідальності та самодисципліни студента.\n",
            "\n"
          ]
        }
      ]
    },
    {
      "cell_type": "code",
      "source": [
        "def clean(text):\n",
        "  # Remove punctuation and convert words to lowercase\n",
        "  words = word_tokenize(text)\n",
        "  punctuation_pattern = re.compile(r'[^\\w\\s]')\n",
        "  words_wo_punct = [re.sub(punctuation_pattern, '', word) for word in words]\n",
        "  words_wo_punct = [word.lower() for word in words_wo_punct if word]\n",
        "  return ' '.join(words_wo_punct)\n"
      ],
      "metadata": {
        "id": "ipTrywDtIh7j"
      },
      "execution_count": null,
      "outputs": []
    },
    {
      "cell_type": "code",
      "source": [
        "# !pip install git+https://github.com/Desklop/Uk_Stemmer\n",
        "\n",
        "from uk_stemmer import UkStemmer\n",
        "\n",
        "stemmer = UkStemmer()\n",
        "\n",
        "cleaned_text = clean(text)\n",
        "\n",
        "tokens = word_tokenize(cleaned_text)\n",
        "\n",
        "stemmed = []\n",
        "\n",
        "for token in tokens:\n",
        "  stemmed.append(stemmer.stem_word(token))\n",
        "\n",
        "tokenized_result = zip(tokens, stemmed)\n",
        "\n",
        "print(tabulate(tokenized_result, headers=[\"Before\", \"After\"]))"
      ],
      "metadata": {
        "colab": {
          "base_uri": "https://localhost:8080/"
        },
        "id": "Bc1_zkcHHNRe",
        "outputId": "1f01d4a2-476f-4b0e-b7ab-38b0ee11310c"
      },
      "execution_count": null,
      "outputs": [
        {
          "output_type": "stream",
          "name": "stdout",
          "text": [
            "Before            After\n",
            "----------------  ---------------\n",
            "сучасна           сучасн\n",
            "система           систем\n",
            "вищої             вищ\n",
            "освіти            освіт\n",
            "німеччини         німеччин\n",
            "помітно           помітн\n",
            "відрізняється     відрізняєт\n",
            "у                 у\n",
            "німеччині         німеччин\n",
            "проголошено       проголошен\n",
            "принцип           принцип\n",
            "академічної       академічн\n",
            "свободи           свобод\n",
            "згідно            згідн\n",
            "з                 з\n",
            "яким              як\n",
            "свобода           свобод\n",
            "надана            надан\n",
            "не                не\n",
            "лише              лиш\n",
            "закладам          заклад\n",
            "вищої             вищ\n",
            "освіти            освіт\n",
            "у                 у\n",
            "питаннях          питанн\n",
            "управління        управлінн\n",
            "а                 а\n",
            "й                 й\n",
            "кожному           кожн\n",
            "студенту          студент\n",
            "окремо            окрем\n",
            "у                 у\n",
            "німеччині         німеччин\n",
            "немає             нем\n",
            "жорсткої          жорстк\n",
            "системи           систем\n",
            "навчання          навчанн\n",
            "в                 в\n",
            "загальному        загальн\n",
            "обовязковому      обовязков\n",
            "порядку           порядк\n",
            "тобто             тобт\n",
            "багато            багат\n",
            "залежить          залежит\n",
            "від               від\n",
            "самостійності     самостійност\n",
            "відповідальності  відповідальност\n",
            "та                та\n",
            "самодисципліни    самодисциплін\n",
            "студента          студент\n"
          ]
        }
      ]
    },
    {
      "cell_type": "code",
      "source": [
        "stemmer_2 = MyStemmer()\n",
        "stemmed_text = stemmer_2.stem(text)\n",
        "\n",
        "result = zip(tokens, stemmed, word_tokenize(stemmed_text))\n",
        "\n",
        "count = 0\n",
        "difference = []\n",
        "\n",
        "for w1, w2 in zip(stemmed, word_tokenize(stemmed_text)):\n",
        "  if w1 != w2:\n",
        "    if ((w1, w2) not in difference):\n",
        "      count += 1\n",
        "      difference.append((w1, w2))\n",
        "\n",
        "print(f'\\nDifference between UKStemmer and MyStemmer: {np.round((count/len(stemmed) * 100), 2)}%\\n\\n')\n",
        "\n",
        "print(tabulate(result, headers=[\"Before\", \"After UK Stemmer\", \"After MyStemmer\"]))\n"
      ],
      "metadata": {
        "colab": {
          "base_uri": "https://localhost:8080/"
        },
        "id": "pF7ueQ2uIzCy",
        "outputId": "9d58b958-2900-4afc-a3a0-4f7305896a64"
      },
      "execution_count": null,
      "outputs": [
        {
          "output_type": "stream",
          "name": "stdout",
          "text": [
            "\n",
            "Difference between UKStemmer and MyStemmer: 14.0%\n",
            "\n",
            "\n",
            "Before            After UK Stemmer    After MyStemmer\n",
            "----------------  ------------------  -----------------\n",
            "сучасна           сучасн              сучасн\n",
            "система           систем              систем\n",
            "вищої             вищ                 вищ\n",
            "освіти            освіт               освіт\n",
            "німеччини         німеччин            німечч\n",
            "помітно           помітн              помітн\n",
            "відрізняється     відрізняєт          відрізня\n",
            "у                 у                   у\n",
            "німеччині         німеччин            німечч\n",
            "проголошено       проголошен          проголошен\n",
            "принцип           принцип             принцип\n",
            "академічної       академічн           академічн\n",
            "свободи           свобод              свобод\n",
            "згідно            згідн               згідн\n",
            "з                 з                   з\n",
            "яким              як                  яким\n",
            "свобода           свобод              свобод\n",
            "надана            надан               надан\n",
            "не                не                  не\n",
            "лише              лиш                 лиш\n",
            "закладам          заклад              закладам\n",
            "вищої             вищ                 вищ\n",
            "освіти            освіт               освіт\n",
            "у                 у                   у\n",
            "питаннях          питанн              питанн\n",
            "управління        управлінн           управлінн\n",
            "а                 а                   а\n",
            "й                 й                   й\n",
            "кожному           кожн                кожн\n",
            "студенту          студент             студент\n",
            "окремо            окрем               окрем\n",
            "у                 у                   у\n",
            "німеччині         німеччин            німечч\n",
            "немає             нем                 нема\n",
            "жорсткої          жорстк              жорст\n",
            "системи           систем              систем\n",
            "навчання          навчанн             навчанн\n",
            "в                 в                   в\n",
            "загальному        загальн             загальн\n",
            "обовязковому      обовязков           обовязков\n",
            "порядку           порядк              поряд\n",
            "тобто             тобт                тобт\n",
            "багато            багат               багат\n",
            "залежить          залежит             залежит\n",
            "від               від                 від\n",
            "самостійності     самостійност        самостійност\n",
            "відповідальності  відповідальност     відповідальност\n",
            "та                та                  та\n",
            "самодисципліни    самодисциплін       самодисциплін\n",
            "студента          студент             студент\n"
          ]
        }
      ]
    },
    {
      "cell_type": "markdown",
      "source": [
        "## Part 2"
      ],
      "metadata": {
        "id": "btVLYSQDNj4v"
      }
    },
    {
      "cell_type": "markdown",
      "source": [
        "### 1. Зробити POS tagging фрагмента тексту:\n",
        "Machine Learning evolved from computer science that primarily studies the\n",
        "design of algorithms that can learn from experience. To learn, they need\n",
        "data that has certain attributes based on which the algorithms try to find\n",
        "some meaningful predictive patterns. Majorly, ML tasks can be categorized\n",
        "as concept learning, clustering, predictive modeling, etc. The ultimate goal\n",
        "of ML algorithms is to be able to take decisions without any human\n",
        "intervention correctly. Predicting the stocks or weather are a couple of\n",
        "applications of machine learning algorithms."
      ],
      "metadata": {
        "id": "rJrCs4lUNlcr"
      }
    },
    {
      "cell_type": "code",
      "source": [
        "text = '''\n",
        "Machine Learning evolved from computer science that primarily studies the design of algorithms that can learn from experience.\n",
        "To learn, they need data that has certain attributes based on which the algorithms try to find some meaningful predictive patterns.\n",
        "Majorly, ML tasks can be categorized as concept learning, clustering, predictive modeling, etc.\n",
        "The ultimate goal of ML algorithms is to be able to take decisions without any human intervention correctly.\n",
        "Predicting the stocks or weather are a couple of applications of machine learning algorithms.\n",
        "'''\n",
        "\n",
        "pos_tag(word_tokenize(clean(text)))"
      ],
      "metadata": {
        "colab": {
          "base_uri": "https://localhost:8080/"
        },
        "id": "QFmWeIgSO9S-",
        "outputId": "b78727eb-ef28-42a6-e753-6cac1b46b134"
      },
      "execution_count": null,
      "outputs": [
        {
          "output_type": "execute_result",
          "data": {
            "text/plain": [
              "[('machine', 'NN'),\n",
              " ('learning', 'VBG'),\n",
              " ('evolved', 'VBN'),\n",
              " ('from', 'IN'),\n",
              " ('computer', 'NN'),\n",
              " ('science', 'NN'),\n",
              " ('that', 'IN'),\n",
              " ('primarily', 'RB'),\n",
              " ('studies', 'NNS'),\n",
              " ('the', 'DT'),\n",
              " ('design', 'NN'),\n",
              " ('of', 'IN'),\n",
              " ('algorithms', 'NN'),\n",
              " ('that', 'WDT'),\n",
              " ('can', 'MD'),\n",
              " ('learn', 'VB'),\n",
              " ('from', 'IN'),\n",
              " ('experience', 'NN'),\n",
              " ('to', 'TO'),\n",
              " ('learn', 'VB'),\n",
              " ('they', 'PRP'),\n",
              " ('need', 'VBP'),\n",
              " ('data', 'NNS'),\n",
              " ('that', 'WDT'),\n",
              " ('has', 'VBZ'),\n",
              " ('certain', 'JJ'),\n",
              " ('attributes', 'NNS'),\n",
              " ('based', 'VBN'),\n",
              " ('on', 'IN'),\n",
              " ('which', 'WDT'),\n",
              " ('the', 'DT'),\n",
              " ('algorithms', 'NN'),\n",
              " ('try', 'NN'),\n",
              " ('to', 'TO'),\n",
              " ('find', 'VB'),\n",
              " ('some', 'DT'),\n",
              " ('meaningful', 'JJ'),\n",
              " ('predictive', 'JJ'),\n",
              " ('patterns', 'NNS'),\n",
              " ('majorly', 'RB'),\n",
              " ('ml', 'VBP'),\n",
              " ('tasks', 'NNS'),\n",
              " ('can', 'MD'),\n",
              " ('be', 'VB'),\n",
              " ('categorized', 'VBN'),\n",
              " ('as', 'IN'),\n",
              " ('concept', 'NN'),\n",
              " ('learning', 'VBG'),\n",
              " ('clustering', 'VBG'),\n",
              " ('predictive', 'JJ'),\n",
              " ('modeling', 'NN'),\n",
              " ('etc', 'VBZ'),\n",
              " ('the', 'DT'),\n",
              " ('ultimate', 'JJ'),\n",
              " ('goal', 'NN'),\n",
              " ('of', 'IN'),\n",
              " ('ml', 'NN'),\n",
              " ('algorithms', 'NN'),\n",
              " ('is', 'VBZ'),\n",
              " ('to', 'TO'),\n",
              " ('be', 'VB'),\n",
              " ('able', 'JJ'),\n",
              " ('to', 'TO'),\n",
              " ('take', 'VB'),\n",
              " ('decisions', 'NNS'),\n",
              " ('without', 'IN'),\n",
              " ('any', 'DT'),\n",
              " ('human', 'JJ'),\n",
              " ('intervention', 'NN'),\n",
              " ('correctly', 'RB'),\n",
              " ('predicting', 'VBG'),\n",
              " ('the', 'DT'),\n",
              " ('stocks', 'NNS'),\n",
              " ('or', 'CC'),\n",
              " ('weather', 'NN'),\n",
              " ('are', 'VBP'),\n",
              " ('a', 'DT'),\n",
              " ('couple', 'NN'),\n",
              " ('of', 'IN'),\n",
              " ('applications', 'NNS'),\n",
              " ('of', 'IN'),\n",
              " ('machine', 'NN'),\n",
              " ('learning', 'NN'),\n",
              " ('algorithms', 'NN')]"
            ]
          },
          "metadata": {},
          "execution_count": 152
        }
      ]
    },
    {
      "cell_type": "markdown",
      "source": [
        "### 2. Використовуючи модуль help пакета nltk, отримайте інформацію про мітки CC, IN, NN та JJ."
      ],
      "metadata": {
        "id": "yKKMv0diNtcx"
      }
    },
    {
      "cell_type": "code",
      "source": [
        "tags = ['CC', 'IN', 'NN', 'JJ']\n",
        "\n",
        "for tag in tags:\n",
        "  nltk.help.upenn_tagset(tag)"
      ],
      "metadata": {
        "colab": {
          "base_uri": "https://localhost:8080/"
        },
        "id": "u7cMfOsLSORQ",
        "outputId": "91ad3fb8-ffe1-4637-8d15-d55277b5818f"
      },
      "execution_count": null,
      "outputs": [
        {
          "output_type": "stream",
          "name": "stdout",
          "text": [
            "CC: conjunction, coordinating\n",
            "    & 'n and both but either et for less minus neither nor or plus so\n",
            "    therefore times v. versus vs. whether yet\n",
            "IN: preposition or conjunction, subordinating\n",
            "    astride among uppon whether out inside pro despite on by throughout\n",
            "    below within for towards near behind atop around if like until below\n",
            "    next into if beside ...\n",
            "NN: noun, common, singular or mass\n",
            "    common-carrier cabbage knuckle-duster Casino afghan shed thermostat\n",
            "    investment slide humour falloff slick wind hyena override subhumanity\n",
            "    machinist ...\n",
            "JJ: adjective or numeral, ordinal\n",
            "    third ill-mannered pre-war regrettable oiled calamitous first separable\n",
            "    ectoplasmic battery-powered participatory fourth still-to-be-named\n",
            "    multilingual multi-disciplinary ...\n"
          ]
        }
      ]
    },
    {
      "cell_type": "markdown",
      "source": [
        "### 3. Перше і друге речення текстів категорії fiction корпусу Брауна автоматично розмітити мітками CD, DT, JJ, RB, NNS, VBG, VBD, NN, MD, розробивши відповідні регулярні вирази."
      ],
      "metadata": {
        "id": "DAKZHT5bNx1r"
      }
    },
    {
      "cell_type": "code",
      "source": [
        "tags = ['CD', 'DT', 'JJ', 'RB', 'NNS', 'VBG', 'VBD', 'NN', 'MD']\n",
        "\n",
        "for tag in tags:\n",
        "  nltk.help.upenn_tagset(tag)\n",
        "\n",
        "patterns = {\n",
        "    # Cardinal number\n",
        "    'CD': r'\\b\\d+\\b',\n",
        "    # Determiner\n",
        "    'DT': r'\\b(?:the|a|an)\\b',\n",
        "    # Adverb\n",
        "    'RB': r'\\b\\[(w+ly)(w+ty)]\\b|very|too',\n",
        "    # Plural noun\n",
        "    'NNS': r'\\b\\w+s\\b',\n",
        "    # Verb ending in -ing\n",
        "    'VBG': r'\\b\\w*[aeiou]{2}\\w*ing\\b',\n",
        "    # Verb ending in -ed\n",
        "    'VBD': r'\\b\\w+ed\\b',\n",
        "    # Singular noun\n",
        "    'NN': r'\\b\\w+\\b',\n",
        "    # Modal verb\n",
        "    'MD': r'\\b(?:can|could|may|might|must|shall|should|will|would)\\b',\n",
        "    # Adjective\n",
        "    'JJ': r'\\b\\w*[-]?\\w+\\b',\n",
        "}"
      ],
      "metadata": {
        "colab": {
          "base_uri": "https://localhost:8080/"
        },
        "id": "OvbmZUCHS4zd",
        "outputId": "70c68f45-4066-4f4a-b691-d630329f7b82"
      },
      "execution_count": null,
      "outputs": [
        {
          "output_type": "stream",
          "name": "stdout",
          "text": [
            "CD: numeral, cardinal\n",
            "    mid-1890 nine-thirty forty-two one-tenth ten million 0.5 one forty-\n",
            "    seven 1987 twenty '79 zero two 78-degrees eighty-four IX '60s .025\n",
            "    fifteen 271,124 dozen quintillion DM2,000 ...\n",
            "DT: determiner\n",
            "    all an another any both del each either every half la many much nary\n",
            "    neither no some such that the them these this those\n",
            "JJ: adjective or numeral, ordinal\n",
            "    third ill-mannered pre-war regrettable oiled calamitous first separable\n",
            "    ectoplasmic battery-powered participatory fourth still-to-be-named\n",
            "    multilingual multi-disciplinary ...\n",
            "RB: adverb\n",
            "    occasionally unabatingly maddeningly adventurously professedly\n",
            "    stirringly prominently technologically magisterially predominately\n",
            "    swiftly fiscally pitilessly ...\n",
            "NNS: noun, common, plural\n",
            "    undergraduates scotches bric-a-brac products bodyguards facets coasts\n",
            "    divestitures storehouses designs clubs fragrances averages\n",
            "    subjectivists apprehensions muses factory-jobs ...\n",
            "VBG: verb, present participle or gerund\n",
            "    telegraphing stirring focusing angering judging stalling lactating\n",
            "    hankerin' alleging veering capping approaching traveling besieging\n",
            "    encrypting interrupting erasing wincing ...\n",
            "VBD: verb, past tense\n",
            "    dipped pleaded swiped regummed soaked tidied convened halted registered\n",
            "    cushioned exacted snubbed strode aimed adopted belied figgered\n",
            "    speculated wore appreciated contemplated ...\n",
            "NN: noun, common, singular or mass\n",
            "    common-carrier cabbage knuckle-duster Casino afghan shed thermostat\n",
            "    investment slide humour falloff slick wind hyena override subhumanity\n",
            "    machinist ...\n",
            "MD: modal auxiliary\n",
            "    can cannot could couldn't dare may might must need ought shall should\n",
            "    shouldn't will would\n"
          ]
        }
      ]
    },
    {
      "cell_type": "code",
      "source": [
        "nltk.download('brown')\n",
        "from nltk.corpus import brown\n",
        "\n",
        "fiction = brown.fileids(categories='fiction')[:1]\n",
        "\n",
        "for fileid in fiction:\n",
        "    text = ' '.join(brown.words(fileid))\n",
        "\n",
        "    sentences = nltk.sent_tokenize(text)[:2]\n",
        "\n",
        "    for sentence_num, sentence in enumerate(sentences, start=1):\n",
        "\n",
        "        # Tokenize the sentence into words and POS tag each word\n",
        "        tagged_words = nltk.pos_tag(nltk.word_tokenize(sentence))\n",
        "\n",
        "        # Print the original sentence\n",
        "        print(f\"Sentence {sentence_num}: {sentence}\")\n",
        "\n",
        "        for word, pos_tag in tagged_words:\n",
        "            for pos, pattern in patterns.items():\n",
        "                if re.match(pattern, word):\n",
        "                    # Print the word and its matching POS tag\n",
        "                    print(f'({word}, {pos_tag}): {pos}')\n",
        "                    break  # Move to the next word if a match is found\n",
        "        print()"
      ],
      "metadata": {
        "colab": {
          "base_uri": "https://localhost:8080/"
        },
        "id": "QHgNfe6GUPx2",
        "outputId": "e3bb95e7-1fcc-49f0-d936-0acd29f8f85f"
      },
      "execution_count": null,
      "outputs": [
        {
          "output_type": "stream",
          "name": "stdout",
          "text": [
            "Sentence 1: Thirty-three Scotty did not go back to school .\n",
            "(Thirty-three, JJ): NN\n",
            "(Scotty, NNP): NN\n",
            "(did, VBD): NN\n",
            "(not, RB): NN\n",
            "(go, VB): NN\n",
            "(back, RB): NN\n",
            "(to, TO): NN\n",
            "(school, NN): NN\n",
            "\n",
            "Sentence 2: His parents talked seriously and lengthily to their own doctor and to a specialist at the University Hospital -- Mr. McKinley was entitled to a discount for members of his family -- and it was decided it would be best for him to take the remainder of the term off , spend a lot of time in bed and , for the rest , do pretty much as he chose -- provided , of course , he chose to do nothing too exciting or too debilitating .\n",
            "(His, PRP$): NNS\n",
            "(parents, NNS): NNS\n",
            "(talked, VBD): VBD\n",
            "(seriously, RB): NN\n",
            "(and, CC): NN\n",
            "(lengthily, RB): NN\n",
            "(to, TO): NN\n",
            "(their, PRP$): NN\n",
            "(own, JJ): NN\n",
            "(doctor, NN): NN\n",
            "(and, CC): NN\n",
            "(to, TO): NN\n",
            "(a, DT): DT\n",
            "(specialist, NN): NN\n",
            "(at, IN): NN\n",
            "(the, DT): DT\n",
            "(University, NNP): NN\n",
            "(Hospital, NNP): NN\n",
            "(Mr., NNP): NN\n",
            "(McKinley, NNP): NN\n",
            "(was, VBD): NNS\n",
            "(entitled, VBN): VBD\n",
            "(to, TO): NN\n",
            "(a, DT): DT\n",
            "(discount, NN): NN\n",
            "(for, IN): NN\n",
            "(members, NNS): NNS\n",
            "(of, IN): NN\n",
            "(his, PRP$): NNS\n",
            "(family, NN): NN\n",
            "(and, CC): NN\n",
            "(it, PRP): NN\n",
            "(was, VBD): NNS\n",
            "(decided, VBN): VBD\n",
            "(it, PRP): NN\n",
            "(would, MD): NN\n",
            "(be, VB): NN\n",
            "(best, JJS): NN\n",
            "(for, IN): NN\n",
            "(him, PRP): NN\n",
            "(to, TO): NN\n",
            "(take, VB): NN\n",
            "(the, DT): DT\n",
            "(remainder, NN): NN\n",
            "(of, IN): NN\n",
            "(the, DT): DT\n",
            "(term, NN): NN\n",
            "(off, RP): NN\n",
            "(spend, VBP): NN\n",
            "(a, DT): DT\n",
            "(lot, NN): NN\n",
            "(of, IN): NN\n",
            "(time, NN): NN\n",
            "(in, IN): NN\n",
            "(bed, NN): VBD\n",
            "(and, CC): NN\n",
            "(for, IN): NN\n",
            "(the, DT): DT\n",
            "(rest, NN): NN\n",
            "(do, VBP): NN\n",
            "(pretty, RB): NN\n",
            "(much, RB): NN\n",
            "(as, IN): NNS\n",
            "(he, PRP): NN\n",
            "(chose, VBD): NN\n",
            "(provided, VBD): VBD\n",
            "(of, IN): NN\n",
            "(course, NN): NN\n",
            "(he, PRP): NN\n",
            "(chose, VBD): NN\n",
            "(to, TO): NN\n",
            "(do, VB): NN\n",
            "(nothing, NN): NN\n",
            "(too, RB): RB\n",
            "(exciting, JJ): NN\n",
            "(or, CC): NN\n",
            "(too, RB): RB\n",
            "(debilitating, JJ): NN\n",
            "\n"
          ]
        },
        {
          "output_type": "stream",
          "name": "stderr",
          "text": [
            "[nltk_data] Downloading package brown to /root/nltk_data...\n",
            "[nltk_data]   Package brown is already up-to-date!\n"
          ]
        }
      ]
    },
    {
      "cell_type": "markdown",
      "source": [
        "### 4. Розробити регулярні висловлювання для морфологічної розмітки деяких слів українських текстів відповідних регулярних виразів. Здійснити POS-tagging фрагмент тексту, відповідного мови."
      ],
      "metadata": {
        "id": "OJ9Kk8vCN1a4"
      }
    },
    {
      "cell_type": "code",
      "source": [
        "pron_list = [\"я\", \"ти\", \"він\", \"вона\", \"воно\", \"ми\", \"ви\", \"вони\", \"цей\", \"ця\", \"це\", \"ці\", \"той\", \"та\", \"те\", \"ті\", \"сей\", \"ся\", \"се\", \"сі\", \"який\", \"яка\", \"яке\", \"які\", \"хто\", \"що\", \"чий\", \"чия\", \"чиє\", \"чиї\", \"скільки\", \"скільки\", \"скілька\", \"скількох\", \"скількох\", \"скільком\", \"скількома\", \"скільком\", \"скількома\", \"скільком\", \"скількома\", \"сам\", \"сама\", \"саме\", \"сами\", \"самі\", \"самий\", \"сама\", \"саме\", \"самі\", \"тут\", \"тут\", \"там\", \"туди\", \"сюди\", \"от\", \"ото\", \"оце\", \"оцей\", \"такий\", \"така\", \"таке\", \"такі\", \"інший\", \"інша\", \"інше\", \"інші\", \"нічий\", \"нічия\", \"нічі\", \"нічиї\", \"кожний\", \"кожна\", \"кожне\", \"кожні\", \"будь-який\", \"будь-яка\", \"будь-яке\", \"будь-які\", \"кожен\", \"кожна\", \"кожне\", \"кожній\", \"кожною\", \"ніхто\", \"ніщо\", \"нічий\", \"нічого\", \"жодний\", \"жодна\", \"жодне\", \"жодні\", \"весь\", \"вся\", \"все\", \"всі\", \"кожний\", \"кожна\", \"кожне\", \"кожні\", \"все\", \"вся\", \"все\", \"всі\", \"деякий\", \"деяка\", \"деяке\", \"деякі\", \"багато\", \"багато\", \"багато\", \"багато\", \"деякий\", \"деяка\", \"деяке\", \"деякі\", \"якийсь\", \"якась\", \"якесь\", \"якісь\", \"деякий\", \"деяка\", \"деяке\", \"деякі\", \"інші\", \"інша\", \"інше\", \"інші\", \"все\", \"все\", \"все\", \"всі\", \"скільки\", \"весь\", \"всю\", \"все\", \"всі\", \"другий\", \"друга\", \"друге\", \"другі\", \"інший\", \"інша\", \"інше\", \"інші\", \"все\", \"вся\", \"все\", \"всі\", \"весь\", \"всякий\", \"всяка\", \"всяке\", \"всякі\", \"жодний\", \"жодна\", \"жодне\", \"жодні\", \"кожний\", \"кожна\", \"кожне\", \"кожні\", \"ніякий\", \"ніяка\", \"ніяке\", \"ніякі\", \"кожний\", \"кожна\", \"кожне\", \"кожні\", \"кожному\", \"весь\", \"вся\", \"все\", \"всі\", \"той\", \"та\", \"те\", \"ті\", \"все\", \"вся\", \"все\", \"всі\", \"кожний\", \"кожна\", \"кожне\", \"кожні\", \"ніякий\", \"ніяка\", \"ніяке\", \"ніякі\", \"чийсь\", \"чиясь\", \"чийсь\", \"чиєсь\", \"чийсь\", \"чиясь\", \"чийсь\", \"чиєсь\", \"чийсь\", \"чиясь\", \"чийсь\", \"чиєсь\"]\n",
        "adp_list = [\"з\", \"в\", \"на\", \"під\", \"перед\", \"поза\", \"над\", \"по\", \"до\", \"у\", \"від\", \"за\", \"по-над\", \"по-під\", \"по-над\", \"по-під\", \"про\", \"між\", \"через\", \"проти\", \"об\", \"по-над\", \"по-під\", \"по-над\", \"по-під\", \"з-за\", \"крізь\", \"від\", \"зі\", \"біля\"]\n",
        "conj_list = ['і','й','та','а', 'але', 'проте', 'зате','однак', 'як']"
      ],
      "metadata": {
        "id": "16nNXc2ag_Tw"
      },
      "execution_count": null,
      "outputs": []
    },
    {
      "cell_type": "code",
      "source": [
        "text = '''\n",
        "Сучасна (2024) система вищої освіти Німеччини помітно відрізняється.\n",
        "У Німеччині проголошено принцип «академічної свободи», згідно з яким свобода надана не лише закладам вищої освіти у питаннях управління, а й кожному студенту окремо.\n",
        "У Німеччині немає жорсткої системи навчання в загальному обов'язковому порядку.\n",
        "Тобто багато залежить від самостійності, відповідальності та самодисципліни студента.\n",
        "О! Як цікаво.\n",
        "'''\n",
        "\n",
        "patterns = {\n",
        "    # Числівник\n",
        "    'NUM': r'\\b\\d+\\b',\n",
        "    # Займенник\n",
        "    'PRON': r'\\b(?:' + '|'.join(pron_list) + r')\\b',\n",
        "    # Прийменник\n",
        "    'ADP': r'\\b(?:' + '|'.join(adp_list) + r')\\b',\n",
        "    # Сполучник\n",
        "    'CCONJ': r'\\b(?:' + '|'.join(conj_list) + r')|:[a-zA-Zа-яА-Я]{1,3}\\b',\n",
        "    # Вигук\n",
        "    'INTJ': r'\\b[А-ЯЇІЄҐ]\\b',\n",
        "    # Прикметник\n",
        "    'ADJ': r'\\b(?:[А-Яа-яЇїІіЄєҐґ]+(?:ий|ні|ого|ої|ому|на))\\b',\n",
        "    # Прислівник\n",
        "    'ADV': r'\\b[А-Яа-яЇїІіЄєҐґ]+[а-яїієґ]*[о,е,и,у,ому,єму]\\b',\n",
        "    # Дієслово\n",
        "    'VERB': r'\\b(?:[А-Яа-яЇїІіЄєҐґ]+(?:м|ш|мм|те|ти|ть|ли|лись|ла|ло|ли|лась|ім|ість|ив|ла|имо|иш|ться|шся))\\b',\n",
        "    # Іменник\n",
        "    'NOUN': r'\\b[А-Яа-яЇїІіЄєҐґ]+[а-яїієґ]*\\b',\n",
        "}\n",
        "\n",
        "pos_tags = []\n",
        "for word in re.findall(r'\\b\\w+\\b', text):\n",
        "    tagged = False\n",
        "    for pos, pattern in patterns.items():\n",
        "        if re.fullmatch(pattern, word):\n",
        "            pos_tags.append((word, pos))\n",
        "            tagged = True\n",
        "            break\n",
        "    if not tagged:\n",
        "        pos_tags.append((word, None))\n",
        "\n",
        "for word, pos in pos_tags:\n",
        "    print(f'{word}: {pos}')"
      ],
      "metadata": {
        "colab": {
          "base_uri": "https://localhost:8080/"
        },
        "id": "FHrgzlAXcfb3",
        "outputId": "cd181208-f16d-4be5-d1d7-56e84210c48d"
      },
      "execution_count": null,
      "outputs": [
        {
          "output_type": "stream",
          "name": "stdout",
          "text": [
            "Сучасна: ADJ\n",
            "2024: NUM\n",
            "система: NOUN\n",
            "вищої: ADJ\n",
            "освіти: ADV\n",
            "Німеччини: ADV\n",
            "помітно: ADV\n",
            "відрізняється: VERB\n",
            "У: INTJ\n",
            "Німеччині: ADJ\n",
            "проголошено: ADV\n",
            "принцип: NOUN\n",
            "академічної: ADJ\n",
            "свободи: ADV\n",
            "згідно: ADV\n",
            "з: ADP\n",
            "яким: ADV\n",
            "свобода: NOUN\n",
            "надана: ADJ\n",
            "не: ADV\n",
            "лише: ADV\n",
            "закладам: ADV\n",
            "вищої: ADJ\n",
            "освіти: ADV\n",
            "у: ADP\n",
            "питаннях: NOUN\n",
            "управління: NOUN\n",
            "а: CCONJ\n",
            "й: CCONJ\n",
            "кожному: PRON\n",
            "студенту: ADV\n",
            "окремо: ADV\n",
            "У: INTJ\n",
            "Німеччині: ADJ\n",
            "немає: ADV\n",
            "жорсткої: ADJ\n",
            "системи: ADV\n",
            "навчання: NOUN\n",
            "в: ADP\n",
            "загальному: ADJ\n",
            "обов: NOUN\n",
            "язковому: ADJ\n",
            "порядку: ADV\n",
            "Тобто: ADV\n",
            "багато: PRON\n",
            "залежить: VERB\n",
            "від: ADP\n",
            "самостійності: NOUN\n",
            "відповідальності: NOUN\n",
            "та: PRON\n",
            "самодисципліни: ADV\n",
            "студента: NOUN\n",
            "О: INTJ\n",
            "Як: NOUN\n",
            "цікаво: ADV\n"
          ]
        }
      ]
    },
    {
      "cell_type": "markdown",
      "source": [
        "# Practice 5"
      ],
      "metadata": {
        "id": "GtWoCb9WI1Oq"
      }
    },
    {
      "cell_type": "markdown",
      "source": [
        "## 1. Отримайте всі синсети слова «dish». Зайдіть на веб-сайт WordNet і переконайтеся в правильності отриманих синсетів."
      ],
      "metadata": {
        "id": "Agx8WQYsJBnr"
      }
    },
    {
      "cell_type": "code",
      "source": [
        "print(wn.synsets('dish'))"
      ],
      "metadata": {
        "colab": {
          "base_uri": "https://localhost:8080/"
        },
        "id": "apcn9pvkKTSE",
        "outputId": "b18b90cf-6f21-4233-9a70-4bbe792ddb17"
      },
      "execution_count": null,
      "outputs": [
        {
          "output_type": "stream",
          "name": "stdout",
          "text": [
            "[Synset('dish.n.01'), Synset('dish.n.02'), Synset('dish.n.03'), Synset('smasher.n.02'), Synset('dish.n.05'), Synset('cup_of_tea.n.01'), Synset('serve.v.06'), Synset('dish.v.02')]\n"
          ]
        }
      ]
    },
    {
      "cell_type": "markdown",
      "source": [
        "![зображення.png](data:image/png;base64,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)"
      ],
      "metadata": {
        "id": "Pb2J-n-7KwQm"
      }
    },
    {
      "cell_type": "markdown",
      "source": [
        "## 2. Отримайте визначення та приклад використання леми третього іменника та першого синсету дієслова слова «dish»."
      ],
      "metadata": {
        "id": "5HYlczTfJLf7"
      }
    },
    {
      "cell_type": "code",
      "source": [
        "print(wn.synset('dish.n.03').definition())\n",
        "print(wn.synset('dish.n.03').examples())"
      ],
      "metadata": {
        "colab": {
          "base_uri": "https://localhost:8080/"
        },
        "id": "1zOExm2aLMdc",
        "outputId": "afbd21c1-0d2a-4445-ad82-fdac1102a677"
      },
      "execution_count": null,
      "outputs": [
        {
          "output_type": "stream",
          "name": "stdout",
          "text": [
            "the quantity that a dish will hold\n",
            "['they served me a dish of rice']\n"
          ]
        }
      ]
    },
    {
      "cell_type": "code",
      "source": [
        "print(wn.synset('dish.v.01').definition())\n",
        "print(wn.synset('dish.v.01').examples())"
      ],
      "metadata": {
        "colab": {
          "base_uri": "https://localhost:8080/"
        },
        "id": "KnkOuiA0LiPG",
        "outputId": "2ac756a1-4b08-4ad2-c792-3b71a374abb5"
      },
      "execution_count": null,
      "outputs": [
        {
          "output_type": "stream",
          "name": "stdout",
          "text": [
            "provide (usually but not necessarily food)\n",
            "['We serve meals for the homeless', 'She dished out the soup at 8 P.M.', 'The entertainers served up a lively show']\n"
          ]
        }
      ]
    },
    {
      "cell_type": "markdown",
      "source": [
        "## 3. Отримайте всі імена, визначення та приклади використання синсетів іменника «dish»."
      ],
      "metadata": {
        "id": "CD8b9XqiJOrh"
      }
    },
    {
      "cell_type": "code",
      "source": [
        "snsts_n = wn.synsets('dish', wn.NOUN)\n",
        "\n",
        "for i, snst in enumerate(snsts_n, 1):\n",
        "  print(f'Synset {i}: {snst.name()}\\n')\n",
        "  print(f'Names: {snst.lemma_names()}')\n",
        "  print(f'Definition: {snst.definition()}')\n",
        "  print(f'Examples: {snst.examples()}\\n\\n')"
      ],
      "metadata": {
        "colab": {
          "base_uri": "https://localhost:8080/"
        },
        "id": "9sumXBQQLyUL",
        "outputId": "14eaf672-c321-41ca-cd9c-bfedda6b015b"
      },
      "execution_count": null,
      "outputs": [
        {
          "output_type": "stream",
          "name": "stdout",
          "text": [
            "Synset 1: dish.n.01\n",
            "\n",
            "Names: ['dish']\n",
            "Definition: a piece of dishware normally used as a container for holding or serving food\n",
            "Examples: ['we gave them a set of dishes for a wedding present']\n",
            "\n",
            "\n",
            "Synset 2: dish.n.02\n",
            "\n",
            "Names: ['dish']\n",
            "Definition: a particular item of prepared food\n",
            "Examples: ['she prepared a special dish for dinner']\n",
            "\n",
            "\n",
            "Synset 3: dish.n.03\n",
            "\n",
            "Names: ['dish', 'dishful']\n",
            "Definition: the quantity that a dish will hold\n",
            "Examples: ['they served me a dish of rice']\n",
            "\n",
            "\n",
            "Synset 4: smasher.n.02\n",
            "\n",
            "Names: ['smasher', 'stunner', 'knockout', 'beauty', 'ravisher', 'sweetheart', 'peach', 'lulu', 'looker', 'mantrap', 'dish']\n",
            "Definition: a very attractive or seductive looking woman\n",
            "Examples: []\n",
            "\n",
            "\n",
            "Synset 5: dish.n.05\n",
            "\n",
            "Names: ['dish', 'dish_aerial', 'dish_antenna', 'saucer']\n",
            "Definition: directional antenna consisting of a parabolic reflector for microwave or radio frequency radiation\n",
            "Examples: []\n",
            "\n",
            "\n",
            "Synset 6: cup_of_tea.n.01\n",
            "\n",
            "Names: ['cup_of_tea', 'bag', 'dish']\n",
            "Definition: an activity that you like or at which you are superior\n",
            "Examples: ['chemistry is not my cup of tea', 'his bag now is learning to play golf', 'marriage was scarcely his dish']\n",
            "\n",
            "\n"
          ]
        }
      ]
    },
    {
      "cell_type": "markdown",
      "source": [
        "## 4. Отримайте всі імена, визначення та приклади використання синсетів дієслова «dish»."
      ],
      "metadata": {
        "id": "4lIeCDksJUUd"
      }
    },
    {
      "cell_type": "code",
      "source": [
        "snsts_v = wn.synsets('dish', wn.VERB)\n",
        "\n",
        "for i, snst in enumerate(snsts_v, 1):\n",
        "  print(f'Synset {i}: {snst.name()}\\n')\n",
        "  print(f'Names: {snst.lemma_names()}')\n",
        "  print(f'Definition: {snst.definition()}')\n",
        "  print(f'Examples: {snst.examples()}\\n\\n')"
      ],
      "metadata": {
        "colab": {
          "base_uri": "https://localhost:8080/"
        },
        "id": "_Wmm9g1LN9Tt",
        "outputId": "53982d82-558b-4955-c447-27cb6657afb4"
      },
      "execution_count": null,
      "outputs": [
        {
          "output_type": "stream",
          "name": "stdout",
          "text": [
            "Synset 1: serve.v.06\n",
            "\n",
            "Names: ['serve', 'serve_up', 'dish_out', 'dish_up', 'dish']\n",
            "Definition: provide (usually but not necessarily food)\n",
            "Examples: ['We serve meals for the homeless', 'She dished out the soup at 8 P.M.', 'The entertainers served up a lively show']\n",
            "\n",
            "\n",
            "Synset 2: dish.v.02\n",
            "\n",
            "Names: ['dish']\n",
            "Definition: make concave; shape like a dish\n",
            "Examples: []\n",
            "\n",
            "\n"
          ]
        }
      ]
    },
    {
      "cell_type": "markdown",
      "source": [
        "## 5. Отримайте лему та ім’я даної леми будь-якого синсета слова «dish»."
      ],
      "metadata": {
        "id": "PoSlKADsJXh5"
      }
    },
    {
      "cell_type": "code",
      "source": [
        "lemmas = snsts_n[2].lemmas()\n",
        "\n",
        "print(f'{snsts_n[2]}')\n",
        "for i, lemma in enumerate(lemmas, 1):\n",
        "  print(f'Lemma {i}: {lemma} with name {lemma.name()}')"
      ],
      "metadata": {
        "colab": {
          "base_uri": "https://localhost:8080/"
        },
        "id": "BJqTXIGdOD3L",
        "outputId": "c61be9f4-344a-4ba8-9176-f2eaf56dc7a1"
      },
      "execution_count": null,
      "outputs": [
        {
          "output_type": "stream",
          "name": "stdout",
          "text": [
            "Synset('dish.n.03')\n",
            "Lemma 1: Lemma('dish.n.03.dish') with name dish\n",
            "Lemma 2: Lemma('dish.n.03.dishful') with name dishful\n"
          ]
        }
      ]
    },
    {
      "cell_type": "markdown",
      "source": [
        "## 6. Отримайте всі нижчі та вищі в родовидовій ієрархії WordNet концепти першого синсета іменника «work». Отримайте кореневий гіперонім цього концепту."
      ],
      "metadata": {
        "id": "yRWn9BbUJbg-"
      }
    },
    {
      "cell_type": "code",
      "source": [
        "work = wn.synsets('work')[0]\n",
        "\n",
        "types_of_work = work.hyponyms()\n",
        "print(types_of_work)\n",
        "print(work.hypernyms())"
      ],
      "metadata": {
        "colab": {
          "base_uri": "https://localhost:8080/"
        },
        "id": "84T9adADPRSB",
        "outputId": "7ef439ed-4453-4de3-b06c-174afe690a5f"
      },
      "execution_count": null,
      "outputs": [
        {
          "output_type": "stream",
          "name": "stdout",
          "text": [
            "[Synset('action.n.10'), Synset('busywork.n.01'), Synset('care.n.01'), Synset('coursework.n.01'), Synset('duty.n.02'), Synset('heavy_lifting.n.01'), Synset('housewifery.n.01'), Synset('housework.n.01'), Synset('investigation.n.02'), Synset('ironing.n.02'), Synset('job.n.06'), Synset('job.n.07'), Synset('labor.n.02'), Synset('logging.n.01'), Synset('loose_end.n.01'), Synset('mission.n.04'), Synset('nightwork.n.01'), Synset('operation.n.07'), Synset('paperwork.n.01'), Synset('service.n.01'), Synset('shining.n.01'), Synset('spadework.n.01'), Synset('subbing.n.01'), Synset('timework.n.01'), Synset('undertaking.n.01'), Synset('wash.n.02'), Synset('welfare_work.n.01')]\n",
            "[Synset('activity.n.01')]\n"
          ]
        }
      ]
    },
    {
      "cell_type": "code",
      "source": [
        "import networkx as nx"
      ],
      "metadata": {
        "id": "4JjyukaeQ6p1"
      },
      "execution_count": null,
      "outputs": []
    },
    {
      "cell_type": "code",
      "source": [
        "def get_tree(word):\n",
        "    G = nx.DiGraph()\n",
        "    synsets = wn.synsets(word)\n",
        "    if synsets:\n",
        "        synset = synsets[0]\n",
        "        for hyponym in synset.hyponyms():\n",
        "            G.add_edge(word, hyponym.name().split('.')[0])\n",
        "    return G\n",
        "\n",
        "def plot_tree(G):\n",
        "    pos = nx.spring_layout(G)\n",
        "    nx.draw(G, pos, with_labels=True, node_size=3000, node_color=\"skyblue\", font_size=10, font_weight=\"bold\")\n",
        "    plt.show()\n",
        "\n",
        "word = \"work\"\n",
        "\n",
        "tree = get_tree(word)\n",
        "\n",
        "print('Work hypernyms:')\n",
        "for hypernym in wn.synsets(word)[0].hypernyms():\n",
        "  print(f'{hypernym.name()}\\n\\n')\n",
        "\n",
        "print('Work root hypernym:')\n",
        "for hypernym in wn.synsets(word)[0].root_hypernyms():\n",
        "  print(f'{hypernym.name()}\\n\\n')\n",
        "\n",
        "plot_tree(tree)"
      ],
      "metadata": {
        "colab": {
          "base_uri": "https://localhost:8080/",
          "height": 659
        },
        "id": "NFxFiICRQ7wH",
        "outputId": "dfa8f03e-bf58-456e-e6bf-a538ea999385"
      },
      "execution_count": null,
      "outputs": [
        {
          "output_type": "stream",
          "name": "stdout",
          "text": [
            "Work hypernyms:\n",
            "activity.n.01\n",
            "\n",
            "\n",
            "Work root hypernym:\n",
            "entity.n.01\n",
            "\n",
            "\n"
          ]
        },
        {
          "output_type": "display_data",
          "data": {
            "text/plain": [
              "<Figure size 640x480 with 1 Axes>"
            ],
            "image/png": "[encoded data removed]"
          },
          "metadata": {}
        }
      ]
    },
    {
      "cell_type": "markdown",
      "source": [
        "## 7. За допомогою WordNet визначте, з яких речовин складається «wood» (використовуйте першу лему іменника цього слова), і частиною яких речовин воно є. Наведіть скріншот з сайту словника WordNet, що підтверджує правильність отриманого результату."
      ],
      "metadata": {
        "id": "UGcHKGdCJhaQ"
      }
    },
    {
      "cell_type": "code",
      "source": [
        "wood = wn.synsets('wood')[0]\n",
        "meronyms = wood.substance_meronyms()\n",
        "holonyms = wood.substance_holonyms()\n",
        "\n",
        "for meronym in meronyms:\n",
        "  print(f'Meronym {meronym.lemma_names()} - definition: {meronym.definition()}')\n",
        "\n",
        "for holonym in holonyms:\n",
        "  print(f'Holonym {holonym.lemma_names()} - definition: {holonym.definition()}')"
      ],
      "metadata": {
        "colab": {
          "base_uri": "https://localhost:8080/"
        },
        "id": "AqWlZNc8UJzg",
        "outputId": "5be832b2-5966-4fbb-92ed-9301cd2b5a27"
      },
      "execution_count": null,
      "outputs": [
        {
          "output_type": "stream",
          "name": "stdout",
          "text": [
            "Meronym ['lignin'] - definition: a complex polymer; the chief constituent of wood other than carbohydrates; binds to cellulose fibers to harden and strengthen cell walls of plants\n",
            "Holonym ['beam'] - definition: long thick piece of wood or metal or concrete, etc., used in construction\n",
            "Holonym ['chopping_block'] - definition: a steady wooden block on which food can be cut or diced or wood can be split\n",
            "Holonym ['lumber', 'timber'] - definition: the wood of trees cut and prepared for use as building material\n",
            "Holonym ['spindle'] - definition: a piece of wood that has been turned on a lathe; used as a baluster, chair leg, etc.\n"
          ]
        }
      ]
    },
    {
      "cell_type": "markdown",
      "source": [
        "![зображення.png](data:image/png;base64,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)"
      ],
      "metadata": {
        "id": "EFY08kkvW0fA"
      }
    },
    {
      "cell_type": "markdown",
      "source": [
        "## 8. Отримайте антонім поняття «horizontal». Наведіть скріншот із сайту словника WordNet, що підтверджує правильність отриманого результату."
      ],
      "metadata": {
        "id": "Pg2DslUMJmI1"
      }
    },
    {
      "cell_type": "code",
      "source": [
        "lemmas = wn.synset('horizontal.a.01').lemmas()\n",
        "\n",
        "for lemma in lemmas:\n",
        "  print(f'Antonyms for {lemma.name()} is')\n",
        "  for i, antonym in enumerate(lemma.antonyms(), 1):\n",
        "    print(f'{i}: {antonym.name()}')"
      ],
      "metadata": {
        "colab": {
          "base_uri": "https://localhost:8080/"
        },
        "id": "q5WaZSINW3NH",
        "outputId": "bda4721f-34b7-44f6-ed63-7736a2151137"
      },
      "execution_count": null,
      "outputs": [
        {
          "output_type": "stream",
          "name": "stdout",
          "text": [
            "Antonyms for horizontal is\n",
            "1: vertical\n",
            "2: inclined\n"
          ]
        }
      ]
    },
    {
      "cell_type": "markdown",
      "source": [
        "![зображення.png](data:image/png;base64,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)"
      ],
      "metadata": {
        "id": "vleYsNPAZEiI"
      }
    },
    {
      "cell_type": "markdown",
      "source": [
        "## 9. Покажіть, які дії залучені до поняття «eat».######"
      ],
      "metadata": {
        "id": "9Xd0c1QwJqiD"
      }
    },
    {
      "cell_type": "code",
      "source": [
        "print('Eat enatailments:')\n",
        "for i, entailment in enumerate(wn.synset('eat.v.01').entailments(), 1):\n",
        "  print(f'Entailment {i}: {entailment.name()}')"
      ],
      "metadata": {
        "colab": {
          "base_uri": "https://localhost:8080/"
        },
        "id": "gsFdiItUZGuB",
        "outputId": "af475a38-0eb6-4ece-feac-1f524749aa89"
      },
      "execution_count": null,
      "outputs": [
        {
          "output_type": "stream",
          "name": "stdout",
          "text": [
            "Eat enatailments:\n",
            "Entailment 1: chew.v.01\n",
            "Entailment 2: swallow.v.01\n"
          ]
        }
      ]
    },
    {
      "cell_type": "markdown",
      "source": [
        "## 10. Знайдіть найменший загальний гіпонім синсетів ‘bowl.n.02’ та ‘polyhedron.n.01’"
      ],
      "metadata": {
        "id": "ArIsRo-oJuJ8"
      }
    },
    {
      "cell_type": "code",
      "source": [
        "print(wn.synset('bowl.n.02').lowest_common_hypernyms(wn.synset('polyhedron.n.01')))"
      ],
      "metadata": {
        "colab": {
          "base_uri": "https://localhost:8080/"
        },
        "id": "_V9MF4TRbPre",
        "outputId": "a1372956-41eb-4c93-e147-0736a4cfe8f3"
      },
      "execution_count": null,
      "outputs": [
        {
          "output_type": "stream",
          "name": "stdout",
          "text": [
            "[Synset('solid.n.03')]\n"
          ]
        }
      ]
    },
    {
      "cell_type": "markdown",
      "source": [
        "## 11. Знайдіть найменший загальний гіпонім синсетів ‘bowl.n.01’ і ‘polyhedron.n.01’"
      ],
      "metadata": {
        "id": "lOrmAdPoJ9uO"
      }
    },
    {
      "cell_type": "code",
      "source": [
        "print(wn.synset('bowl.n.01').lowest_common_hypernyms(wn.synset('polyhedron.n.01')))"
      ],
      "metadata": {
        "colab": {
          "base_uri": "https://localhost:8080/"
        },
        "id": "d78il7z1bnGV",
        "outputId": "49447bdc-5325-417a-d47f-18c8e08fa9ce"
      },
      "execution_count": null,
      "outputs": [
        {
          "output_type": "stream",
          "name": "stdout",
          "text": [
            "[Synset('entity.n.01')]\n"
          ]
        }
      ]
    },
    {
      "cell_type": "markdown",
      "source": [
        "## 12. В чому різниця результатів 10 та 11 пунктів завдання?"
      ],
      "metadata": {
        "id": "5GtvmfKkKCJB"
      }
    },
    {
      "cell_type": "code",
      "source": [
        "print(f'bowl.n.01: {wn.synset(\"bowl.n.01\").definition()}')\n",
        "print(f'bowl.n.02: {wn.synset(\"bowl.n.02\").definition()}')"
      ],
      "metadata": {
        "colab": {
          "base_uri": "https://localhost:8080/"
        },
        "id": "vmUesNH0br-g",
        "outputId": "efbf9bf8-a647-4b5e-e4fa-9eb3151220e6"
      },
      "execution_count": null,
      "outputs": [
        {
          "output_type": "stream",
          "name": "stdout",
          "text": [
            "bowl.n.01: a round vessel that is open at the top; used chiefly for holding food or liquids\n",
            "bowl.n.02: a concave shape with an open top\n"
          ]
        }
      ]
    },
    {
      "cell_type": "markdown",
      "source": [
        "## 13. Визначте семантичну відстань між синсетами job.n.07 та work.n.01"
      ],
      "metadata": {
        "id": "Ni8tA4t6KE5u"
      }
    },
    {
      "cell_type": "code",
      "source": [
        "def semantic_length(w1, w2):\n",
        "  return wn.synset(w1).path_similarity(wn.synset(w2))"
      ],
      "metadata": {
        "id": "z4Ld8woZcrij"
      },
      "execution_count": null,
      "outputs": []
    },
    {
      "cell_type": "code",
      "source": [
        "synset = ['job.n.07', 'work.n.01', 'entity.n.01']"
      ],
      "metadata": {
        "id": "o_OHU68UdEjh"
      },
      "execution_count": null,
      "outputs": []
    },
    {
      "cell_type": "code",
      "source": [
        "print(f'Семантична відстань між {synset[0]} та {synset[1]}: {semantic_length(synset[0], synset[1])}')"
      ],
      "metadata": {
        "colab": {
          "base_uri": "https://localhost:8080/"
        },
        "id": "NY3aSZEgcAl8",
        "outputId": "5a57a322-4d3d-48a4-ccbe-b14344749260"
      },
      "execution_count": null,
      "outputs": [
        {
          "output_type": "stream",
          "name": "stdout",
          "text": [
            "Семантична відстань між job.n.07 та work.n.01: 0.5\n"
          ]
        }
      ]
    },
    {
      "cell_type": "markdown",
      "source": [
        "## 14. Визначте семантичну відстань між синсетами job.n.07 та job.n.07"
      ],
      "metadata": {
        "id": "VBDN0uoMKMbS"
      }
    },
    {
      "cell_type": "code",
      "source": [
        "print(f'Семантична відстань між {synset[0]} та {synset[0]}: {semantic_length(synset[0], synset[0])}')"
      ],
      "metadata": {
        "colab": {
          "base_uri": "https://localhost:8080/"
        },
        "id": "h4ww_l1Pcon6",
        "outputId": "086d9d6d-4527-4e7a-f2f0-abc960cc42b7"
      },
      "execution_count": null,
      "outputs": [
        {
          "output_type": "stream",
          "name": "stdout",
          "text": [
            "Семантична відстань між job.n.07 та job.n.07: 1.0\n"
          ]
        }
      ]
    },
    {
      "cell_type": "markdown",
      "source": [
        "## 15. Визначте семантичну відстань між синсетами job.n.07 та entity.n.01"
      ],
      "metadata": {
        "id": "D6SRvtIeKPql"
      }
    },
    {
      "cell_type": "code",
      "source": [
        "print(f'Семантична відстань між {synset[0]} та {synset[2]}: {semantic_length(synset[0], synset[2])}')"
      ],
      "metadata": {
        "colab": {
          "base_uri": "https://localhost:8080/"
        },
        "id": "8lOuah1SdrRo",
        "outputId": "eaac5bfa-c353-416d-c4f7-07852e9b5690"
      },
      "execution_count": null,
      "outputs": [
        {
          "output_type": "stream",
          "name": "stdout",
          "text": [
            "Семантична відстань між job.n.07 та entity.n.01: 0.125\n"
          ]
        }
      ]
    },
    {
      "cell_type": "markdown",
      "source": [
        "# Practice 6"
      ],
      "metadata": {
        "id": "uqLZ0-wpT7Dd"
      }
    },
    {
      "cell_type": "markdown",
      "source": [
        "## 1. Розділити розмічений корпус corpus.treebank на train corpus та test corpus. Перший – 90% від цілого корпусу, а другий, відповідно – 10%."
      ],
      "metadata": {
        "id": "dsmjqVWuT-nT"
      }
    },
    {
      "cell_type": "code",
      "source": [
        "nltk.download('treebank')\n",
        "\n",
        "sentences = treebank.tagged_sents()"
      ],
      "metadata": {
        "colab": {
          "base_uri": "https://localhost:8080/"
        },
        "id": "BWsqF1I_U8A-",
        "outputId": "e85cfb34-6029-4a1b-dcfe-69fa6f670800"
      },
      "execution_count": null,
      "outputs": [
        {
          "output_type": "stream",
          "name": "stderr",
          "text": [
            "[nltk_data] Downloading package treebank to /root/nltk_data...\n",
            "[nltk_data]   Package treebank is already up-to-date!\n"
          ]
        }
      ]
    },
    {
      "cell_type": "code",
      "source": [
        "train_corpus, test_corpus = train_test_split(sentences, test_size=0.1, random_state=42)"
      ],
      "metadata": {
        "id": "xJiYBnF9VjHc"
      },
      "execution_count": null,
      "outputs": []
    },
    {
      "cell_type": "markdown",
      "source": [
        "## 2. На базі train corpus створіть тегер за замовчуванням, unigram tagger,біграмний тегер та комбінований тегер."
      ],
      "metadata": {
        "id": "7C7BgNEgUuCD"
      }
    },
    {
      "cell_type": "code",
      "source": [
        "default_tagger = DefaultTagger('NN')\n",
        "\n",
        "unigram_tagger = UnigramTagger(train_corpus)\n",
        "\n",
        "bigram_tagger = BigramTagger(train_corpus)"
      ],
      "metadata": {
        "id": "ktf02wCxV8pg"
      },
      "execution_count": null,
      "outputs": []
    },
    {
      "cell_type": "code",
      "source": [
        "unigram_tagger_comb = UnigramTagger(train_corpus, backoff=default_tagger)\n",
        "bigram_tagger_comb = BigramTagger(train_corpus, backoff=unigram_tagger_comb)"
      ],
      "metadata": {
        "id": "DjhPl64AYDSQ"
      },
      "execution_count": null,
      "outputs": []
    },
    {
      "cell_type": "markdown",
      "source": [
        "## 3. Порівняйте точність даних тегерів."
      ],
      "metadata": {
        "id": "YKKwGqbMUvlk"
      }
    },
    {
      "cell_type": "code",
      "source": [
        "accuracies = []"
      ],
      "metadata": {
        "id": "VShR3R4nXTT1"
      },
      "execution_count": null,
      "outputs": []
    },
    {
      "cell_type": "code",
      "source": [
        "default = default_tagger.accuracy(test_corpus)\n",
        "accuracies.append({'Default': default})\n",
        "print(default)"
      ],
      "metadata": {
        "colab": {
          "base_uri": "https://localhost:8080/"
        },
        "id": "uOv9jE8QXIiR",
        "outputId": "cf516d6b-3008-4cd8-d5db-45de71d48596"
      },
      "execution_count": null,
      "outputs": [
        {
          "output_type": "stream",
          "name": "stdout",
          "text": [
            "0.13733151006055871\n"
          ]
        }
      ]
    },
    {
      "cell_type": "code",
      "source": [
        "unigram = unigram_tagger.accuracy(test_corpus)\n",
        "accuracies.append({'Unigram': unigram})\n",
        "print(unigram)"
      ],
      "metadata": {
        "colab": {
          "base_uri": "https://localhost:8080/"
        },
        "id": "PW4VvXobWxeZ",
        "outputId": "7258a2be-edfd-4476-cd6c-62a1f96ecbce"
      },
      "execution_count": null,
      "outputs": [
        {
          "output_type": "stream",
          "name": "stdout",
          "text": [
            "0.8903106075405353\n"
          ]
        }
      ]
    },
    {
      "cell_type": "code",
      "source": [
        "bigram = bigram_tagger.accuracy(test_corpus)\n",
        "accuracies.append({'Bigram': bigram})\n",
        "print(bigram)"
      ],
      "metadata": {
        "colab": {
          "base_uri": "https://localhost:8080/"
        },
        "id": "MSYGdj6HW-i2",
        "outputId": "d65d65db-efbf-470f-8261-509fe470fc8f"
      },
      "execution_count": null,
      "outputs": [
        {
          "output_type": "stream",
          "name": "stdout",
          "text": [
            "0.17444813440125023\n"
          ]
        }
      ]
    },
    {
      "cell_type": "code",
      "source": [
        "comb = bigram_tagger_comb.accuracy(test_corpus)\n",
        "accuracies.append({'Combined': comb})\n",
        "print(comb)"
      ],
      "metadata": {
        "colab": {
          "base_uri": "https://localhost:8080/"
        },
        "id": "Tnyx8v4HYX0O",
        "outputId": "a2d34d05-d2f0-46c3-e043-316db8112b9d"
      },
      "execution_count": null,
      "outputs": [
        {
          "output_type": "stream",
          "name": "stdout",
          "text": [
            "0.9098456729830044\n"
          ]
        }
      ]
    },
    {
      "cell_type": "code",
      "source": [
        "labels = [list(d.keys())[0] for d in accuracies]\n",
        "values = [list(d.values())[0] for d in accuracies]\n",
        "\n",
        "x = np.arange(len(labels))\n",
        "\n",
        "fig, axs = plt.subplots(1, 1, figsize=(10, 8))\n",
        "\n",
        "bars = axs.bar(x, values, label='Values')\n",
        "axs.set_xticks(x)\n",
        "axs.set_xticklabels(labels)\n",
        "axs.bar_label(bars, fmt='{:.4f}')\n",
        "plt.tight_layout()\n",
        "plt.show()"
      ],
      "metadata": {
        "colab": {
          "base_uri": "https://localhost:8080/",
          "height": 807
        },
        "id": "0hlK7ETjYiTJ",
        "outputId": "4d4fd401-3919-4eea-f695-a6db8aa3bbd0"
      },
      "execution_count": null,
      "outputs": [
        {
          "output_type": "display_data",
          "data": {
            "text/plain": [
              "<Figure size 1000x800 with 1 Axes>"
            ],
            "image/png": "[encoded data removed]"
          },
          "metadata": {}
        }
      ]
    },
    {
      "cell_type": "markdown",
      "source": [
        "## 4. Порівняйте точність даних тегерів з аналогічними, створеними на базі навчального корпусу 90% brown corpus, категорії fiction."
      ],
      "metadata": {
        "id": "cIa63s7UUxYa"
      }
    },
    {
      "cell_type": "code",
      "source": [
        "nltk.download('brown')\n",
        "nltk.download('punkt')\n",
        "from nltk.corpus import brown\n",
        "\n",
        "brown_tagged_sents=brown.tagged_sents(categories='fiction')"
      ],
      "metadata": {
        "colab": {
          "base_uri": "https://localhost:8080/"
        },
        "id": "fkcoNz7PuQrt",
        "outputId": "bc2a0c8a-9a65-4910-9fcf-2595625ef5c7"
      },
      "execution_count": null,
      "outputs": [
        {
          "output_type": "stream",
          "name": "stderr",
          "text": [
            "[nltk_data] Downloading package brown to /root/nltk_data...\n",
            "[nltk_data]   Package brown is already up-to-date!\n",
            "[nltk_data] Downloading package punkt to /root/nltk_data...\n",
            "[nltk_data]   Package punkt is already up-to-date!\n"
          ]
        }
      ]
    },
    {
      "cell_type": "code",
      "source": [
        "train_corpus_brown, test_corpus_brown = train_test_split(brown_tagged_sents, test_size=0.1, random_state=42)"
      ],
      "metadata": {
        "id": "7Wmzr5W3ujAV"
      },
      "execution_count": null,
      "outputs": []
    },
    {
      "cell_type": "code",
      "source": [
        "default_tagger_brown = DefaultTagger('NN')\n",
        "\n",
        "unigram_tagger_brown = UnigramTagger(train_corpus_brown)\n",
        "\n",
        "bigram_tagger_brown = BigramTagger(train_corpus_brown)"
      ],
      "metadata": {
        "id": "E2l2Pp7JvG-7"
      },
      "execution_count": null,
      "outputs": []
    },
    {
      "cell_type": "code",
      "source": [
        "unigram_tagger_comb_brown = UnigramTagger(train_corpus_brown, backoff=default_tagger_brown)\n",
        "bigram_tagger_comb_brown = BigramTagger(train_corpus_brown, backoff=unigram_tagger_comb_brown)"
      ],
      "metadata": {
        "id": "MaOUEHZtvG_K"
      },
      "execution_count": null,
      "outputs": []
    },
    {
      "cell_type": "code",
      "source": [
        "accuracies_brown = []"
      ],
      "metadata": {
        "id": "u_2IF5Bhv1ZB"
      },
      "execution_count": null,
      "outputs": []
    },
    {
      "cell_type": "code",
      "source": [
        "default_brown = default_tagger_brown.accuracy(test_corpus_brown)\n",
        "accuracies_brown.append({'Default': default_brown})\n",
        "print(default_brown)"
      ],
      "metadata": {
        "colab": {
          "base_uri": "https://localhost:8080/"
        },
        "outputId": "7130309b-3f1c-4c5c-eaa3-2c5531cb5944",
        "id": "Csvvr9M2wToN"
      },
      "execution_count": null,
      "outputs": [
        {
          "output_type": "stream",
          "name": "stdout",
          "text": [
            "0.1172318339100346\n"
          ]
        }
      ]
    },
    {
      "cell_type": "code",
      "source": [
        "unigram_brown = unigram_tagger_brown.accuracy(test_corpus_brown)\n",
        "accuracies_brown.append({'Unigram': unigram_brown})\n",
        "print(unigram_brown)"
      ],
      "metadata": {
        "colab": {
          "base_uri": "https://localhost:8080/"
        },
        "outputId": "8ba8d462-2fda-4642-9b14-3a7403a8097c",
        "id": "3kOM1_7hwToQ"
      },
      "execution_count": null,
      "outputs": [
        {
          "output_type": "stream",
          "name": "stdout",
          "text": [
            "0.840553633217993\n"
          ]
        }
      ]
    },
    {
      "cell_type": "code",
      "source": [
        "bigram_brown = bigram_tagger.accuracy(test_corpus_brown)\n",
        "accuracies_brown.append({'Bigram': bigram_brown})\n",
        "print(bigram_brown)"
      ],
      "metadata": {
        "colab": {
          "base_uri": "https://localhost:8080/"
        },
        "outputId": "e960f2fb-969f-4d92-c1e8-9365c18b2a5a",
        "id": "1TQBtqZIwToU"
      },
      "execution_count": null,
      "outputs": [
        {
          "output_type": "stream",
          "name": "stdout",
          "text": [
            "0.04968858131487889\n"
          ]
        }
      ]
    },
    {
      "cell_type": "code",
      "source": [
        "comb_brown = bigram_tagger_comb_brown.accuracy(test_corpus_brown)\n",
        "accuracies_brown.append({'Combined': comb_brown})\n",
        "print(comb_brown)"
      ],
      "metadata": {
        "colab": {
          "base_uri": "https://localhost:8080/"
        },
        "outputId": "c6b4d97b-e884-457b-d1c5-fba2e13b00f3",
        "id": "w7s0VYOQwToX"
      },
      "execution_count": null,
      "outputs": [
        {
          "output_type": "stream",
          "name": "stdout",
          "text": [
            "0.8725259515570934\n"
          ]
        }
      ]
    },
    {
      "cell_type": "code",
      "source": [
        "print(accuracies_brown)"
      ],
      "metadata": {
        "colab": {
          "base_uri": "https://localhost:8080/"
        },
        "id": "qo4wtQRzw01U",
        "outputId": "5d4fa519-1f1a-476a-c829-2ae3b90b096b"
      },
      "execution_count": null,
      "outputs": [
        {
          "output_type": "stream",
          "name": "stdout",
          "text": [
            "[{'Default': 0.1172318339100346}, {'Unigram': 0.840553633217993}, {'Bigram': 0.04968858131487889}, {'Combined': 0.8725259515570934}]\n"
          ]
        }
      ]
    },
    {
      "cell_type": "code",
      "source": [
        "labels = [list(d.keys())[0] for d in accuracies_brown]\n",
        "values = [list(d.values())[0] for d in accuracies_brown]\n",
        "\n",
        "x = np.arange(len(labels))\n",
        "\n",
        "fig, axs = plt.subplots(1, 1, figsize=(10, 8))\n",
        "\n",
        "bars = axs.bar(x, values, label='Values')\n",
        "axs.set_xticks(x)\n",
        "axs.set_xticklabels(labels)\n",
        "axs.bar_label(bars, fmt='{:.4f}')\n",
        "\n",
        "plt.tight_layout()\n",
        "plt.show()"
      ],
      "metadata": {
        "colab": {
          "base_uri": "https://localhost:8080/",
          "height": 807
        },
        "id": "PuGrmOtDxD1Y",
        "outputId": "53eaed53-3280-4cd1-ae68-35fe8cb66ed0"
      },
      "execution_count": null,
      "outputs": [
        {
          "output_type": "display_data",
          "data": {
            "text/plain": [
              "<Figure size 1000x800 with 1 Axes>"
            ],
            "image/png": "[encoded data removed]"
          },
          "metadata": {}
        }
      ]
    },
    {
      "cell_type": "code",
      "source": [
        "labels_brown = [list(d.keys())[0] for d in accuracies_brown]\n",
        "values_brown = [list(d.values())[0] for d in accuracies_brown]\n",
        "\n",
        "labels = [list(d.keys())[0] for d in accuracies]\n",
        "values = [list(d.values())[0] for d in accuracies]\n",
        "\n",
        "all_labels = list(set(labels_brown + labels))\n",
        "all_values_brown = [values_brown[labels_brown.index(label)] if label in labels_brown else 0 for label in all_labels]\n",
        "all_values = [values[labels.index(label)] if label in labels else 0 for label in all_labels]\n",
        "\n",
        "x = np.arange(len(all_labels))\n",
        "\n",
        "fig, axs = plt.subplots(1, 1, figsize=(12, 8))\n",
        "\n",
        "bars1 = axs.bar(x - 0.2, all_values_brown, width=0.4, label='Brown Accuracies', color='tab:orange')\n",
        "bars2 = axs.bar(x + 0.2, all_values, width=0.4, label='Accuracies', color='tab:blue')\n",
        "\n",
        "axs.set_xticks(x)\n",
        "axs.set_xticklabels(all_labels)\n",
        "axs.bar_label(bars1, fmt='{:.4f}')\n",
        "axs.bar_label(bars2, fmt='{:.4f}')\n",
        "\n",
        "plt.legend()\n",
        "plt.tight_layout()\n",
        "plt.show()"
      ],
      "metadata": {
        "colab": {
          "base_uri": "https://localhost:8080/",
          "height": 768
        },
        "id": "vpDDZarEx7rv",
        "outputId": "f928c594-83ca-4896-d060-fe451037d5d5"
      },
      "execution_count": null,
      "outputs": [
        {
          "output_type": "display_data",
          "data": {
            "text/plain": [
              "<Figure size 1200x800 with 1 Axes>"
            ],
            "image/png": "[encoded data removed]"
          },
          "metadata": {}
        }
      ]
    },
    {
      "cell_type": "markdown",
      "source": [
        "## 5. Створіть текстовий файл англійської мови. Здійсніть його розмітку за допомогою комбінованих тегерів, створених на основі корпусу brown та корпусу treebank. Збережіть результати до файлів та порівняйте."
      ],
      "metadata": {
        "id": "YEWtnvFUUzTG"
      }
    },
    {
      "cell_type": "code",
      "source": [
        "text = '''\n",
        "Harry Potter was a highly unusual boy in many ways. For one thing, he hated the summer holidays more than any other time of year. For another, he really wanted to do his homework but was forced to do it in secret,\n",
        "in the dead of night. And he also happened to be a wizard.\n",
        "It was nearly midnight, and he was lying on his stomach in bed, the blankets drawn right over his head like a tent, a flashlight in one hand\n",
        "and a large leather-bound book (A History of Magic by Bathilda Bagshot) propped open against the pillow. Harry moved the tip of his\n",
        "eagle-feather quill down the page, frowning as he looked for something that would help him write his essay, \"Witch Burning in the Fourteenth Century Was Completely Pointless discuss.\"\n",
        "The quill paused at the top of a likely-looking paragraph. Harry Pushed his round glasses up the bridge of his nose, moved his flashlight closer to the book, and read:\n",
        "Non-magic people (more commonly known as Muggles) were particularly afraid of magic in medieval times, but not very good at recognizing it.\n",
        "On the rare occasion that they did catch a real witch or wizard, burning had no effect whatsoever. The witch or wizard would perform a basic Flame Freezing Charm and then pretend to shriek with pain while enjoying a gentle, tickling sensation. Indeed, Wendelin the Weird enjoyed being burned so much that she allowed herself to be caught no less than fortyseven times in various disguises.\n",
        "'''"
      ],
      "metadata": {
        "id": "nJmI6BttyCUK"
      },
      "execution_count": null,
      "outputs": []
    },
    {
      "cell_type": "code",
      "source": [
        "tokens = word_tokenize(text)\n",
        "\n",
        "tags_comb = bigram_tagger_comb.tag(tokens)\n",
        "tags_comb_brown = bigram_tagger_comb_brown.tag(tokens)\n",
        "\n",
        "with open(\"tagged_result_comb.txt\", \"w\") as file:\n",
        "    for tag1, tag2 in tags_comb:\n",
        "        file.write(str(tag1) + \" \" + str(tag2) + \"\\n\")\n",
        "\n",
        "with open(\"tagged_result_comb_brown.txt\", \"w\") as file:\n",
        "    for tag1, tag2 in tags_comb_brown:\n",
        "        file.write(str(tag1) + \" \" + str(tag2) + \"\\n\")\n",
        "\n",
        "for tag1, tag2 in zip(tags_comb, tags_comb_brown):\n",
        "  print (tag1, tag2)"
      ],
      "metadata": {
        "id": "R0E-OJ7cz9p-",
        "colab": {
          "base_uri": "https://localhost:8080/"
        },
        "outputId": "abec5e70-f220-46c4-f0dc-45b08cb4f7fd"
      },
      "execution_count": null,
      "outputs": [
        {
          "output_type": "stream",
          "name": "stdout",
          "text": [
            "('Harry', 'NNP') ('Harry', 'NP')\n",
            "('Potter', 'NN') ('Potter', 'NN')\n",
            "('was', 'VBD') ('was', 'BEDZ')\n",
            "('a', 'DT') ('a', 'AT')\n",
            "('highly', 'RB') ('highly', 'QL')\n",
            "('unusual', 'JJ') ('unusual', 'JJ')\n",
            "('boy', 'NN') ('boy', 'NN')\n",
            "('in', 'IN') ('in', 'IN')\n",
            "('many', 'JJ') ('many', 'AP')\n",
            "('ways', 'NNS') ('ways', 'NNS')\n",
            "('.', '.') ('.', '.')\n",
            "('For', 'IN') ('For', 'IN')\n",
            "('one', 'CD') ('one', 'CD')\n",
            "('thing', 'NN') ('thing', 'NN')\n",
            "(',', ',') (',', ',')\n",
            "('he', 'PRP') ('he', 'PPS')\n",
            "('hated', 'NN') ('hated', 'VBD')\n",
            "('the', 'DT') ('the', 'AT')\n",
            "('summer', 'NN') ('summer', 'NN')\n",
            "('holidays', 'NNS') ('holidays', 'NN')\n",
            "('more', 'JJR') ('more', 'AP')\n",
            "('than', 'IN') ('than', 'CS')\n",
            "('any', 'DT') ('any', 'DTI')\n",
            "('other', 'JJ') ('other', 'AP')\n",
            "('time', 'NN') ('time', 'NN')\n",
            "('of', 'IN') ('of', 'IN')\n",
            "('year', 'NN') ('year', 'NN')\n",
            "('.', '.') ('.', '.')\n",
            "('For', 'IN') ('For', 'IN')\n",
            "('another', 'DT') ('another', 'DT')\n",
            "(',', ',') (',', ',')\n",
            "('he', 'PRP') ('he', 'PPS')\n",
            "('really', 'RB') ('really', 'RB')\n",
            "('wanted', 'VBD') ('wanted', 'VBD')\n",
            "('to', 'TO') ('to', 'TO')\n",
            "('do', 'VB') ('do', 'DO')\n",
            "('his', 'PRP$') ('his', 'PP$')\n",
            "('homework', 'NN') ('homework', 'NN')\n",
            "('but', 'CC') ('but', 'CC')\n",
            "('was', 'VBD') ('was', 'BEDZ')\n",
            "('forced', 'VBN') ('forced', 'VBN')\n",
            "('to', 'TO') ('to', 'TO')\n",
            "('do', 'VB') ('do', 'DO')\n",
            "('it', 'PRP') ('it', 'PPO')\n",
            "('in', 'IN') ('in', 'IN')\n",
            "('secret', 'NN') ('secret', 'NN')\n",
            "(',', ',') (',', ',')\n",
            "('in', 'IN') ('in', 'IN')\n",
            "('the', 'DT') ('the', 'AT')\n",
            "('dead', 'JJ') ('dead', 'JJ')\n",
            "('of', 'IN') ('of', 'IN')\n",
            "('night', 'NN') ('night', 'NN')\n",
            "('.', '.') ('.', '.')\n",
            "('And', 'CC') ('And', 'CC')\n",
            "('he', 'PRP') ('he', 'PPS')\n",
            "('also', 'RB') ('also', 'RB')\n",
            "('happened', 'VBD') ('happened', 'VBD')\n",
            "('to', 'TO') ('to', 'TO')\n",
            "('be', 'VB') ('be', 'BE')\n",
            "('a', 'DT') ('a', 'AT')\n",
            "('wizard', 'NN') ('wizard', 'NN')\n",
            "('.', '.') ('.', '.')\n",
            "('It', 'PRP') ('It', 'PPS')\n",
            "('was', 'VBD') ('was', 'BEDZ')\n",
            "('nearly', 'RB') ('nearly', 'RB')\n",
            "('midnight', 'NN') ('midnight', 'NN')\n",
            "(',', ',') (',', ',')\n",
            "('and', 'CC') ('and', 'CC')\n",
            "('he', 'PRP') ('he', 'PPS')\n",
            "('was', 'VBD') ('was', 'BEDZ')\n",
            "('lying', 'VBG') ('lying', 'VBG')\n",
            "('on', 'IN') ('on', 'IN')\n",
            "('his', 'PRP$') ('his', 'PP$')\n",
            "('stomach', 'NN') ('stomach', 'NN')\n",
            "('in', 'IN') ('in', 'IN')\n",
            "('bed', 'NN') ('bed', 'NN')\n",
            "(',', ',') (',', ',')\n",
            "('the', 'DT') ('the', 'AT')\n",
            "('blankets', 'NN') ('blankets', 'NNS')\n",
            "('drawn', 'VBN') ('drawn', 'VBN')\n",
            "('right', 'NN') ('right', 'JJ')\n",
            "('over', 'IN') ('over', 'IN')\n",
            "('his', 'PRP$') ('his', 'PP$')\n",
            "('head', 'NN') ('head', 'NN')\n",
            "('like', 'IN') ('like', 'CS')\n",
            "('a', 'DT') ('a', 'AT')\n",
            "('tent', 'NN') ('tent', 'NN')\n",
            "(',', ',') (',', ',')\n",
            "('a', 'DT') ('a', 'AT')\n",
            "('flashlight', 'NN') ('flashlight', 'NN')\n",
            "('in', 'IN') ('in', 'IN')\n",
            "('one', 'CD') ('one', 'CD')\n",
            "('hand', 'NN') ('hand', 'NN')\n",
            "('and', 'CC') ('and', 'CC')\n",
            "('a', 'DT') ('a', 'AT')\n",
            "('large', 'JJ') ('large', 'JJ')\n",
            "('leather-bound', 'NN') ('leather-bound', 'NN')\n",
            "('book', 'NN') ('book', 'NN')\n",
            "('(', 'NN') ('(', '(')\n",
            "('A', 'DT') ('A', 'AT')\n",
            "('History', 'NN') ('History', 'NN')\n",
            "('of', 'IN') ('of', 'IN')\n",
            "('Magic', 'NN') ('Magic', 'NN')\n",
            "('by', 'IN') ('by', 'IN')\n",
            "('Bathilda', 'NN') ('Bathilda', 'NN')\n",
            "('Bagshot', 'NN') ('Bagshot', 'NN')\n",
            "(')', 'NN') (')', ')')\n",
            "('propped', 'NN') ('propped', 'NN')\n",
            "('open', 'JJ') ('open', 'JJ')\n",
            "('against', 'IN') ('against', 'IN')\n",
            "('the', 'DT') ('the', 'AT')\n",
            "('pillow', 'NN') ('pillow', 'NN')\n",
            "('.', '.') ('.', '.')\n",
            "('Harry', 'NNP') ('Harry', 'NP')\n",
            "('moved', 'VBD') ('moved', 'VBD')\n",
            "('the', 'DT') ('the', 'AT')\n",
            "('tip', 'VB') ('tip', 'NN')\n",
            "('of', 'IN') ('of', 'IN')\n",
            "('his', 'PRP$') ('his', 'PP$')\n",
            "('eagle-feather', 'NN') ('eagle-feather', 'NN')\n",
            "('quill', 'NN') ('quill', 'NN')\n",
            "('down', 'RP') ('down', 'RP')\n",
            "('the', 'DT') ('the', 'AT')\n",
            "('page', 'NN') ('page', 'NN')\n",
            "(',', ',') (',', ',')\n",
            "('frowning', 'NN') ('frowning', 'VBG')\n",
            "('as', 'IN') ('as', 'CS')\n",
            "('he', 'PRP') ('he', 'PPS')\n",
            "('looked', 'VBN') ('looked', 'VBD')\n",
            "('for', 'IN') ('for', 'IN')\n",
            "('something', 'NN') ('something', 'PN')\n",
            "('that', 'WDT') ('that', 'CS')\n",
            "('would', 'MD') ('would', 'MD')\n",
            "('help', 'VB') ('help', 'VB')\n",
            "('him', 'PRP') ('him', 'PPO')\n",
            "('write', 'VB') ('write', 'VB')\n",
            "('his', 'PRP$') ('his', 'PP$')\n",
            "('essay', 'NN') ('essay', 'NN')\n",
            "(',', ',') (',', ',')\n",
            "('``', '``') ('``', '``')\n",
            "('Witch', 'NN') ('Witch', 'NN')\n",
            "('Burning', 'NN') ('Burning', 'NN')\n",
            "('in', 'IN') ('in', 'IN')\n",
            "('the', 'DT') ('the', 'AT')\n",
            "('Fourteenth', 'NN') ('Fourteenth', 'NN')\n",
            "('Century', 'NNP') ('Century', 'NN')\n",
            "('Was', 'NN') ('Was', 'BEDZ')\n",
            "('Completely', 'NN') ('Completely', 'NN')\n",
            "('Pointless', 'NN') ('Pointless', 'NN')\n",
            "('discuss', 'VB') ('discuss', 'VB')\n",
            "('.', '.') ('.', '.')\n",
            "(\"''\", \"''\") (\"''\", \"''\")\n",
            "('The', 'DT') ('The', 'AT')\n",
            "('quill', 'NN') ('quill', 'NN')\n",
            "('paused', 'NN') ('paused', 'VBD')\n",
            "('at', 'IN') ('at', 'IN')\n",
            "('the', 'DT') ('the', 'AT')\n",
            "('top', 'JJ') ('top', 'NN')\n",
            "('of', 'IN') ('of', 'IN')\n",
            "('a', 'DT') ('a', 'AT')\n",
            "('likely-looking', 'NN') ('likely-looking', 'NN')\n",
            "('paragraph', 'NN') ('paragraph', 'NN')\n",
            "('.', '.') ('.', '.')\n",
            "('Harry', 'NNP') ('Harry', 'NP')\n",
            "('Pushed', 'NN') ('Pushed', 'NN')\n",
            "('his', 'PRP$') ('his', 'PP$')\n",
            "('round', 'NN') ('round', 'JJ')\n",
            "('glasses', 'NN') ('glasses', 'NNS')\n",
            "('up', 'IN') ('up', 'RP')\n",
            "('the', 'DT') ('the', 'AT')\n",
            "('bridge', 'NN') ('bridge', 'NN')\n",
            "('of', 'IN') ('of', 'IN')\n",
            "('his', 'PRP$') ('his', 'PP$')\n",
            "('nose', 'NN') ('nose', 'NN')\n",
            "(',', ',') (',', ',')\n",
            "('moved', 'VBD') ('moved', 'VBD')\n",
            "('his', 'PRP$') ('his', 'PP$')\n",
            "('flashlight', 'NN') ('flashlight', 'NN')\n",
            "('closer', 'JJR') ('closer', 'JJR')\n",
            "('to', 'TO') ('to', 'TO')\n",
            "('the', 'DT') ('the', 'AT')\n",
            "('book', 'NN') ('book', 'NN')\n",
            "(',', ',') (',', ',')\n",
            "('and', 'CC') ('and', 'CC')\n",
            "('read', 'VB') ('read', 'VB')\n",
            "(':', ':') (':', ':')\n",
            "('Non-magic', 'NN') ('Non-magic', 'NN')\n",
            "('people', 'NNS') ('people', 'NNS')\n",
            "('(', 'NN') ('(', '(')\n",
            "('more', 'RBR') ('more', 'AP')\n",
            "('commonly', 'NN') ('commonly', 'NN')\n",
            "('known', 'VBN') ('known', 'VBN')\n",
            "('as', 'IN') ('as', 'CS')\n",
            "('Muggles', 'NN') ('Muggles', 'NN')\n",
            "(')', 'NN') (')', ')')\n",
            "('were', 'VBD') ('were', 'BED')\n",
            "('particularly', 'RB') ('particularly', 'RB')\n",
            "('afraid', 'JJ') ('afraid', 'JJ')\n",
            "('of', 'IN') ('of', 'IN')\n",
            "('magic', 'NN') ('magic', 'JJ')\n",
            "('in', 'IN') ('in', 'IN')\n",
            "('medieval', 'NN') ('medieval', 'JJ')\n",
            "('times', 'NNS') ('times', 'NNS')\n",
            "(',', ',') (',', ',')\n",
            "('but', 'CC') ('but', 'CC')\n",
            "('not', 'RB') ('not', '*')\n",
            "('very', 'RB') ('very', 'QL')\n",
            "('good', 'JJ') ('good', 'JJ')\n",
            "('at', 'IN') ('at', 'IN')\n",
            "('recognizing', 'VBG') ('recognizing', 'NN')\n",
            "('it', 'PRP') ('it', 'PPS')\n",
            "('.', '.') ('.', '.')\n",
            "('On', 'IN') ('On', 'IN')\n",
            "('the', 'DT') ('the', 'AT')\n",
            "('rare', 'JJ') ('rare', 'JJ')\n",
            "('occasion', 'NN') ('occasion', 'NN')\n",
            "('that', 'WDT') ('that', 'WPS')\n",
            "('they', 'PRP') ('they', 'PPSS')\n",
            "('did', 'VBD') ('did', 'DOD')\n",
            "('catch', 'NN') ('catch', 'VB')\n",
            "('a', 'DT') ('a', 'AT')\n",
            "('real', 'JJ') ('real', 'JJ')\n",
            "('witch', 'NN') ('witch', 'NN')\n",
            "('or', 'CC') ('or', 'CC')\n",
            "('wizard', 'NN') ('wizard', 'NN')\n",
            "(',', ',') (',', ',')\n",
            "('burning', 'NN') ('burning', 'VBG')\n",
            "('had', 'VBD') ('had', 'HVD')\n",
            "('no', 'DT') ('no', 'AT')\n",
            "('effect', 'NN') ('effect', 'NN')\n",
            "('whatsoever', 'NN') ('whatsoever', 'NN')\n",
            "('.', '.') ('.', '.')\n",
            "('The', 'DT') ('The', 'AT')\n",
            "('witch', 'NN') ('witch', 'NN')\n",
            "('or', 'CC') ('or', 'CC')\n",
            "('wizard', 'NN') ('wizard', 'NN')\n",
            "('would', 'MD') ('would', 'MD')\n",
            "('perform', 'VB') ('perform', 'NN')\n",
            "('a', 'DT') ('a', 'AT')\n",
            "('basic', 'JJ') ('basic', 'NN')\n",
            "('Flame', 'NN') ('Flame', 'NN')\n",
            "('Freezing', 'NN') ('Freezing', 'NN')\n",
            "('Charm', 'NN') ('Charm', 'NN')\n",
            "('and', 'CC') ('and', 'CC')\n",
            "('then', 'RB') ('then', 'RB')\n",
            "('pretend', 'NN') ('pretend', 'VB')\n",
            "('to', 'TO') ('to', 'TO')\n",
            "('shriek', 'NN') ('shriek', 'NN')\n",
            "('with', 'IN') ('with', 'IN')\n",
            "('pain', 'NN') ('pain', 'NN')\n",
            "('while', 'IN') ('while', 'CS')\n",
            "('enjoying', 'VBG') ('enjoying', 'VBG')\n",
            "('a', 'DT') ('a', 'AT')\n",
            "('gentle', 'JJ') ('gentle', 'JJ')\n",
            "(',', ',') (',', ',')\n",
            "('tickling', 'NN') ('tickling', 'NN')\n",
            "('sensation', 'NN') ('sensation', 'NN')\n",
            "('.', '.') ('.', '.')\n",
            "('Indeed', 'RB') ('Indeed', 'NN')\n",
            "(',', ',') (',', ',')\n",
            "('Wendelin', 'NN') ('Wendelin', 'NN')\n",
            "('the', 'DT') ('the', 'AT')\n",
            "('Weird', 'NN') ('Weird', 'NN')\n",
            "('enjoyed', 'VBN') ('enjoyed', 'VBD')\n",
            "('being', 'VBG') ('being', 'BEG')\n",
            "('burned', 'VBN') ('burned', 'VBD')\n",
            "('so', 'IN') ('so', 'QL')\n",
            "('much', 'JJ') ('much', 'AP')\n",
            "('that', 'IN') ('that', 'CS')\n",
            "('she', 'PRP') ('she', 'PPS')\n",
            "('allowed', 'VBN') ('allowed', 'VBD')\n",
            "('herself', 'NN') ('herself', 'PPL')\n",
            "('to', 'TO') ('to', 'TO')\n",
            "('be', 'VB') ('be', 'BE')\n",
            "('caught', 'VBN') ('caught', 'VBN')\n",
            "('no', 'DT') ('no', 'AT')\n",
            "('less', 'RBR') ('less', 'AP')\n",
            "('than', 'IN') ('than', 'CS')\n",
            "('fortyseven', 'NN') ('fortyseven', 'NN')\n",
            "('times', 'NNS') ('times', 'NNS')\n",
            "('in', 'IN') ('in', 'IN')\n",
            "('various', 'JJ') ('various', 'NN')\n",
            "('disguises', 'NN') ('disguises', 'NN')\n",
            "('.', '.') ('.', '.')\n"
          ]
        }
      ]
    },
    {
      "cell_type": "code",
      "source": [
        "from collections import Counter\n",
        "\n",
        "# Count the distribution of tags for the first tagger\n",
        "tag_distribution_comb = Counter(tag for token, tag in tags_comb)\n",
        "\n",
        "# Count the distribution of tags for the second tagger\n",
        "tag_distribution_comb_brown = Counter(tag for token, tag in tags_comb_brown)"
      ],
      "metadata": {
        "id": "Ces0Jz53r-zt"
      },
      "execution_count": null,
      "outputs": []
    },
    {
      "cell_type": "code",
      "source": [
        "unique_tags_comb = sorted(set(tag for token, tag in tags_comb if tag is not None))\n",
        "unique_tags_comb_brown = sorted(set(tag for token, tag in tags_comb_brown if tag is not None))\n",
        "\n",
        "# Sort tags by frequency\n",
        "sorted_tags_comb = sorted(unique_tags_comb, key=lambda tag: tag_distribution_comb[tag], reverse=True)\n",
        "sorted_tags_comb_brown = sorted(unique_tags_comb_brown, key=lambda tag: tag_distribution_comb_brown[tag], reverse=True)\n",
        "\n",
        "fig, axes = plt.subplots(1, 2, figsize=(15, 5))\n",
        "\n",
        "# Plot distribution of tags for the first tagger\n",
        "bar1 = axes[0].bar(sorted_tags_comb, [tag_distribution_comb[tag] for tag in sorted_tags_comb], color='blue')\n",
        "axes[0].set_title('Distribution of Tags (Treebank Tagger)')\n",
        "axes[0].set_xlabel('Tags')\n",
        "axes[0].set_ylabel('Frequency')\n",
        "axes[0].tick_params(axis='x', rotation=90)\n",
        "axes[0].bar_label(bar1)\n",
        "\n",
        "# Plot distribution of tags for the second tagger\n",
        "bar2 = axes[1].bar(sorted_tags_comb_brown, [tag_distribution_comb_brown[tag] for tag in sorted_tags_comb_brown], color='green')\n",
        "axes[1].set_title('Distribution of Tags (Brown Tagger)')\n",
        "axes[1].set_xlabel('Tags')\n",
        "axes[1].set_ylabel('Frequency')\n",
        "axes[1].tick_params(axis='x', rotation=90)\n",
        "axes[1].bar_label(bar2)\n",
        "\n",
        "plt.tight_layout()\n",
        "plt.show()"
      ],
      "metadata": {
        "colab": {
          "base_uri": "https://localhost:8080/",
          "height": 389
        },
        "id": "XGVVMnXXgGpt",
        "outputId": "a521a958-2c5a-4520-cc93-a8f7df8e1ccf"
      },
      "execution_count": null,
      "outputs": [
        {
          "output_type": "display_data",
          "data": {
            "text/plain": [
              "<Figure size 1500x500 with 2 Axes>"
            ],
            "image/png": "[encoded data removed]"
          },
          "metadata": {}
        }
      ]
    },
    {
      "cell_type": "markdown",
      "source": [
        "## 6. Створіть Combining backoff tager на базі TrigramTag для будь-якого навчального корпусу. Оцініть точність його роботи"
      ],
      "metadata": {
        "id": "761GeowwU1Vt"
      }
    },
    {
      "cell_type": "code",
      "source": [
        "nltk.download('treebank')"
      ],
      "metadata": {
        "colab": {
          "base_uri": "https://localhost:8080/"
        },
        "id": "2clPQ9z7la8S",
        "outputId": "714966d1-f837-4e97-95b8-4abf65757875"
      },
      "execution_count": null,
      "outputs": [
        {
          "output_type": "stream",
          "name": "stderr",
          "text": [
            "[nltk_data] Downloading package treebank to /root/nltk_data...\n",
            "[nltk_data]   Package treebank is already up-to-date!\n"
          ]
        },
        {
          "output_type": "execute_result",
          "data": {
            "text/plain": [
              "True"
            ]
          },
          "metadata": {},
          "execution_count": 123
        }
      ]
    },
    {
      "cell_type": "code",
      "source": [
        "sentences = treebank.tagged_sents()"
      ],
      "metadata": {
        "id": "0ru7lc4qkpdI"
      },
      "execution_count": null,
      "outputs": []
    },
    {
      "cell_type": "code",
      "source": [
        "train_corpus, test_corpus = train_test_split(sentences, test_size=0.1, random_state=42)"
      ],
      "metadata": {
        "id": "P_yRCaamlN-H"
      },
      "execution_count": null,
      "outputs": []
    },
    {
      "cell_type": "code",
      "source": [
        "default_tagger = DefaultTagger('NN')\n",
        "unigram_tagger_comb = UnigramTagger(train_corpus, backoff=default_tagger)\n",
        "bigram_tagger_comb = BigramTagger(train_corpus, backoff=unigram_tagger_comb)\n",
        "trigram_tagger_comb = TrigramTagger(train_corpus, backoff=bigram_tagger_comb)"
      ],
      "metadata": {
        "id": "epb_hSCQnB-D"
      },
      "execution_count": null,
      "outputs": []
    },
    {
      "cell_type": "code",
      "source": [
        "comb = trigram_tagger_comb.accuracy(test_corpus)\n",
        "accuracies.append({'Combined': comb})\n",
        "print(comb)"
      ],
      "metadata": {
        "colab": {
          "base_uri": "https://localhost:8080/"
        },
        "id": "wybFZdrJoNM5",
        "outputId": "76de172a-b2ff-47d1-bc9f-f940f0cc51b6"
      },
      "execution_count": null,
      "outputs": [
        {
          "output_type": "stream",
          "name": "stdout",
          "text": [
            "0.9093572963469427\n"
          ]
        }
      ]
    },
    {
      "cell_type": "markdown",
      "source": [
        "## 7. Збережіть навчений комбінований тегер, створений на базі treebank корпусу до файлу."
      ],
      "metadata": {
        "id": "0FcKUdyRU3t6"
      }
    },
    {
      "cell_type": "code",
      "source": [
        "from _pickle import dump\n",
        "from _pickle import load"
      ],
      "metadata": {
        "id": "BjpHl1d0ou-I"
      },
      "execution_count": null,
      "outputs": []
    },
    {
      "cell_type": "code",
      "source": [
        "output = open('trigram.pkl', 'wb')\n",
        "dump(trigram_tagger_comb, output, -1)"
      ],
      "metadata": {
        "id": "rpWm_EX3o3DI"
      },
      "execution_count": null,
      "outputs": []
    },
    {
      "cell_type": "markdown",
      "source": [
        "## 8. Використовуйте цей збережений тегер для анотування невеликого англійського тексту."
      ],
      "metadata": {
        "id": "80IU7JurU6Dz"
      }
    },
    {
      "cell_type": "code",
      "source": [
        "text = '''\n",
        "Harry Potter was a highly unusual boy in many ways. For one thing, he hated the summer holidays more than any other time of year. For another, he really wanted to do his homework but was forced to do it in secret,\n",
        "in the dead of night. And he also happened to be a wizard.\n",
        "It was nearly midnight, and he was lying on his stomach in bed, the blankets drawn right over his head like a tent, a flashlight in one hand\n",
        "and a large leather-bound book (A History of Magic by Bathilda Bagshot) propped open against the pillow. Harry moved the tip of his\n",
        "eagle-feather quill down the page, frowning as he looked for something that would help him write his essay, \"Witch Burning in the Fourteenth Century Was Completely Pointless discuss.\"\n",
        "The quill paused at the top of a likely-looking paragraph. Harry Pushed his round glasses up the bridge of his nose, moved his flashlight closer to the book, and read:\n",
        "Non-magic people (more commonly known as Muggles) were particularly afraid of magic in medieval times, but not very good at recognizing it.\n",
        "On the rare occasion that they did catch a real witch or wizard, burning had no effect whatsoever. The witch or wizard would perform a basic Flame Freezing Charm and then pretend to shriek with pain while enjoying a gentle, tickling sensation. Indeed, Wendelin the Weird enjoyed being burned so much that she allowed herself to be caught no less than fortyseven times in various disguises.\n",
        "'''"
      ],
      "metadata": {
        "id": "JxFzO98qp9RP"
      },
      "execution_count": null,
      "outputs": []
    },
    {
      "cell_type": "code",
      "source": [
        "input = open('trigram.pkl', 'rb')\n",
        "tagger = load(input)\n",
        "input.close()"
      ],
      "metadata": {
        "id": "Uwmmtjj1p1G7"
      },
      "execution_count": null,
      "outputs": []
    },
    {
      "cell_type": "code",
      "source": [
        "tokens = text.split()\n",
        "tags_tricomb = tagger.tag(tokens)\n",
        "\n",
        "print(tags_tricomb)"
      ],
      "metadata": {
        "colab": {
          "base_uri": "https://localhost:8080/"
        },
        "id": "HTlyOt6DqDko",
        "outputId": "bbe505ce-d4fd-4b7e-a270-99f39e9def17"
      },
      "execution_count": null,
      "outputs": [
        {
          "output_type": "stream",
          "name": "stdout",
          "text": [
            "[('Harry', 'NNP'), ('Potter', 'NN'), ('was', 'VBD'), ('a', 'DT'), ('highly', 'RB'), ('unusual', 'JJ'), ('boy', 'NN'), ('in', 'IN'), ('many', 'JJ'), ('ways.', 'NN'), ('For', 'IN'), ('one', 'CD'), ('thing,', 'NN'), ('he', 'PRP'), ('hated', 'NN'), ('the', 'DT'), ('summer', 'NN'), ('holidays', 'NNS'), ('more', 'RBR'), ('than', 'IN'), ('any', 'DT'), ('other', 'JJ'), ('time', 'NN'), ('of', 'IN'), ('year.', 'NN'), ('For', 'IN'), ('another,', 'NN'), ('he', 'PRP'), ('really', 'RB'), ('wanted', 'VBD'), ('to', 'TO'), ('do', 'VB'), ('his', 'PRP$'), ('homework', 'NN'), ('but', 'CC'), ('was', 'VBD'), ('forced', 'VBN'), ('to', 'TO'), ('do', 'VB'), ('it', 'PRP'), ('in', 'IN'), ('secret,', 'NN'), ('in', 'IN'), ('the', 'DT'), ('dead', 'JJ'), ('of', 'IN'), ('night.', 'NN'), ('And', 'CC'), ('he', 'PRP'), ('also', 'RB'), ('happened', 'VBD'), ('to', 'TO'), ('be', 'VB'), ('a', 'DT'), ('wizard.', 'NN'), ('It', 'PRP'), ('was', 'VBD'), ('nearly', 'RB'), ('midnight,', 'NN'), ('and', 'CC'), ('he', 'PRP'), ('was', 'VBD'), ('lying', 'VBG'), ('on', 'IN'), ('his', 'PRP$'), ('stomach', 'NN'), ('in', 'IN'), ('bed,', 'NN'), ('the', 'DT'), ('blankets', 'NN'), ('drawn', 'VBN'), ('right', 'NN'), ('over', 'IN'), ('his', 'PRP$'), ('head', 'NN'), ('like', 'IN'), ('a', 'DT'), ('tent,', 'NN'), ('a', 'DT'), ('flashlight', 'NN'), ('in', 'IN'), ('one', 'CD'), ('hand', 'NN'), ('and', 'CC'), ('a', 'DT'), ('large', 'JJ'), ('leather-bound', 'NN'), ('book', 'NN'), ('(A', 'NN'), ('History', 'NN'), ('of', 'IN'), ('Magic', 'NN'), ('by', 'IN'), ('Bathilda', 'NN'), ('Bagshot)', 'NN'), ('propped', 'NN'), ('open', 'JJ'), ('against', 'IN'), ('the', 'DT'), ('pillow.', 'NN'), ('Harry', 'NNP'), ('moved', 'VBD'), ('the', 'DT'), ('tip', 'VB'), ('of', 'IN'), ('his', 'PRP$'), ('eagle-feather', 'NN'), ('quill', 'NN'), ('down', 'RP'), ('the', 'DT'), ('page,', 'NN'), ('frowning', 'NN'), ('as', 'IN'), ('he', 'PRP'), ('looked', 'VBN'), ('for', 'IN'), ('something', 'NN'), ('that', 'IN'), ('would', 'MD'), ('help', 'VB'), ('him', 'PRP'), ('write', 'VB'), ('his', 'PRP$'), ('essay,', 'NN'), ('\"Witch', 'NN'), ('Burning', 'NN'), ('in', 'IN'), ('the', 'DT'), ('Fourteenth', 'NN'), ('Century', 'NNP'), ('Was', 'NN'), ('Completely', 'NN'), ('Pointless', 'NN'), ('discuss.\"', 'NN'), ('The', 'DT'), ('quill', 'NN'), ('paused', 'NN'), ('at', 'IN'), ('the', 'DT'), ('top', 'JJ'), ('of', 'IN'), ('a', 'DT'), ('likely-looking', 'NN'), ('paragraph.', 'NN'), ('Harry', 'NNP'), ('Pushed', 'NN'), ('his', 'PRP$'), ('round', 'NN'), ('glasses', 'NN'), ('up', 'IN'), ('the', 'DT'), ('bridge', 'NN'), ('of', 'IN'), ('his', 'PRP$'), ('nose,', 'NN'), ('moved', 'VBD'), ('his', 'PRP$'), ('flashlight', 'NN'), ('closer', 'JJR'), ('to', 'TO'), ('the', 'DT'), ('book,', 'NN'), ('and', 'CC'), ('read:', 'NN'), ('Non-magic', 'NN'), ('people', 'NNS'), ('(more', 'NN'), ('commonly', 'NN'), ('known', 'VBN'), ('as', 'IN'), ('Muggles)', 'NN'), ('were', 'VBD'), ('particularly', 'RB'), ('afraid', 'JJ'), ('of', 'IN'), ('magic', 'NN'), ('in', 'IN'), ('medieval', 'NN'), ('times,', 'NN'), ('but', 'CC'), ('not', 'RB'), ('very', 'RB'), ('good', 'JJ'), ('at', 'IN'), ('recognizing', 'VBG'), ('it.', 'NN'), ('On', 'IN'), ('the', 'DT'), ('rare', 'JJ'), ('occasion', 'NN'), ('that', 'WDT'), ('they', 'PRP'), ('did', 'VBD'), ('catch', 'NN'), ('a', 'DT'), ('real', 'JJ'), ('witch', 'NN'), ('or', 'CC'), ('wizard,', 'NN'), ('burning', 'NN'), ('had', 'VBD'), ('no', 'DT'), ('effect', 'NN'), ('whatsoever.', 'NN'), ('The', 'DT'), ('witch', 'NN'), ('or', 'CC'), ('wizard', 'NN'), ('would', 'MD'), ('perform', 'VB'), ('a', 'DT'), ('basic', 'JJ'), ('Flame', 'NN'), ('Freezing', 'NN'), ('Charm', 'NN'), ('and', 'CC'), ('then', 'RB'), ('pretend', 'NN'), ('to', 'TO'), ('shriek', 'NN'), ('with', 'IN'), ('pain', 'NN'), ('while', 'IN'), ('enjoying', 'VBG'), ('a', 'DT'), ('gentle,', 'NN'), ('tickling', 'NN'), ('sensation.', 'NN'), ('Indeed,', 'NN'), ('Wendelin', 'NN'), ('the', 'DT'), ('Weird', 'NN'), ('enjoyed', 'VBN'), ('being', 'VBG'), ('burned', 'VBN'), ('so', 'IN'), ('much', 'JJ'), ('that', 'IN'), ('she', 'PRP'), ('allowed', 'VBN'), ('herself', 'NN'), ('to', 'TO'), ('be', 'VB'), ('caught', 'VBN'), ('no', 'DT'), ('less', 'RBR'), ('than', 'IN'), ('fortyseven', 'NN'), ('times', 'NNS'), ('in', 'IN'), ('various', 'JJ'), ('disguises.', 'NN')]\n"
          ]
        }
      ]
    },
    {
      "cell_type": "code",
      "source": [
        "from collections import Counter\n",
        "\n",
        "tag_distribution_comb = Counter(tag for token, tag in tags_tricomb)"
      ],
      "metadata": {
        "id": "JQ0lvZamsKMY"
      },
      "execution_count": null,
      "outputs": []
    },
    {
      "cell_type": "code",
      "source": [
        "unique_tags_comb = sorted(set(tag for token, tag in tags_tricomb if tag is not None))\n",
        "\n",
        "# Sort tags by frequency\n",
        "sorted_tags_comb = sorted(unique_tags_comb, key=lambda tag: tag_distribution_comb[tag], reverse=True)\n",
        "\n",
        "fig, axes = plt.subplots(figsize=(15, 5))\n",
        "\n",
        "# Plot distribution of tags for the first tagger\n",
        "bar1 = axes.bar(sorted_tags_comb, [tag_distribution_comb[tag] for tag in sorted_tags_comb], color='blue')\n",
        "axes.set_title('Distribution of Tags (Treebank Trigram Tagger)')\n",
        "axes.set_xlabel('Tags')\n",
        "axes.set_ylabel('Frequency')\n",
        "axes.tick_params(axis='x', rotation=90)\n",
        "axes.bar_label(bar1)\n",
        "\n",
        "plt.tight_layout()\n",
        "plt.show()"
      ],
      "metadata": {
        "colab": {
          "base_uri": "https://localhost:8080/",
          "height": 389
        },
        "id": "q7NDb5yarxqz",
        "outputId": "d0e41787-7e7f-4e2d-952b-0a5922052c9d"
      },
      "execution_count": null,
      "outputs": [
        {
          "output_type": "display_data",
          "data": {
            "text/plain": [
              "<Figure size 1500x500 with 1 Axes>"
            ],
            "image/png": "[encoded data removed]"
          },
          "metadata": {}
        }
      ]
    }
  ],
  "metadata": {
    "colab": {
      "collapsed_sections": [
        "QV1wqmBR4qc7",
        "a2EmN9Cd4V8d",
        "rvzDcEZczmh8",
        "dKsSZ4W740xw",
        "K5AZUNakMTcl",
        "uGevyuQqNebG",
        "ne8kdFrUMVnw",
        "btVLYSQDNj4v",
        "rJrCs4lUNlcr",
        "GtWoCb9WI1Oq"
      ],
      "provenance": [],
      "include_colab_link": true
    },
    "kernelspec": {
      "display_name": "Python 3",
      "name": "python3"
    },
    "language_info": {
      "codemirror_mode": {
        "name": "ipython",
        "version": 3
      },
      "file_extension": ".py",
      "mimetype": "text/x-python",
      "name": "python",
      "nbconvert_exporter": "python",
      "pygments_lexer": "ipython3",
      "version": "3.12.0"
    }
  },
  "nbformat": 4,
  "nbformat_minor": 0
}