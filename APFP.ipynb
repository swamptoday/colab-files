{
  "nbformat": 4,
  "nbformat_minor": 0,
  "metadata": {
    "colab": {
      "provenance": [],
      "collapsed_sections": [
        "mR89aSZrvhL6"
      ],
      "authorship_tag": "ABX9TyPrKfHCqgVKCiSfD27VWqxF",
      "include_colab_link": true
    },
    "kernelspec": {
      "name": "python3",
      "display_name": "Python 3"
    },
    "language_info": {
      "name": "python"
    }
  },
  "cells": [
    {
      "cell_type": "markdown",
      "metadata": {
        "id": "view-in-github",
        "colab_type": "text"
      },
      "source": [
        "<a href=\"https://colab.research.google.com/github/swamptoday/colab-files/blob/main/APFP.ipynb\" target=\"_parent\"><img src=\"https://colab.research.google.com/assets/colab-badge.svg\" alt=\"Open In Colab\"/></a>"
      ]
    },
    {
      "cell_type": "markdown",
      "source": [
        "# Practice 1"
      ],
      "metadata": {
        "id": "mR89aSZrvhL6"
      }
    },
    {
      "cell_type": "markdown",
      "source": [
        "## Завдання 1: Виконайте інструкцію щодо роботи з календарем."
      ],
      "metadata": {
        "id": "2m_c14sOvl_U"
      }
    },
    {
      "cell_type": "markdown",
      "source": [
        "### 1. Вивчіть довідку для модуля calendar."
      ],
      "metadata": {
        "id": "PE_kVgg7vrq3"
      }
    },
    {
      "cell_type": "markdown",
      "source": [
        "This module allows you to output calendars like the Unix cal program, and provides additional useful functions related to the calendar. By default, these calendars have Monday as the first day of the week, and Sunday as the last (the European convention). Use setfirstweekday() to set the first day of the week to Sunday (6) or to any other weekday. Parameters that specify dates are given as integers. For related functionality, see also the datetime and time modules.\n",
        "\n",
        "The functions and classes defined in this module use an idealized calendar, the current Gregorian calendar extended indefinitely in both directions. This matches the definition of the “proleptic Gregorian” calendar in Dershowitz and Reingold’s book “Calendrical Calculations”, where it’s the base calendar for all computations. Zero and negative years are interpreted as prescribed by the ISO 8601 standard. Year 0 is 1 BC, year -1 is 2 BC, and so on."
      ],
      "metadata": {
        "id": "RWkaWdBZ16UO"
      }
    },
    {
      "cell_type": "markdown",
      "source": [
        "### 2. Імпортуйте модуль calendar."
      ],
      "metadata": {
        "id": "s2iieCWsvwsU"
      }
    },
    {
      "cell_type": "code",
      "source": [
        "import calendar"
      ],
      "metadata": {
        "id": "mQ_TXHnd3tG_"
      },
      "execution_count": null,
      "outputs": []
    },
    {
      "cell_type": "markdown",
      "source": [
        "### 3. Знайдіть файл модуля calendar і вивчіть його вміст."
      ],
      "metadata": {
        "id": "D9CRJ_23vy4O"
      }
    },
    {
      "cell_type": "markdown",
      "source": [
        "### 4. Отримайте список доступних атрибутів модуля calendar."
      ],
      "metadata": {
        "id": "gMf3Z7hKv2rx"
      }
    },
    {
      "cell_type": "code",
      "source": [
        "attr_calendar = dir(calendar)\n",
        "\n",
        "print(attr_calendar)"
      ],
      "metadata": {
        "colab": {
          "base_uri": "https://localhost:8080/"
        },
        "id": "ladUSC_j4J5J",
        "outputId": "aa6eb592-3ffd-434d-8ec3-bde1c59ba75e"
      },
      "execution_count": null,
      "outputs": [
        {
          "output_type": "stream",
          "name": "stdout",
          "text": [
            "['Calendar', 'EPOCH', 'FRIDAY', 'February', 'HTMLCalendar', 'IllegalMonthError', 'IllegalWeekdayError', 'January', 'LocaleHTMLCalendar', 'LocaleTextCalendar', 'MONDAY', 'SATURDAY', 'SUNDAY', 'THURSDAY', 'TUESDAY', 'TextCalendar', 'WEDNESDAY', '_EPOCH_ORD', '__all__', '__builtins__', '__cached__', '__doc__', '__file__', '__loader__', '__name__', '__package__', '__spec__', '_colwidth', '_locale', '_localized_day', '_localized_month', '_monthlen', '_nextmonth', '_prevmonth', '_spacing', 'c', 'calendar', 'datetime', 'day_abbr', 'day_name', 'different_locale', 'error', 'firstweekday', 'format', 'formatstring', 'isleap', 'leapdays', 'main', 'mdays', 'month', 'month_abbr', 'month_name', 'monthcalendar', 'monthrange', 'prcal', 'prmonth', 'prweek', 'repeat', 'setfirstweekday', 'sys', 'timegm', 'week', 'weekday', 'weekheader']\n"
          ]
        }
      ]
    },
    {
      "cell_type": "markdown",
      "source": [
        "### 5. Дізнайтеся чи є 2027 рік високосним завдяки модулю calendar."
      ],
      "metadata": {
        "id": "r7u_AACev6y4"
      }
    },
    {
      "cell_type": "code",
      "source": [
        "year = 2027\n",
        "\n",
        "if calendar.isleap(year):\n",
        "    print(f\"{year} рік є високосним.\")\n",
        "else:\n",
        "    print(f\"{year} рік не є високосним.\")"
      ],
      "metadata": {
        "colab": {
          "base_uri": "https://localhost:8080/"
        },
        "id": "f4gJTlW65ELs",
        "outputId": "ec888f50-2bf3-4b6d-9630-84c19009ae71"
      },
      "execution_count": null,
      "outputs": [
        {
          "output_type": "stream",
          "name": "stdout",
          "text": [
            "2027 рік не є високосним.\n"
          ]
        }
      ]
    },
    {
      "cell_type": "markdown",
      "source": [
        "### 6. Визначте за допомогою модуля calendar, яким днем тижня був день 25 червня 1995 року."
      ],
      "metadata": {
        "id": "Z9LNnw8qv8gG"
      }
    },
    {
      "cell_type": "code",
      "source": [
        "week_days = ['Montag', 'Tuesday', 'Wednesday', 'Thursday', 'Friday', 'Saturday', 'Sunday']\n",
        "print(week_days[calendar.weekday(1995, 6, 25)])"
      ],
      "metadata": {
        "colab": {
          "base_uri": "https://localhost:8080/"
        },
        "id": "wx1pg0nm5TuB",
        "outputId": "f1a11781-0695-4fff-eb3f-6815a0df8e18"
      },
      "execution_count": null,
      "outputs": [
        {
          "output_type": "stream",
          "name": "stdout",
          "text": [
            "Sunday\n"
          ]
        }
      ]
    },
    {
      "cell_type": "markdown",
      "source": [
        "### 7. Виведіть у консоль календар на 2023 рік."
      ],
      "metadata": {
        "id": "J-DHUe_sv_SN"
      }
    },
    {
      "cell_type": "code",
      "source": [
        "print(calendar.TextCalendar(calendar.MONDAY).formatyear(2023))"
      ],
      "metadata": {
        "colab": {
          "base_uri": "https://localhost:8080/"
        },
        "id": "qTbGRK6n6DRQ",
        "outputId": "adbc0524-2109-4060-f47d-ad9213fca991"
      },
      "execution_count": null,
      "outputs": [
        {
          "output_type": "stream",
          "name": "stdout",
          "text": [
            "                                  2023\n",
            "\n",
            "      January                   February                   March\n",
            "Mo Tu We Th Fr Sa Su      Mo Tu We Th Fr Sa Su      Mo Tu We Th Fr Sa Su\n",
            "                   1             1  2  3  4  5             1  2  3  4  5\n",
            " 2  3  4  5  6  7  8       6  7  8  9 10 11 12       6  7  8  9 10 11 12\n",
            " 9 10 11 12 13 14 15      13 14 15 16 17 18 19      13 14 15 16 17 18 19\n",
            "16 17 18 19 20 21 22      20 21 22 23 24 25 26      20 21 22 23 24 25 26\n",
            "23 24 25 26 27 28 29      27 28                     27 28 29 30 31\n",
            "30 31\n",
            "\n",
            "       April                      May                       June\n",
            "Mo Tu We Th Fr Sa Su      Mo Tu We Th Fr Sa Su      Mo Tu We Th Fr Sa Su\n",
            "                1  2       1  2  3  4  5  6  7                1  2  3  4\n",
            " 3  4  5  6  7  8  9       8  9 10 11 12 13 14       5  6  7  8  9 10 11\n",
            "10 11 12 13 14 15 16      15 16 17 18 19 20 21      12 13 14 15 16 17 18\n",
            "17 18 19 20 21 22 23      22 23 24 25 26 27 28      19 20 21 22 23 24 25\n",
            "24 25 26 27 28 29 30      29 30 31                  26 27 28 29 30\n",
            "\n",
            "        July                     August                  September\n",
            "Mo Tu We Th Fr Sa Su      Mo Tu We Th Fr Sa Su      Mo Tu We Th Fr Sa Su\n",
            "                1  2          1  2  3  4  5  6                   1  2  3\n",
            " 3  4  5  6  7  8  9       7  8  9 10 11 12 13       4  5  6  7  8  9 10\n",
            "10 11 12 13 14 15 16      14 15 16 17 18 19 20      11 12 13 14 15 16 17\n",
            "17 18 19 20 21 22 23      21 22 23 24 25 26 27      18 19 20 21 22 23 24\n",
            "24 25 26 27 28 29 30      28 29 30 31               25 26 27 28 29 30\n",
            "31\n",
            "\n",
            "      October                   November                  December\n",
            "Mo Tu We Th Fr Sa Su      Mo Tu We Th Fr Sa Su      Mo Tu We Th Fr Sa Su\n",
            "                   1             1  2  3  4  5                   1  2  3\n",
            " 2  3  4  5  6  7  8       6  7  8  9 10 11 12       4  5  6  7  8  9 10\n",
            " 9 10 11 12 13 14 15      13 14 15 16 17 18 19      11 12 13 14 15 16 17\n",
            "16 17 18 19 20 21 22      20 21 22 23 24 25 26      18 19 20 21 22 23 24\n",
            "23 24 25 26 27 28 29      27 28 29 30               25 26 27 28 29 30 31\n",
            "30 31\n",
            "\n"
          ]
        }
      ]
    },
    {
      "cell_type": "markdown",
      "source": [
        "## Завдання 2: Пакет FuzzyWuzzy – це бібліотека для нечіткого порівняння рядків. Нечітке порівняння рядків дозволяє визначитися в однаковості рядків і встановити ступінь їх схожості. При роботі з цією бібліотекою виконати такі поточні завдання."
      ],
      "metadata": {
        "id": "-i0EFLXWwCAN"
      }
    },
    {
      "cell_type": "markdown",
      "source": [
        "### Вивчіть документацію для пакета fuzzywuzzy на https://pypi.org/."
      ],
      "metadata": {
        "id": "RtF3vXgfxAV3"
      }
    },
    {
      "cell_type": "markdown",
      "source": [
        "### Встановіть пакет за допомогою менеджера пакетів pip."
      ],
      "metadata": {
        "id": "D-D14dqhxGtu"
      }
    },
    {
      "cell_type": "code",
      "source": [
        "!pip install fuzzywuzzy"
      ],
      "metadata": {
        "id": "HMQL0EKj8TEq",
        "colab": {
          "base_uri": "https://localhost:8080/"
        },
        "outputId": "e575df56-ab0e-41b1-92ca-88db865494a0"
      },
      "execution_count": null,
      "outputs": [
        {
          "output_type": "stream",
          "name": "stdout",
          "text": [
            "Collecting fuzzywuzzy\n",
            "  Downloading fuzzywuzzy-0.18.0-py2.py3-none-any.whl (18 kB)\n",
            "Installing collected packages: fuzzywuzzy\n",
            "Successfully installed fuzzywuzzy-0.18.0\n"
          ]
        }
      ]
    },
    {
      "cell_type": "markdown",
      "source": [
        "### Визначте, які модулі включають пакет fuzzywuzzy."
      ],
      "metadata": {
        "id": "rvfB-gxlxNI_"
      }
    },
    {
      "cell_type": "code",
      "source": [
        "# fuzz.py, process.py, string_processing.py, StringMatcher.py, utils.py"
      ],
      "metadata": {
        "id": "GM1ERTuP8IdT"
      },
      "execution_count": null,
      "outputs": []
    },
    {
      "cell_type": "markdown",
      "source": [
        "### Вивчіть модуль для базового порівняння рядків fuzz (входить в пакет): імпортуйте його і отримаєте список доступних атрибутів."
      ],
      "metadata": {
        "id": "Qdys5lEaxvf6"
      }
    },
    {
      "cell_type": "code",
      "source": [
        "import fuzzywuzzy as fw\n",
        "\n",
        "attrs_fw = dir(fw)\n",
        "\n",
        "print(attrs_fw)"
      ],
      "metadata": {
        "colab": {
          "base_uri": "https://localhost:8080/"
        },
        "id": "Dtdun6LX-kpI",
        "outputId": "974902bb-72a6-41fc-e9bc-18f9d32684d9"
      },
      "execution_count": null,
      "outputs": [
        {
          "output_type": "stream",
          "name": "stdout",
          "text": [
            "['__builtins__', '__cached__', '__doc__', '__file__', '__loader__', '__name__', '__package__', '__path__', '__spec__', '__version__']\n"
          ]
        }
      ]
    },
    {
      "cell_type": "markdown",
      "source": [
        "### Вивчіть синтаксис методу для базового нечіткого порівняння рядків ratio () (входить до складу модуля fuzz); цей метод повертає індекс схожості 2 рядків."
      ],
      "metadata": {
        "id": "K5HBmzrvx2yj"
      }
    },
    {
      "cell_type": "code",
      "source": [
        "from fuzzywuzzy import fuzz\n",
        "string1 = \"Example string\"\n",
        "string2 = \"Example strin\"\n",
        "\n",
        "similarity_index = fuzz.ratio(string1, string2)\n",
        "\n",
        "print(\"Індекс схожості:\", similarity_index)"
      ],
      "metadata": {
        "colab": {
          "base_uri": "https://localhost:8080/"
        },
        "id": "G_uxXm9m_hRC",
        "outputId": "379d218e-cbbf-4298-e54b-b5bc9328d9cb"
      },
      "execution_count": null,
      "outputs": [
        {
          "output_type": "stream",
          "name": "stdout",
          "text": [
            "Індекс схожості: 96\n"
          ]
        },
        {
          "output_type": "stream",
          "name": "stderr",
          "text": [
            "/usr/local/lib/python3.10/dist-packages/fuzzywuzzy/fuzz.py:11: UserWarning: Using slow pure-python SequenceMatcher. Install python-Levenshtein to remove this warning\n",
            "  warnings.warn('Using slow pure-python SequenceMatcher. Install python-Levenshtein to remove this warning')\n"
          ]
        }
      ]
    },
    {
      "cell_type": "markdown",
      "source": [
        "### Скористайтеся методом ratio () для порівняння таких рядків:\n",
        "\n",
        "1.   «Поганий код насправді не поганий.» і «Його не так зрозуміли.»\n",
        "2.   «Працює? Не чіпай.» і «працює? Не чіпай.»\n",
        "3.   «Працює? Не чіпай.» і «працює? Не чіпай!».\n",
        "\n"
      ],
      "metadata": {
        "id": "p_1QFLDUx-hZ"
      }
    },
    {
      "cell_type": "code",
      "source": [
        "print(1)\n",
        "string1 = \"Поганий код насправді не поганий.\"\n",
        "string2 = \"Його не так зрозуміли.\"\n",
        "\n",
        "similarity_index_1 = fuzz.ratio(string1, string2)\n",
        "print(\"Індекс схожості 1:\", similarity_index_1)\n",
        "print()\n",
        "\n",
        "print(2)\n",
        "string3 = \"Працює? Не чіпай.\"\n",
        "string4 = \"працює? Не чіпай.\"\n",
        "\n",
        "similarity_index_2 = fuzz.ratio(string3, string4)\n",
        "print(\"Індекс схожості 2:\", similarity_index_2)\n",
        "print()\n",
        "\n",
        "print(3)\n",
        "string5 = \"Працює? Не чіпай.\"\n",
        "string6 = \"працює? Не чіпай!\"\n",
        "\n",
        "similarity_index_3 = fuzz.ratio(string5, string6)\n",
        "print(\"Індекс схожості 3:\", similarity_index_3)"
      ],
      "metadata": {
        "colab": {
          "base_uri": "https://localhost:8080/"
        },
        "id": "lVxYWP4cAcwl",
        "outputId": "627a6193-e064-4c2a-b9fa-dc191f77eca0"
      },
      "execution_count": null,
      "outputs": [
        {
          "output_type": "stream",
          "name": "stdout",
          "text": [
            "1\n",
            "Індекс схожості 1: 36\n",
            "\n",
            "2\n",
            "Індекс схожості 2: 94\n",
            "\n",
            "3\n",
            "Індекс схожості 3: 88\n"
          ]
        }
      ]
    },
    {
      "cell_type": "markdown",
      "source": [
        "## Завдання 3: Модулі Python сприяють запобіганню конфліктів імен. Напишіть для своєї програми модуль з ім’ям mymodule, який визначає функцію reverse. У цій програмі використати модуль othermodule, який також визначає функцію з ім’ям reverse, яка робить відмінне від введеної функції reverse. Мовою без модулів неможливо використовувати дві різні функції з ім’ям reverse. Звернутися до функцій з іменами mymodule.reverse і othermodule.reverse в програмі."
      ],
      "metadata": {
        "id": "eC5wOpI-ySNv"
      }
    },
    {
      "cell_type": "markdown",
      "source": [
        "### Для надання можливості використання написаних вами модулів, необхідно виконати таку інструкцію:\n",
        "\n",
        "*   розмістити модулі у каталозі, в якому Python шукає модулі;\n",
        "*   розмістити всі модулі, що використовуються програмою Python, в\n",
        "одному каталозі з програмою.\n",
        "\n",
        "### Створити каталог (або каталоги) для зберігання модулів і змінити змінну sys.path, щоб вона включала цей новий каталог (або каталоги). Якщо ваша змінна sys.path включає такі каталоги, то можна розмістити свої модулі в них."
      ],
      "metadata": {
        "id": "Sx6fXnxH03tY"
      }
    },
    {
      "cell_type": "code",
      "source": [
        "!git clone https://github.com/swamptoday/PythonModules.git\n",
        "\n",
        "from PythonModules import mymodule, othermodule\n",
        "\n",
        "mymodule.reverse('text')\n",
        "\n",
        "othermodule.reverse('text')"
      ],
      "metadata": {
        "colab": {
          "base_uri": "https://localhost:8080/"
        },
        "id": "b2nbOpStBxGo",
        "outputId": "d444c8f3-60de-4f75-895c-426a1d9a8339"
      },
      "execution_count": null,
      "outputs": [
        {
          "output_type": "stream",
          "name": "stdout",
          "text": [
            "Cloning into 'PythonModules'...\n",
            "remote: Enumerating objects: 12, done.\u001b[K\n",
            "remote: Counting objects: 100% (12/12), done.\u001b[K\n",
            "remote: Compressing objects: 100% (10/10), done.\u001b[K\n",
            "remote: Total 12 (delta 1), reused 0 (delta 0), pack-reused 0\u001b[K\n",
            "Receiving objects: 100% (12/12), done.\n",
            "Resolving deltas: 100% (1/1), done.\n",
            "Reverse method from mymodule\n",
            "Reverse method from othermodule\n"
          ]
        }
      ]
    },
    {
      "cell_type": "markdown",
      "source": [
        "# Practice 2"
      ],
      "metadata": {
        "id": "5XYzu0Igma1j"
      }
    },
    {
      "cell_type": "code",
      "source": [
        "import re"
      ],
      "metadata": {
        "id": "g5Dc82Dq8VUo"
      },
      "execution_count": null,
      "outputs": []
    },
    {
      "cell_type": "markdown",
      "source": [
        "## 1. Використовуючи регулярні вирази, напишіть програму, яка підсумовує довільну кількість введених користувачем цілих чисел. Програма завершує роботу та здійснює підсумовування при введенні слова stop. Програма припускає введення негативного числа. Якщо замість числа введено рядок, користувачеві видається повідомлення: «Необхідно ввести число, а не рядок»."
      ],
      "metadata": {
        "id": "r_Q_K497mfxj"
      }
    },
    {
      "cell_type": "code",
      "source": [
        "def sum_numbers():\n",
        "    total = 0\n",
        "    while True:\n",
        "        user_input = input(\"Введіть ціле число або 'stop' для завершення: \")\n",
        "\n",
        "        if user_input.lower() == 'stop':\n",
        "            break\n",
        "\n",
        "        if not re.match(r'^-?\\d+$', user_input):\n",
        "            print(\"Необхідно ввести число (ціле), а не рядок\")\n",
        "            continue\n",
        "\n",
        "        number = int(user_input)\n",
        "        total += number\n",
        "\n",
        "    print(\"Сума введених чисел:\", total)\n",
        "\n",
        "sum_numbers()"
      ],
      "metadata": {
        "colab": {
          "base_uri": "https://localhost:8080/"
        },
        "id": "57mxUzqLsop3",
        "outputId": "7c6b28b2-7647-46f6-e74f-2a9a120f9506"
      },
      "execution_count": null,
      "outputs": [
        {
          "output_type": "stream",
          "name": "stdout",
          "text": [
            "Введіть ціле число або 'stop' для завершення: 5\n",
            "Введіть ціле число або 'stop' для завершення: d\n",
            "Необхідно ввести число (ціле), а не рядок\n",
            "Введіть ціле число або 'stop' для завершення: 6\n",
            "Введіть ціле число або 'stop' для завершення: 4\n",
            "Введіть ціле число або 'stop' для завершення: stop\n",
            "Сума введених чисел: 15\n"
          ]
        }
      ]
    },
    {
      "cell_type": "markdown",
      "source": [
        "## 2. Запитайте користувача ввести ім'я та прізвище. Використовуючи регулярні вирази, поміняйте місцями ім'я та прізвище та виведіть на консоль."
      ],
      "metadata": {
        "id": "119pue8ZmnRk"
      }
    },
    {
      "cell_type": "code",
      "source": [
        "def swap_name_and_surname():\n",
        "    full_name = input(\"Введіть ваше ім'я та прізвище: \")\n",
        "\n",
        "    # Розділити ім'я та прізвище за допомогою регулярного виразу\n",
        "    match = re.match(r'^([А-ЯҐЄІЇа-яґєії]+)\\s+([А-ЯҐЄІЇа-яґєії]+)$', full_name)\n",
        "\n",
        "    if match:\n",
        "        # Отримати ім'я та прізвище з результуючої групи\n",
        "        name = match.group(1)\n",
        "        surname = match.group(2)\n",
        "\n",
        "        # Вивести прізвище та ім'я\n",
        "        print(\"Ім'я та прізвище після обміну:\", surname, name)\n",
        "    else:\n",
        "        print(\"Неправильний формат ім'я/прізвище.\")"
      ],
      "metadata": {
        "id": "sOMqbAWm9NQq"
      },
      "execution_count": null,
      "outputs": []
    },
    {
      "cell_type": "code",
      "source": [
        "swap_name_and_surname()"
      ],
      "metadata": {
        "colab": {
          "base_uri": "https://localhost:8080/"
        },
        "id": "H_RsVTST9Nj3",
        "outputId": "30299759-5ea8-4a58-c406-d744a509f7fb"
      },
      "execution_count": null,
      "outputs": [
        {
          "output_type": "stream",
          "name": "stdout",
          "text": [
            "Введіть ваше ім'я та прізвище: 5і 4в\n",
            "Неправильний формат ім'я/прізвище.\n"
          ]
        }
      ]
    },
    {
      "cell_type": "markdown",
      "source": [
        "## 3. Використовуючи регулярні вирази, виведіть на консоль усі слова, що стоять в лапках у фрагменті тексту: Потім у його творчості настав період трагедій, що включає твори \"Гамлет\", \"Король Лір\", \"Отелло\" та \"Макбет\", які вважаються одними з найкращих творів серед написаних англійською мовою. Наприкінці своєї творчості Шекспір написав декілька трагікомедій, а також співпрацював із іншими письменниками."
      ],
      "metadata": {
        "id": "kZNElvh0oCHG"
      }
    },
    {
      "cell_type": "code",
      "source": [
        "text = 'Потім у його творчості настав період трагедій, що включає твори \"Гамлет\", \"Король Лір\", \"Отелло\" та \"Макбет\", які вважаються одними з найкращих творів серед написаних англійською мовою. Наприкінці своєї творчості Шекспір написав декілька трагікомедій, а також співпрацював із іншими письменниками.'\n",
        "\n",
        "# Знаходимо всі слова в лапках за допомогою регулярного виразу\n",
        "quoted_words = re.findall(r'\"([^\"]+)\"', text)\n",
        "\n",
        "# Виводимо знайдені слова\n",
        "for word in quoted_words:\n",
        "    print(word)"
      ],
      "metadata": {
        "colab": {
          "base_uri": "https://localhost:8080/"
        },
        "id": "utpNwO7g9kzO",
        "outputId": "7bad2619-b182-42d8-8180-bb3600a84866"
      },
      "execution_count": null,
      "outputs": [
        {
          "output_type": "stream",
          "name": "stdout",
          "text": [
            "Гамлет\n",
            "Король Лір\n",
            "Отелло\n",
            "Макбет\n"
          ]
        }
      ]
    },
    {
      "cell_type": "markdown",
      "source": [
        "## 4. У текстовому фрагменті виберіть слова, що стоять на початку речення (після точки та пробілу). Також виберіть слова, що стоять наприкінці речення (перед точкою та пропуском)."
      ],
      "metadata": {
        "id": "GB47eoXToUiH"
      }
    },
    {
      "cell_type": "code",
      "source": [
        "# Знаходимо слова на початку речення (після точки та пробілу)\n",
        "start_of_sentence_words = re.findall(r'\\.\\s(\\w+)', text)\n",
        "\n",
        "# Знаходимо слова в кінці речення (перед точкою та пропуском)\n",
        "end_of_sentence_words = re.findall(r'(\\w+)\\.', text)\n",
        "\n",
        "# Виводимо знайдені слова\n",
        "print(\"Слова на початку речення:\", start_of_sentence_words)\n",
        "print(\"Слова в кінці речення:\", end_of_sentence_words)"
      ],
      "metadata": {
        "colab": {
          "base_uri": "https://localhost:8080/"
        },
        "id": "E-wu9iyN9n_W",
        "outputId": "c60f4396-1258-4f93-e3c5-4d1a2042192f"
      },
      "execution_count": null,
      "outputs": [
        {
          "output_type": "stream",
          "name": "stdout",
          "text": [
            "Слова на початку речення: ['Наприкінці']\n",
            "Слова в кінці речення: ['мовою', 'письменниками']\n"
          ]
        }
      ]
    },
    {
      "cell_type": "markdown",
      "source": [
        "## 5. Перевірити рядок, введений користувачем, на відповідність шаблону, що включає число від 2 до 5 цифр та найменування валюти ($, Euro, UAH, USD, SEK, NOK). Якщо введений рядок не є числом від двох до 5 цифр, включно з найменуванням валюти, виведіть користувачеві відповідне повідомлення."
      ],
      "metadata": {
        "id": "cm2BK6yeoatJ"
      }
    },
    {
      "cell_type": "code",
      "source": [
        "def validate_input(user_input):\n",
        "    pattern = r'^\\d{2,5}\\s*(\\$|Euro|UAH|USD|SEK|NOK)$'\n",
        "    if re.match(pattern, user_input):\n",
        "        print(\"Введений рядок відповідає шаблону.\")\n",
        "    else:\n",
        "        print(\"Введений рядок не відповідає шаблону.\")"
      ],
      "metadata": {
        "id": "6lpDsjUf_IYv"
      },
      "execution_count": null,
      "outputs": []
    },
    {
      "cell_type": "code",
      "source": [
        "user_input = input(\"Введіть рядок для перевірки: \")\n",
        "\n",
        "validate_input(user_input)"
      ],
      "metadata": {
        "colab": {
          "base_uri": "https://localhost:8080/"
        },
        "id": "lgntQ2L__Iqf",
        "outputId": "ae9e38ed-2e34-4885-bf8f-e05c3381f22d"
      },
      "execution_count": null,
      "outputs": [
        {
          "output_type": "stream",
          "name": "stdout",
          "text": [
            "Введіть рядок для перевірки: 54$\n",
            "Введений рядок відповідає шаблону.\n"
          ]
        }
      ]
    },
    {
      "cell_type": "markdown",
      "source": [
        "## 6. Попросіть користувача ввести дату, у формі число (від 1 до 31), найменування місяця та чотири цифри поточного року. Перевірте введену дату на відповідність шаблону. Якщо введений рядок не відповідає шаблону, виведіть відповідне повідомлення."
      ],
      "metadata": {
        "id": "tzNKkBBqofmx"
      }
    },
    {
      "cell_type": "code",
      "source": [
        "def validate_date(date_string):\n",
        "    pattern = r'^([1-9]|[12][0-9]|3[01])\\s+(січня|лютого|березня|квітня|травня|червня|липня|серпня|вересня|жовтня|листопада|грудня)\\s+\\d{4}$'\n",
        "    if re.match(pattern, date_string):\n",
        "        print(\"Введена дата відповідає шаблону.\")\n",
        "    else:\n",
        "        print(\"Введена дата не відповідає шаблону.\")"
      ],
      "metadata": {
        "id": "ZAK8bLup_p1a"
      },
      "execution_count": null,
      "outputs": []
    },
    {
      "cell_type": "code",
      "source": [
        "date_string = input(\"Введіть дату у форматі (число [1-31] місяць [січень-грудень] рік): \")\n",
        "validate_date(date_string)"
      ],
      "metadata": {
        "colab": {
          "base_uri": "https://localhost:8080/"
        },
        "id": "eyY5ZMmCAlPI",
        "outputId": "f9c739a0-bd97-4f00-d192-e967a54116c9"
      },
      "execution_count": null,
      "outputs": [
        {
          "output_type": "stream",
          "name": "stdout",
          "text": [
            "Введіть дату у форматі (число [1-31] місяць [січень-грудень] рік): 04.01.2024\n",
            "Введена дата не відповідає шаблону.\n"
          ]
        }
      ]
    },
    {
      "cell_type": "markdown",
      "source": [
        "## 7. Попросіть користувача ввести дату, у формі число та найменування місяця. Перевірте дату потрапляння в першу декаду місяця (перші 10 днів). Якщо введений рядок не відповідає шаблону, виведіть відповідне повідомлення."
      ],
      "metadata": {
        "id": "fbW1c7NRokf0"
      }
    },
    {
      "cell_type": "code",
      "source": [
        "def validate_date_and_check_first_decade(date_string):\n",
        "    pattern = r'^([1-9]|[12][0-9]|3[01])\\s+(січня|лютого|березня|квітня|травня|червня|липня|серпня|вересня|жовтня|листопада|грудня)$'\n",
        "    match = re.match(pattern, date_string)\n",
        "    if match:\n",
        "        day = int(match.group(1))\n",
        "        if day <= 10:\n",
        "            print(\"Введена дата потрапляє в першу декаду місяця.\")\n",
        "        else:\n",
        "            print(\"Введена дата не потрапляє в першу декаду місяця.\")\n",
        "    else:\n",
        "        print(\"Введена дата не відповідає шаблону.\")"
      ],
      "metadata": {
        "id": "17mt-60vBAuO"
      },
      "execution_count": null,
      "outputs": []
    },
    {
      "cell_type": "code",
      "source": [
        "date_string = input(\"Введіть дату у форматі (число місяць): \")\n",
        "validate_date_and_check_first_decade(date_string)"
      ],
      "metadata": {
        "colab": {
          "base_uri": "https://localhost:8080/"
        },
        "id": "iDZTdzx5BCxR",
        "outputId": "e945234e-32fd-447a-c849-589ac5b79d0b"
      },
      "execution_count": null,
      "outputs": [
        {
          "output_type": "stream",
          "name": "stdout",
          "text": [
            "Введіть дату у форматі (число місяць): 11 лютого\n",
            "Введена дата не потрапляє в першу декаду місяця.\n"
          ]
        }
      ]
    },
    {
      "cell_type": "markdown",
      "source": [
        "## 8. Попросіть користувача ввести наукове звання (професор, доцент), прізвище та ініціали. Наприклад: професор Іванченко С. І. Перевірте введений рядок на відповідність шаблону. Якщо введений рядок не відповідає шаблону, виведіть відповідне повідомлення. Виведіть на консоль запис у зворотному порядку: спочатку ініціали, а потім прізвище."
      ],
      "metadata": {
        "id": "4I1sWaTkoolc"
      }
    },
    {
      "cell_type": "code",
      "source": [
        "def reverse_name(input_string):\n",
        "    # Перевірка відповідності шаблону\n",
        "    pattern = r'^(професор|доцент)\\s+[А-ЯІЇЄҐ][а-яіїєґ]+\\s+[А-ЯІЇЄҐ]\\.\\s[А-ЯІЇЄҐ]\\.$'\n",
        "    if re.match(pattern, input_string):\n",
        "        # Розділення рядка на складові частини\n",
        "        title, surname, initial1, initial2 = input_string.split()\n",
        "\n",
        "        # Виведення запису у зворотному порядку\n",
        "        print(\"Запис у зворотному порядку:\", initial1, initial2, surname)\n",
        "    else:\n",
        "        print(\"Введений рядок не відповідає шаблону.\")"
      ],
      "metadata": {
        "id": "q1ikEnvmBok_"
      },
      "execution_count": null,
      "outputs": []
    },
    {
      "cell_type": "code",
      "source": [
        "input_string = input(\"Введіть наукове звання, прізвище та ініціали (наприклад, професор Іванов І. І.): \")\n",
        "reverse_name(input_string)"
      ],
      "metadata": {
        "colab": {
          "base_uri": "https://localhost:8080/"
        },
        "id": "pQh4Jp08BphY",
        "outputId": "d2540a0d-f99a-42f6-be49-dbc317a82866"
      },
      "execution_count": null,
      "outputs": [
        {
          "output_type": "stream",
          "name": "stdout",
          "text": [
            "Введіть наукове звання, прізвище та ініціали (наприклад, професор Іванов І. І.): доцент Іванченко С. І.\n",
            "Запис у зворотному порядку: С. І. Іванченко\n"
          ]
        }
      ]
    },
    {
      "cell_type": "markdown",
      "source": [
        "## 9. Попросіть користувача ввести повне доменне ім'я, яке має починатися з найменування протоколу &quot;http://&quot; або &quot;https://&quot;, потім перераховуються домени різних рівнів, які складаються з літер й розділені крапкою, що закінчуються останнім двома буквеним або трилітерним доменом верхнього рівня (зоною), в кінці може бути необов'язковий слеш (http://example.com/). Якщо введений рядок не відповідає шаблону, виведіть відповідне повідомлення."
      ],
      "metadata": {
        "id": "pLNcgX5notXK"
      }
    },
    {
      "cell_type": "code",
      "source": [
        "def validate_domain_name(domain_name):\n",
        "    pattern = r'^(http|https)://([a-zA-Z]+\\.)+[a-zA-Z]{2,3}/?$'\n",
        "    if re.match(pattern, domain_name):\n",
        "        print(\"Введений рядок відповідає шаблону.\")\n",
        "    else:\n",
        "        print(\"Введений рядок не відповідає шаблону.\")"
      ],
      "metadata": {
        "id": "yOabOy4TEsl2"
      },
      "execution_count": null,
      "outputs": []
    },
    {
      "cell_type": "code",
      "source": [
        "domain_name = input(\"Введіть повне доменне ім'я (з початку 'http://' або 'https://'): \")\n",
        "validate_domain_name(domain_name)"
      ],
      "metadata": {
        "colab": {
          "base_uri": "https://localhost:8080/"
        },
        "id": "Oe9nwQ_5EvOB",
        "outputId": "fe4ae812-fce3-4247-bb2a-a81a90fcd434"
      },
      "execution_count": null,
      "outputs": [
        {
          "output_type": "stream",
          "name": "stdout",
          "text": [
            "Введіть повне доменне ім'я (з початку 'http://' або 'https://'): http://github.com\n",
            "Введений рядок відповідає шаблону.\n"
          ]
        }
      ]
    },
    {
      "cell_type": "markdown",
      "source": [
        "## 10. Використовуючи регулярні вирази, виберіть слова:\n",
        "1. які стоять після слів From\n",
        "1. що представляють домену адресу (слова, що стоять після символу @)\n",
        "\n",
        "***\n",
        "From stephen.marquard@uct.ac.za Sat Jan 5 09:14:16 2008\n",
        "\n",
        "X-Authentication-Warning: set sender to stephen.marquard@uct.ac.za using -f\n",
        "\n",
        "From: stephen.marquard@uct.ac.za\n",
        "\n",
        "Author: stephen.marquard@uct.ac.za\n",
        "\n",
        "From david.horwitz@uct.ac.za Fri Jan 4 07:02:32 2008\n",
        "\n",
        "X-Authentication-Warning: set sender to david.horwitz@uct.ac.za using -f"
      ],
      "metadata": {
        "id": "y1eK7W2To3Or"
      }
    },
    {
      "cell_type": "code",
      "source": [
        "# Вхідний текст\n",
        "text = \"\"\"\n",
        "From stephen.marquard@uct.ac.za Sat Jan 5 09:14:16 2008\n",
        "\n",
        "X-Authentication-Warning: set sender to stephen.marquard@uct.ac.za using -f\n",
        "\n",
        "From: stephen.marquard@uct.ac.za\n",
        "\n",
        "Author: stephen.marquard@uct.ac.za\n",
        "\n",
        "From david.horwitz@uct.ac.za Fri Jan 4 07:02:32 2008\n",
        "\n",
        "X-Authentication-Warning: set sender to david.horwitz@uct.ac.za using -f\n",
        "\"\"\"\n",
        "\n",
        "# Регулярний вираз для вибору слів після \"From\"\n",
        "from_words = re.findall(r'From:\\s+(\\S+)', text)\n",
        "\n",
        "# Регулярний вираз для вибору доменних адрес\n",
        "domain_words = re.findall(r'@(\\S+)', text)\n",
        "\n",
        "print(\"Слова після 'From':\", from_words)\n",
        "print(\"Доменні адреси:\", domain_words)"
      ],
      "metadata": {
        "colab": {
          "base_uri": "https://localhost:8080/"
        },
        "id": "joUv_lbuFdUv",
        "outputId": "c1a68d61-d7c6-43ca-e397-ac92519afd7a"
      },
      "execution_count": null,
      "outputs": [
        {
          "output_type": "stream",
          "name": "stdout",
          "text": [
            "Слова після 'From': ['stephen.marquard@uct.ac.za']\n",
            "Доменні адреси: ['uct.ac.za', 'uct.ac.za', 'uct.ac.za', 'uct.ac.za', 'uct.ac.za', 'uct.ac.za']\n"
          ]
        }
      ]
    },
    {
      "cell_type": "markdown",
      "source": [
        "# Practice 3"
      ],
      "metadata": {
        "id": "j7Xm7BJqgnh5"
      }
    },
    {
      "cell_type": "markdown",
      "source": [
        "## Завдання 1. Вдосконалити наведений код - додати обробку виключної ситуації, якщо введені значення не є числами (інформувати користувача про некоректне введення та запитати повторно)"
      ],
      "metadata": {
        "id": "lu23MTdxXEUQ"
      }
    },
    {
      "cell_type": "code",
      "execution_count": null,
      "metadata": {
        "id": "Oj4A9_ZwVwxQ",
        "colab": {
          "base_uri": "https://localhost:8080/"
        },
        "outputId": "0558efe3-7b7c-4c33-bea1-a0790dd582b0"
      },
      "outputs": [
        {
          "output_type": "stream",
          "name": "stdout",
          "text": [
            "Введіть перше число: 5\n",
            "Введіть друге число: s\n",
            "Введіть числове значення.\n",
            "Введіть перше число: 5\n",
            "Введіть друге число: 0\n",
            "Ділення на нуль неможливе.\n"
          ]
        }
      ],
      "source": [
        "def division(first, second):\n",
        "    try:\n",
        "        result = first / second\n",
        "        print(result)\n",
        "    except ZeroDivisionError:\n",
        "        print(\"Ділення на нуль неможливе.\")\n",
        "    except Exception as e:\n",
        "        print(\"Сталася помилка:\", e)\n",
        "\n",
        "def calculation():\n",
        "    while True:\n",
        "        try:\n",
        "            first = int(input(\"Введіть перше число: \"))\n",
        "            second = int(input(\"Введіть друге число: \"))\n",
        "            division(first, second)\n",
        "            break  # Якщо введено коректні значення, вийти з циклу\n",
        "        except ValueError:\n",
        "            print(\"Введіть числове значення.\")\n",
        "\n",
        "calculation()"
      ]
    },
    {
      "cell_type": "markdown",
      "source": [
        "## Завдання 2. Додати перевірку коректності введення та провести обробку винятку в разі, якщо тип данних при введені не відповідає очікуваному (int)"
      ],
      "metadata": {
        "id": "E4PGB7wYZKKm"
      }
    },
    {
      "cell_type": "code",
      "source": [
        "# Define Python user-defined exceptions\n",
        "class Error(Exception):\n",
        "    \"\"\"Base class for other exceptions\"\"\"\n",
        "    pass\n",
        "\n",
        "class ZeroDivision(Error):\n",
        "    \"\"\"Raised when the input value is zero\"\"\"\n",
        "    pass\n",
        "\n",
        "class InvalidInput(Error):\n",
        "    \"\"\"Raised when the input value is not an integer\"\"\"\n",
        "    pass\n",
        "\n",
        "try:\n",
        "    while True:\n",
        "        try:\n",
        "            i_num = int(input(\"Enter a number: \"))\n",
        "            if i_num == 0:\n",
        "                raise ZeroDivision\n",
        "            break  # Вийти з циклу, якщо введено коректне значення\n",
        "        except ValueError:\n",
        "            raise InvalidInput\n",
        "except ZeroDivision:\n",
        "    print(\"Input value is zero, try again!\")\n",
        "except InvalidInput:\n",
        "    print(\"Input value is not an integer, try again!\")\n",
        "print()\n"
      ],
      "metadata": {
        "colab": {
          "base_uri": "https://localhost:8080/"
        },
        "id": "6zsQOLWiW1yg",
        "outputId": "88c0523a-a0d8-4661-e638-c372bb1a3739"
      },
      "execution_count": null,
      "outputs": [
        {
          "output_type": "stream",
          "name": "stdout",
          "text": [
            "Enter a number: 0\n",
            "Input value is zero, try again!\n",
            "\n"
          ]
        }
      ]
    },
    {
      "cell_type": "markdown",
      "source": [
        "## Завдання 3. З попередньої роботи в задачах 2, 8 додати обробку виключної ситуації, введений рядок не відповідає очікуваній інформації"
      ],
      "metadata": {
        "id": "pcnJVGPLdWO8"
      }
    },
    {
      "cell_type": "markdown",
      "source": [
        "### Задача 2"
      ],
      "metadata": {
        "id": "AG7ZR9ZFszTB"
      }
    },
    {
      "cell_type": "code",
      "source": [
        "def swap_name_and_surname():\n",
        "    try:\n",
        "        full_name = input(\"Введіть ваше ім'я та прізвище: \")\n",
        "\n",
        "        # Розділити ім'я та прізвище за допомогою регулярного виразу\n",
        "        match = re.match(r'^([А-ЯҐЄІЇа-яґєії]+)\\s+([А-ЯҐЄІЇа-яґєії]+)$', full_name)\n",
        "\n",
        "        if match:\n",
        "            # Отримати ім'я та прізвище з результуючої групи\n",
        "            name = match.group(1)\n",
        "            surname = match.group(2)\n",
        "\n",
        "            # Вивести прізвище та ім'я\n",
        "            print(\"Ім'я та прізвище після обміну:\", surname, name)\n",
        "        else:\n",
        "            raise Exception('неправильний формат')\n",
        "            print(\"Неправильний формат ім'я/прізвище.\")\n",
        "    except Exception as e:\n",
        "        print(\"Виникла помилка:\", e)"
      ],
      "metadata": {
        "id": "5xQGEPH6tDxq"
      },
      "execution_count": null,
      "outputs": []
    },
    {
      "cell_type": "code",
      "source": [
        "swap_name_and_surname()"
      ],
      "metadata": {
        "colab": {
          "base_uri": "https://localhost:8080/"
        },
        "id": "B0-0237_tJKc",
        "outputId": "aeb17307-1ba0-4890-b9ca-1e4c84575241"
      },
      "execution_count": null,
      "outputs": [
        {
          "output_type": "stream",
          "name": "stdout",
          "text": [
            "Введіть ваше ім'я та прізвище: Марина \n",
            "Виникла помилка: неправильний формат\n"
          ]
        }
      ]
    },
    {
      "cell_type": "markdown",
      "source": [
        "### Задача 8"
      ],
      "metadata": {
        "id": "7PoZ0WTrs36U"
      }
    },
    {
      "cell_type": "code",
      "source": [
        "def reverse_name(input_string):\n",
        "    # Перевірка відповідності шаблону\n",
        "    pattern = r'^(професор|доцент)\\s+[А-ЯІЇЄҐ][а-яіїєґ]+\\s+[А-ЯІЇЄҐ]\\.\\s[А-ЯІЇЄҐ]\\.$'\n",
        "    if re.match(pattern, input_string):\n",
        "        try:\n",
        "            # Розділення рядка на складові частини\n",
        "            title, surname, initial1, initial2 = input_string.split()\n",
        "\n",
        "            # Виведення запису у зворотному порядку\n",
        "            print(\"Запис у зворотному порядку:\", initial1, initial2, surname)\n",
        "        except ValueError:\n",
        "            print(\"Помилка: невірний формат рядка.\")\n",
        "    else:\n",
        "        print(\"Введений рядок не відповідає шаблону.\")"
      ],
      "metadata": {
        "id": "Bj4z27ixsJr7"
      },
      "execution_count": null,
      "outputs": []
    },
    {
      "cell_type": "code",
      "source": [
        "input_string = input(\"Введіть наукове звання, прізвище та ініціали (наприклад, професор Іванов І. І.): \")\n",
        "reverse_name(input_string)"
      ],
      "metadata": {
        "colab": {
          "base_uri": "https://localhost:8080/"
        },
        "id": "MVdrVQt_tNGk",
        "outputId": "bf1181b8-78ca-413f-f79d-835f6ecfcb07"
      },
      "execution_count": null,
      "outputs": [
        {
          "output_type": "stream",
          "name": "stdout",
          "text": [
            "Введіть наукове звання, прізвище та ініціали (наприклад, професор Іванов І. І.): 55 44\n",
            "Введений рядок не відповідає шаблону.\n"
          ]
        }
      ]
    },
    {
      "cell_type": "markdown",
      "source": [
        "# Practice 4"
      ],
      "metadata": {
        "id": "QlWmfuSMQMVg"
      }
    },
    {
      "cell_type": "code",
      "source": [
        "import sqlite3\n",
        "import datetime\n",
        "import pandas as pd\n",
        "import random"
      ],
      "metadata": {
        "id": "LY3HRmFJSQJe"
      },
      "execution_count": null,
      "outputs": []
    },
    {
      "cell_type": "markdown",
      "source": [
        "## Завдання 1. Напишіть програму, яка створює у робочій директорії базу даних mydb. Заповнює базу даних інформацією про топ-10 фільмів зі списку фільмів на IMDb."
      ],
      "metadata": {
        "id": "96secB15Qglb"
      }
    },
    {
      "cell_type": "code",
      "source": [
        "movies_data = [\n",
        "     ('Втеча з Шоушенка', 9.3, 1994, 'Френк Дарабонт', 'драма'),\n",
        "     ('Хрещений батько', 9.2, 1972, 'Френсіс Форд Коппола', 'драма'),\n",
        "     ('Хрещений батько 2', 9.0, 1974, 'Френсіс Форд Коппола', 'драма'),\n",
        "     ('Темний лицар', 9.0, 2008, 'Крістофер Нолан', 'бойовик'),\n",
        "     ('12 розгніваних чоловіків', 9, 1957, 'Сідні Люмет', 'драма'),\n",
        "     ('Список Шиндлера', 9, 1993, 'Стівен Спілберг', 'драма'),\n",
        "     ('Володар кілець: Повернення короля', 9, 2003, 'Пітер Джексон', 'фентезі'),\n",
        "     ('Кримінальне чтиво', 8.9, 1994, 'Квентін Тарантіно', 'кримінал'),\n",
        "     ('Хороший, поганий, злий', 8.8, 1966, 'Серджіо Леоне', 'вестерн'),\n",
        "     ('Бійцівський клуб' , 8.8, 1999, 'Девід Фінчер' , 'драма' ),\n",
        "]"
      ],
      "metadata": {
        "id": "cA-NsX2TSbQM"
      },
      "execution_count": null,
      "outputs": []
    },
    {
      "cell_type": "code",
      "source": [
        "conn = sqlite3.connect('mydb.db')\n",
        "\n",
        "conn.execute('''CREATE TABLE movies\n",
        "                (назва TEXT,\n",
        "                 рейтинг REAL,\n",
        "                 рік INTEGER,\n",
        "                 режисер TEXT,\n",
        "                 жанр TEXT);''')"
      ],
      "metadata": {
        "colab": {
          "base_uri": "https://localhost:8080/"
        },
        "id": "WgDX1EbUSCxp",
        "outputId": "e24d0a38-a75a-4654-c04a-072bd40038f2"
      },
      "execution_count": null,
      "outputs": [
        {
          "output_type": "execute_result",
          "data": {
            "text/plain": [
              "<sqlite3.Cursor at 0x7e8e58517f40>"
            ]
          },
          "metadata": {},
          "execution_count": 4
        }
      ]
    },
    {
      "cell_type": "code",
      "source": [
        "conn = sqlite3.connect('mydb.db')\n",
        "\n",
        "for movie in movies_data:\n",
        "    conn.execute(f\"INSERT INTO movies VALUES ('{movie[0]}', {movie[1]}, {movie[2]}, '{movie[3]}', '{movie[4]}')\")"
      ],
      "metadata": {
        "id": "rXn8lvsYSXTG"
      },
      "execution_count": null,
      "outputs": []
    },
    {
      "cell_type": "code",
      "source": [
        "conn.commit()\n",
        "conn.close()"
      ],
      "metadata": {
        "id": "o-11afd6SdjT"
      },
      "execution_count": null,
      "outputs": []
    },
    {
      "cell_type": "markdown",
      "source": [
        "## Завдання 2. Напишіть програму, яка створює базу компанії та таблицю працівників. У таблиці є поля для зберігання імені, прізвища, віку та дати прийому працювати. Заповнити таблицю даними співробітників. Вивести список співробітників, який відсортовано за зменшенням стажу роботи."
      ],
      "metadata": {
        "id": "MxkDGYMOQmIs"
      }
    },
    {
      "cell_type": "code",
      "source": [
        "employees_data = [('Іван', 'Петров', 'менеджер', 28, '2021-01-01'),\n",
        "                   ('Анна', 'Смирнова', 'розробник', 35, '2020-02-01'),\n",
        "                   ('Єгор', 'Сергєєв', 'технічний письменник', 30, '2022-01-01'),\n",
        "                   ('Олександр', 'Іванов', 'дизайнер', 42, '2019-11-01'),\n",
        "                   ('Ольга', 'Попова', 'фінансист', 37, '2018-06-01'),\n",
        "                   ('Дмитро', 'Кузнєцов', 'менеджер', 26, '2020-08-01'),\n",
        "                   ('Марія', 'Ковальова', 'розробник', 31, '2021-03-01'),\n",
        "                   ('Сергій', 'Морозов', 'технічний письменник', 48, '2017-05-01'),\n",
        "                   ('Олена', 'Новікова', 'дизайнер', 34, '2019-09-01'),\n",
        "                   ('Ігор', 'Соколів', 'фінансист', 30, '2017-11-01'),\n",
        "                   ('Олексій', 'Смирнов', 'менеджер', 33, '2020-04-01'),\n",
        "                   ('Катерина', 'Крилова', 'розробник', 29, '2021-02-01'),\n",
        "                   ('Деніс', 'Медведєв', 'технічний письменник', 45, '2018-05-01'),\n",
        "                   ('Олена', 'Іванова', 'дизайнер', 31, '2023-05-01'),\n",
        "                   ('Дмитро', 'Терентьєв', 'фінансист', 29, '2017-09-01'),\n",
        "                   ('Олег', 'Кузьмін', 'менеджер', 39, '2019-12-01'),\n",
        "                   ('Анастасія', \"Григор'єва\", 'розробник', 33, '2021-05-01'),\n",
        "                   ('Павло', 'Куликов', 'технічний письменник', 47, '2018-03-01'),\n",
        "                   ('Марина', 'Єгорова', 'дизайнер', 28, '2023-03-01'),\n",
        "                   ('Артем', 'Буров', 'фінансист', 26, '2017-11-01'),\n",
        "                   ('Андрій', 'Ігнатьєв', 'менеджер', 32, '2022-06-01')]"
      ],
      "metadata": {
        "id": "2qm9QWGrUk6h"
      },
      "execution_count": null,
      "outputs": []
    },
    {
      "cell_type": "code",
      "source": [
        "def calculate_experience(date_hired):\n",
        "    today = datetime.date.today()\n",
        "    hire_date = datetime.datetime.strptime(date_hired, '%Y-%m-%d').date()\n",
        "    experience = (today.year - hire_date.year) * 12 + today.month - hire_date.month\n",
        "    return experience"
      ],
      "metadata": {
        "id": "2JDkpWuYSnE-"
      },
      "execution_count": null,
      "outputs": []
    },
    {
      "cell_type": "code",
      "source": [
        "conn = sqlite3.connect('company.db')\n",
        "cursor = conn.cursor()\n",
        "\n",
        "# Створення таблиці employees\n",
        "cursor.execute('''CREATE TABLE employees\n",
        "                (id INTEGER PRIMARY KEY,\n",
        "                first_name TEXT,\n",
        "                last_name TEXT,\n",
        "                position TEXT,\n",
        "                age INTEGER,\n",
        "                hire_date TEXT)''')"
      ],
      "metadata": {
        "colab": {
          "base_uri": "https://localhost:8080/"
        },
        "id": "OGgQgJssUmqv",
        "outputId": "a6b09fbc-eadd-4599-f663-3475f3d41d7a"
      },
      "execution_count": null,
      "outputs": [
        {
          "output_type": "execute_result",
          "data": {
            "text/plain": [
              "<sqlite3.Cursor at 0x7e8e585c0cc0>"
            ]
          },
          "metadata": {},
          "execution_count": 9
        }
      ]
    },
    {
      "cell_type": "code",
      "source": [
        "# Додавання даних до таблиці employees\n",
        "for employee in employees_data:\n",
        "    cursor.execute('INSERT INTO employees (first_name, last_name, position, age, hire_date) VALUES (?, ?, ?, ?, ?)',\n",
        "                   (employee[0], employee[1], employee[2], employee[3], employee[4]))"
      ],
      "metadata": {
        "id": "C14D2A5YZu2Q"
      },
      "execution_count": null,
      "outputs": []
    },
    {
      "cell_type": "code",
      "source": [
        "# Вилучення даних із таблиці employees та сортування за стовпцем hire_date\n",
        "cursor.execute('SELECT * FROM employees')\n",
        "employees = cursor.fetchall()\n",
        "employees_sorted = sorted(employees, key=lambda x: calculate_experience(x[5]), reverse=True)\n",
        "\n",
        "# Висновок відсортованого списку співробітників\n",
        "for employee in employees_sorted:\n",
        "    experience = calculate_experience(employee[5])\n",
        "    print(f'{employee[1]} {employee[2]} - {experience} міс. досвіду роботи')"
      ],
      "metadata": {
        "colab": {
          "base_uri": "https://localhost:8080/"
        },
        "id": "2z13hDcJZ0Na",
        "outputId": "c3172aa4-4700-4671-f901-23aefeacac40"
      },
      "execution_count": null,
      "outputs": [
        {
          "output_type": "stream",
          "name": "stdout",
          "text": [
            "Сергій Морозов - 82 міс. досвіду роботи\n",
            "Дмитро Терентьєв - 78 міс. досвіду роботи\n",
            "Ігор Соколів - 76 міс. досвіду роботи\n",
            "Артем Буров - 76 міс. досвіду роботи\n",
            "Павло Куликов - 72 міс. досвіду роботи\n",
            "Деніс Медведєв - 70 міс. досвіду роботи\n",
            "Ольга Попова - 69 міс. досвіду роботи\n",
            "Олена Новікова - 54 міс. досвіду роботи\n",
            "Олександр Іванов - 52 міс. досвіду роботи\n",
            "Олег Кузьмін - 51 міс. досвіду роботи\n",
            "Анна Смирнова - 49 міс. досвіду роботи\n",
            "Олексій Смирнов - 47 міс. досвіду роботи\n",
            "Дмитро Кузнєцов - 43 міс. досвіду роботи\n",
            "Іван Петров - 38 міс. досвіду роботи\n",
            "Катерина Крилова - 37 міс. досвіду роботи\n",
            "Марія Ковальова - 36 міс. досвіду роботи\n",
            "Анастасія Григор'єва - 34 міс. досвіду роботи\n",
            "Єгор Сергєєв - 26 міс. досвіду роботи\n",
            "Андрій Ігнатьєв - 21 міс. досвіду роботи\n",
            "Марина Єгорова - 12 міс. досвіду роботи\n",
            "Олена Іванова - 10 міс. досвіду роботи\n"
          ]
        }
      ]
    },
    {
      "cell_type": "code",
      "source": [
        "conn.commit()\n",
        "conn.close()"
      ],
      "metadata": {
        "id": "9dQIp4HvZyXy"
      },
      "execution_count": null,
      "outputs": []
    },
    {
      "cell_type": "markdown",
      "source": [
        "## Завдання 3. Надано датасет movies.csv. Напишіть програму, яка створює базу даних та таблицю з полями, ідентичними назвам стовпців у файлі movies.csv. Заповніть таблицю інформацією з файлу. Виведіть усі фільми з оцінкою аудиторії понад 60, які вийшли на екран після 2010 року."
      ],
      "metadata": {
        "id": "5ZVsW1bXQrQP"
      }
    },
    {
      "cell_type": "code",
      "source": [
        "from google.colab import drive\n",
        "drive.mount('/content/drive')"
      ],
      "metadata": {
        "colab": {
          "base_uri": "https://localhost:8080/"
        },
        "id": "qLsS8Sqxa02q",
        "outputId": "e9600380-4697-4476-a8dd-2fa5644fa836"
      },
      "execution_count": null,
      "outputs": [
        {
          "output_type": "stream",
          "name": "stdout",
          "text": [
            "Mounted at /content/drive\n"
          ]
        }
      ]
    },
    {
      "cell_type": "code",
      "source": [
        "df = pd.read_csv('/content/drive/MyDrive/movies.csv')\n",
        "#Film,Genre,Lead Studio,Audience score %,Profitability,Rotten Tomatoes %,Worldwide Gross,Year\n",
        "conn = sqlite3.connect('mymovies.db')\n",
        "c = conn.cursor()\n",
        "\n",
        "c.execute('''CREATE TABLE movies\n",
        "             (Film TEXT,\n",
        "             Genre TEXT,\n",
        "             LeadStudio TEXT,\n",
        "             Audiencescore INTEGER,\n",
        "             Profitability REAL,\n",
        "             RottenTomatoes INTEGER,\n",
        "             WorldwideGross TEXT,\n",
        "             Year INTEGER)''')\n",
        "\n",
        "for index, row in df.iterrows():\n",
        "    c.execute(\"INSERT INTO movies VALUES (?, ?, ?, ?, ?, ?, ?, ?)\", row)\n",
        "\n",
        "conn.commit()"
      ],
      "metadata": {
        "id": "FNT6gN9eaBzj"
      },
      "execution_count": null,
      "outputs": []
    },
    {
      "cell_type": "code",
      "source": [
        "conn = sqlite3.connect('mymovies.db')\n",
        "\n",
        "query = '''SELECT *\n",
        "           FROM movies\n",
        "           WHERE Audiencescore > 60 AND Year > 2010'''\n",
        "\n",
        "for row in conn.execute(query):\n",
        "    print(*row)\n",
        "conn.close()"
      ],
      "metadata": {
        "colab": {
          "base_uri": "https://localhost:8080/"
        },
        "id": "Gh_AkKOYaSUV",
        "outputId": "261c2ed2-17f9-4b80-e54b-8c1ec66c2357"
      },
      "execution_count": null,
      "outputs": [
        {
          "output_type": "stream",
          "name": "stdout",
          "text": [
            "Water For Elephants Drama 20th Century Fox 72 3.081421053 60 $117.09  2011\n",
            "Twilight: Breaking Dawn Romance Independent 68 6.383363636 26 $702.17  2011\n",
            "My Week with Marilyn Drama The Weinstein Company 84 0.8258 83 $8.26  2011\n",
            "Midnight in Paris Romence Sony 84 8.744705882 93 $148.66  2011\n",
            "Jane Eyre Romance Universal 77 0.0 85 $30.15  2011\n",
            "Beginners Comedy Independent 80 4.471875 84 $14.31  2011\n",
            "A Dangerous Method Drama Independent 89 0.44864475 79 $8.97  2011\n"
          ]
        }
      ]
    },
    {
      "cell_type": "markdown",
      "source": [
        "## Завдання 4. Напишіть програму, яка створює базу даних mybooks та заповнює таблицю books даними про топ-25 найкращих книг за версією ВВС. Вивести дані про книги, які видані не в США та не у Великій Британії."
      ],
      "metadata": {
        "id": "tfVivvk6QyME"
      }
    },
    {
      "cell_type": "code",
      "source": [
        "books = [\n",
        "('Джон', 'Р. Р. Толкін', 'Володар кілець', 'Великобританія'),\n",
        "     ('Джейн', 'Остін', 'Гордість і упередження', 'Великобританія'),\n",
        "     (\"Філіп\", \"Пулман\", \"Темні початки\", \"Великобританія\"),\n",
        "     ('Дуглас', 'Адамс', 'Автостопом по галактиці', 'Великобританія'),\n",
        "     ('Джоан', 'Роулінг', 'Гаррі Поттер і Кубок вогню', 'Великобританія'),\n",
        "     ('Харпер', 'Лі', 'Вбити пересмішника', 'США'),\n",
        "     ('Алан Олександр', 'Мілн', 'Вінні Пух', 'Великобританія'),\n",
        "     ('Джордж', 'Оруелл', '1984', 'Великобританія'),\n",
        "     ('Клайв Стейплз', 'Льюїс', 'Лев, чаклунка та платтяна шафа', 'Великобританія'),\n",
        "     ('Шарлотта', 'Бронте', 'Джейн Ейр', 'Великобританія'),\n",
        "     ('Джозеф', 'Хеллер', 'Виверт-22', 'США'),\n",
        "     ('Емілі', 'Бронте', 'Грозовий перевал', 'Великобританія'),\n",
        "     ('Себастьян', 'Фолкс', 'Співо птахів', 'Великобританія'),\n",
        "     ('Дафна', \"Дюмор'я\", 'Ребека', 'Великобританія'),\n",
        "     ('Джером', 'Селінджер', 'Над прірвою в житі', 'США'),\n",
        "     ('Кеннет', 'Грем', 'Вітер у вербах', 'Великобританія'),\n",
        "     ('Чарльз', 'Діккенс', 'Великі надії', 'Великобританія'),\n",
        "     ('Луїза Мей', 'Олкотт', 'Маленькі жінки', 'США'),\n",
        "     ('Луї', 'де Берньєр', 'Мандоліна капітана Кореллі', 'Великобританія'),\n",
        "     ('Тарас', 'Шевченка', 'Заповіт', 'Україна'),\n",
        "     ('Маргарет', 'Мітчелл', 'Віднесені вітром', 'США'),\n",
        "     ('Джоан', 'Роулінг', 'Гаррі Поттер і філософський камінь', 'Великобританія'),\n",
        "     ('Джоан', 'Роулінг', 'Гаррі Поттер і Таємна кімната', 'Великобританія'),\n",
        "     ('Джоан', 'Роулінг', \"Гаррі Поттер і в'язень Азкабану\", 'Великобританія'),\n",
        "     ('Джон', 'Р. Р. Толкін', 'Хоббіт, або Туди і назад', 'Великобританія')\n",
        "]"
      ],
      "metadata": {
        "id": "yK9eDEJAbjF_"
      },
      "execution_count": null,
      "outputs": []
    },
    {
      "cell_type": "code",
      "source": [
        "conn = sqlite3.connect('mybooks.db')\n",
        "\n",
        "conn.execute('''CREATE TABLE books\n",
        "                (id INTEGER PRIMARY KEY,\n",
        "                 ім_я_автора TEXT,\n",
        "                 прізвище_автора TEXT,\n",
        "                 назва_роману TEXT,\n",
        "                 країна TEXT);''')\n",
        "\n",
        "\n",
        "conn.executemany(\"INSERT INTO books (ім_я_автора, прізвище_автора, назва_роману, країна) VALUES (?, ?, ?, ?)\", books)\n",
        "conn.commit()"
      ],
      "metadata": {
        "id": "hka-PMNDbFam"
      },
      "execution_count": null,
      "outputs": []
    },
    {
      "cell_type": "code",
      "source": [
        "conn = sqlite3.connect('mybooks.db')\n",
        "\n",
        "cursor = conn.execute(\"SELECT * FROM books WHERE країна NOT IN (?, ?)\", ('США', 'Великобританія'))\n",
        "\n",
        "for row in cursor:\n",
        "    print(f\"{row[0]} - {row[1]} {row[2]}, \\\"{row[3]}\\\", {row[4]}\")\n",
        "conn.close()"
      ],
      "metadata": {
        "colab": {
          "base_uri": "https://localhost:8080/"
        },
        "id": "8lNaynNO_XxH",
        "outputId": "2b9cc60f-d6dc-4789-a3bc-6eb2e1abb55e"
      },
      "execution_count": null,
      "outputs": [
        {
          "output_type": "stream",
          "name": "stdout",
          "text": [
            "20 - Тарас Шевченка, \"Заповіт\", Україна\n"
          ]
        }
      ]
    },
    {
      "cell_type": "markdown",
      "source": [
        "## Завдання 5. Напишіть дві програми:\n",
        "\n",
        "Перша - створює базу даних pharmacy, в якій зберігаються дані про лікарські препарати. Друга - виконує пошук БД та виводить усі лікарські форми запитаного препарату.\n"
      ],
      "metadata": {
        "id": "QfziT_r2Q9Jx"
      }
    },
    {
      "cell_type": "code",
      "source": [
        "medicines = [('амоксицилін', 'BPharma', 'капсули', 265),\n",
        "              ('амоксицилін', 'Healthy', 'сироп', 250),\n",
        "              ('амоксицилін', 'Pharmstandart', 'пігулки', 150),\n",
        "              ('амоксицилін', 'Teva', 'ампули', 350),\n",
        "              ('аспірин', 'Bayer', 'пігулки', 100),\n",
        "              ('аспірин', 'Stada', 'капсули', 120),\n",
        "              ('аспірин', 'Teva', 'сироп', 190),\n",
        "              ('валідол', 'Pharmstandart', 'таблетки', 50),\n",
        "              ('валідол', 'Stada', 'капсули', 60),\n",
        "              ('валідол', 'Healthy', 'сироп', 70),\n",
        "              (\"валеріана\", \"BPharma\", \"капсули\", 80),\n",
        "              ('валеріана', 'Pharmstandart', 'таблетки', 90),\n",
        "              ('валеріана', 'Healthy', 'сироп', 100),\n",
        "              ('гліцин', 'Pharmstandart', 'таблетки', 40),\n",
        "              ('гліцин', 'BPharma', 'краплі', 30),\n",
        "              ('діазолін', 'Healthy', 'пігулки', 120),\n",
        "              ('діазолін', 'Pharmstandart', 'капсули', 130),\n",
        "              ('діазолін', 'Stada', 'сироп', 140),\n",
        "              ('димедрол', 'BPharma', 'таблетки', 50),\n",
        "              ('димедрол', 'Healthy', 'капсули', 60),\n",
        "              ('димедрол', 'Pharmstandart', 'сироп', 70),\n",
        "              ( \"димедрол\", \"Teva\", \"ампули\", 170),\n",
        "              ('ібупрофен', 'Bayer', 'пігулки', 80),\n",
        "              ('ібупрофен', 'Healthy', 'капсули', 90),\n",
        "              ('ібупрофен', 'Pharmstandart', 'сироп', 100),\n",
        "              ('кетонал', 'Teva', 'таблетки', 200),\n",
        "              ('кетонал', 'Stada', 'капсули', 210),\n",
        "              ('Кетонал', 'BPharma', 'сироп', 220),\n",
        "              ('мезим', 'Pharmstandart', 'таблетки', 150),\n",
        "              ('мезим', 'Healthy', 'капсули', 160),\n",
        "              ('мезим', 'BPharma', 'сироп', 170),\n",
        "              ('нурофен', 'Bayer', 'пігулки', 120),\n",
        "              ('нурофен', 'Healthy', 'капсули', 130),\n",
        "              ('нурофен', 'Pharmstandart', 'сироп', 140)]"
      ],
      "metadata": {
        "id": "s34_GMc1_-jj"
      },
      "execution_count": null,
      "outputs": []
    },
    {
      "cell_type": "code",
      "source": [
        "conn = sqlite3.connect('pharmacy.db')\n",
        "cursor = conn.cursor()\n",
        "\n",
        "cursor.execute('''CREATE TABLE medicines\n",
        "                (name text, manufacturer text, form text, price real)''')\n",
        "\n",
        "cursor.executemany('INSERT INTO medicines VALUES (?,?,?,?)', medicines)\n",
        "\n",
        "conn.commit()\n",
        "conn.close()"
      ],
      "metadata": {
        "id": "GPA_FXIx_zx-"
      },
      "execution_count": null,
      "outputs": []
    },
    {
      "cell_type": "code",
      "source": [
        "conn = sqlite3.connect('pharmacy.db')\n",
        "cursor = conn.cursor()\n",
        "\n",
        "medicine_name = input('Введіть назву препарату: ')\n",
        "cursor.execute('''SELECT * FROM medicines\n",
        "                WHERE name=?''', (medicine_name,))\n",
        "\n",
        "rows = cursor.fetchall()\n",
        "\n",
        "if len(rows) == 0:\n",
        "    print(f'Препарат {medicine_name} не знайдено')\n",
        "else:\n",
        "    print(f'Знайдено записи про препарат {medicine_name}:')\n",
        "    for row in rows:\n",
        "        print(row)\n",
        "\n",
        "conn.close()"
      ],
      "metadata": {
        "colab": {
          "base_uri": "https://localhost:8080/"
        },
        "id": "qv6ZAONOASN0",
        "outputId": "9c2d0f7b-8156-4796-e121-4d34b65e7f21"
      },
      "execution_count": null,
      "outputs": [
        {
          "output_type": "stream",
          "name": "stdout",
          "text": [
            "Введіть назву препарату: валеріана\n",
            "Знайдено записи про препарат валеріана:\n",
            "('валеріана', 'BPharma', 'капсули', 80.0)\n",
            "('валеріана', 'Pharmstandart', 'таблетки', 90.0)\n",
            "('валеріана', 'Healthy', 'сироп', 100.0)\n"
          ]
        }
      ]
    },
    {
      "cell_type": "markdown",
      "source": [
        "## Завдання 6. Напишіть дві програми:\n",
        "\n",
        "Перша створює базу даних clothing та таблицю t-shirts у ній. У таблиці мають бути поля: бренд, розмір, ціна, колір. Скрипт заповнює таблицю даними про 20 футболок.\n",
        "\n",
        "Друга вибирає з таблиці футболки розміру L вартістю до $100 не червоного кольору.\n"
      ],
      "metadata": {
        "id": "MsXdcWQ2RGnu"
      }
    },
    {
      "cell_type": "code",
      "source": [
        "t_shirts = [\n",
        "    ('Levi\\'s', 'S', 29.99, 'білий'),\n",
        "     ('Nike', 'M', 24.99, 'чорний'),\n",
        "     ('Adidas', 'L', 19.99, 'синій'),\n",
        "     ('H&M', 'S', 14.99, 'червоний'),\n",
        "     ('Reebok', 'M', 39.99, 'чорний'),\n",
        "     ('Zara', 'L', 29.99, 'білий'),\n",
        "     ('Puma', 'S', 19.99, 'сірий'),\n",
        "     ('Lacoste', 'M', 49.99, 'зелений'),\n",
        "     ('Calvin Klein', 'L', 59.99, 'синій'),\n",
        "     ('Tommy Hilfiger', 'S', 44.99, 'червоний'),\n",
        "     ('Gap', 'M', 34.99, 'сірий'),\n",
        "     ('Uniqlo', 'L', 24.99, 'білий'),\n",
        "     ('Hollister', 'S', 29.99, 'синій'),\n",
        "     ('Diesel', 'M', 39.99, 'чорний'),\n",
        "     ('Gucci', 'L', 199.99, 'червоний'),\n",
        "     ('Armani', 'S', 149.99, 'сірий'),\n",
        "     ('Ralph Lauren', 'M', 89.99, 'білий'),\n",
        "     ('Hugo Boss', 'L', 129.99, 'синій'),\n",
        "     ('Burberry', 'S', 299.99, 'червоний'),\n",
        "     ('Versace', 'M', 249.99, 'чорний')\n",
        "]"
      ],
      "metadata": {
        "id": "mkGWKeB0ArNo"
      },
      "execution_count": null,
      "outputs": []
    },
    {
      "cell_type": "code",
      "source": [
        "conn = sqlite3.connect('clothing.db')\n",
        "\n",
        "conn.execute('''CREATE TABLE t_shirts\n",
        "                (id INTEGER PRIMARY KEY,\n",
        "                 бренд TEXT,\n",
        "                 розмір TEXT,\n",
        "                 вартість REAL,\n",
        "                 колір TEXT);''')\n",
        "\n",
        "\n",
        "conn.executemany(\"INSERT INTO t_shirts (бренд, розмір, вартість, колір) VALUES (?, ?, ?, ?)\", t_shirts)\n",
        "\n",
        "conn.commit()\n",
        "\n",
        "conn.close()"
      ],
      "metadata": {
        "id": "PURn3_gHAgWu"
      },
      "execution_count": null,
      "outputs": []
    },
    {
      "cell_type": "code",
      "source": [
        "conn = sqlite3.connect('clothing.db')\n",
        "\n",
        "cursor = conn.execute(\"SELECT * FROM t_shirts WHERE розмір=? AND вартість < ? AND колір != ?\", ('L', 100, 'червоний'))\n",
        "\n",
        "for row in cursor:\n",
        "    print(f\"{row[0]} - {row[1]}, {row[2]}, ${row[3]}, {row[4]}\")\n",
        "\n",
        "conn.close()"
      ],
      "metadata": {
        "colab": {
          "base_uri": "https://localhost:8080/"
        },
        "id": "8PldKUDpBYG4",
        "outputId": "9520c08a-3452-4e58-8343-ca1ba8128125"
      },
      "execution_count": null,
      "outputs": [
        {
          "output_type": "stream",
          "name": "stdout",
          "text": [
            "3 - Adidas, L, $19.99, синій\n",
            "6 - Zara, L, $29.99, білий\n",
            "9 - Calvin Klein, L, $59.99, синій\n",
            "12 - Uniqlo, L, $24.99, білий\n"
          ]
        }
      ]
    },
    {
      "cell_type": "markdown",
      "source": [
        "## Завдання 7. Напишіть програму, яка створює базу даних з таблицею calories, що містить дані про калорійність основних продуктів харчування. Отримати від користувача рядок з перерахуванням продуктів та їхньої ваги. Вивести калорійність готової страви."
      ],
      "metadata": {
        "id": "chjzAe8FRbCs"
      }
    },
    {
      "cell_type": "code",
      "source": [
        "calories_data = [('Огірок', 100, 15),\n",
        "                  ('Помідор', 100, 18),\n",
        "                  ('Морква', 100, 34),\n",
        "                  ('Редька', 100, 20),\n",
        "                  ('Картопля', 100, 77),\n",
        "                  ('Цибуля', 100, 41),\n",
        "                  ('Томатний сік', 100, 18),\n",
        "                  ('Часник', 100, 149),\n",
        "                  ('Яблуко', 100, 52),\n",
        "                  ('Апельсин', 100, 47),\n",
        "                  ('Банан', 100, 89),\n",
        "                  ('Персик', 100, 39),\n",
        "                  ('Вівсянка', 100, 366),\n",
        "                  ('Гречка', 100, 342),\n",
        "                  ('Рис', 100, 340),\n",
        "                  ('Макарони', 100, 371),\n",
        "                  ('Цукор', 100, 387),\n",
        "                  ('Мед', 100, 304),\n",
        "                  ('Молоко', 100, 63),\n",
        "                  ('Кефір', 100, 52),\n",
        "                  ('Сметана', 100, 292),\n",
        "                  ('Сир твердий', 100, 385),\n",
        "                  ('Риба жирна', 100, 205),\n",
        "                  ( \"Риба морська\", 100, 69),\n",
        "                  ('Куриця', 100, 123),\n",
        "                  ('Яловичина', 100, 250),\n",
        "                  ('Свинина', 100, 317),\n",
        "                  ('Ковбаса варена', 100, 250),\n",
        "                  ('Хліб чорний', 100, 224),\n",
        "                  ('Хліб білий', 100, 264),\n",
        "                  ('Батон', 100, 242),\n",
        "                  ('Масло вершкове', 100, 749),\n",
        "                  ('Борошно', 100, 340),\n",
        "                  ('Баклажан', 100, 25),\n",
        "                  ('Шоколад', 100, 546),\n",
        "                  ('Горох', 100, 382),\n",
        "                  ('Арахіс', 100, 567),\n",
        "                  ('Мигдаль', 100, 575),\n",
        "                  ('Кедрові горіхи', 100, 648),\n",
        "                  ('Фундук', 100, 643)]"
      ],
      "metadata": {
        "id": "UNkBDxTCC26a"
      },
      "execution_count": null,
      "outputs": []
    },
    {
      "cell_type": "code",
      "source": [
        "conn = sqlite3.connect('calories.db')\n",
        "\n",
        "conn.execute('''CREATE TABLE calories\n",
        "                 (name TEXT PRIMARY KEY,\n",
        "                  weight INTEGER,\n",
        "                  calories INTEGER)''')\n",
        "\n",
        "for item in calories_data:\n",
        "    conn.execute('INSERT INTO calories (name, weight, calories) VALUES (?, ?, ?)', item)\n",
        "\n",
        "conn.commit()\n",
        "conn.close()"
      ],
      "metadata": {
        "id": "hD71vV0gCzCZ"
      },
      "execution_count": null,
      "outputs": []
    },
    {
      "cell_type": "code",
      "source": [
        "con = sqlite3.connect('calories.db')\n",
        "cursor = con.cursor()\n",
        "\n",
        "input_str = input('Введіть назви продуктів та їх вагу через кому: ')\n",
        "\n",
        "items = input_str.split(',')\n",
        "total_calories = 0\n",
        "for item in items:\n",
        "    # Розбиваємо рядок на назву продукту та його вагу\n",
        "    name, weight = map(str.strip, item.split(':'))\n",
        "    name = name.capitalize()\n",
        "\n",
        "    # Отримуємо калорійність продукту з бази даних\n",
        "    result = cursor.execute(\"SELECT calories FROM calories WHERE name=?\", (name,))\n",
        "    row = result.fetchone()\n",
        "\n",
        "    if row is not None:\n",
        "        # Рахуємо калорійність поточного продукту\n",
        "        product_calories = row[0] * float(weight) / 100\n",
        "\n",
        "        # Додаємо калорії цього продукту до загальної калорійності\n",
        "        total_calories += product_calories\n",
        "    else:\n",
        "        print(f\"Продукт {name} відсутній у базі даних.\")\n",
        "\n",
        "# Виводимо загальну калорійність готової страви\n",
        "print(f\"Калорійність готової страви: {total_calories:.2f} ккал\")\n",
        "con.close()"
      ],
      "metadata": {
        "colab": {
          "base_uri": "https://localhost:8080/"
        },
        "id": "Uiw3DcUfC9lL",
        "outputId": "b34380f0-4742-48ee-b8d5-d73a7b283748"
      },
      "execution_count": null,
      "outputs": [
        {
          "output_type": "stream",
          "name": "stdout",
          "text": [
            "Введіть назви продуктів та їх вагу через кому: макарони:200, огірок:67\n",
            "Калорійність готової страви: 752.05 ккал\n"
          ]
        }
      ]
    },
    {
      "cell_type": "markdown",
      "source": [
        "## Завдання 9. Є база даних retailcompany. Щодня, окрім вихідних, співробітники використовують CRM. Час входу та виходу за червень 2023 року реєструється в таблиці workload_june. Напишіть програму, яка визначає, скільки часу сумарно кожен співробітник провів у CRM у червні. Потрібно вивести список співробітників, які провели у CRM понад 95 годин."
      ],
      "metadata": {
        "id": "ul0OBZRMRhYk"
      }
    },
    {
      "cell_type": "code",
      "source": [
        "# Список з іменами та прізвищами співробітників та їх посадами\n",
        "employees = [('Ілля', 'Смирнов', 'менеджер з продажу'),\n",
        "              ('Максим', 'Іванов', 'бухгалтер'),\n",
        "              ( \"Артем\", \"Кузнєцов\", \"менеджер з постачання\"),\n",
        "              (\"Михайло\", \"Попов\", \"консультант\"),\n",
        "              ('Олександр', 'Соколів', 'менеджер з продажу'),\n",
        "              ('Дмитро', 'Лебедєв', 'бухгалтер'),\n",
        "              ('Марія', 'Козлова', 'менеджер з постачання'),\n",
        "              ('Анна', 'Новікова', 'консультант'),\n",
        "              ('Ольга', 'Морозова', 'менеджер з продажу'),\n",
        "              ('Ірина', 'Петрова', 'бухгалтер'),\n",
        "              ('Олена', 'Соловйова', 'менеджер з постачання'),\n",
        "              ('Наталія', 'Васильєва', 'консультант')]"
      ],
      "metadata": {
        "id": "SUS-LeovEN8f"
      },
      "execution_count": null,
      "outputs": []
    },
    {
      "cell_type": "code",
      "source": [
        "# Створення бази даних та підключення до неї\n",
        "conn = sqlite3.connect('retailcompany.db')\n",
        "cursor = conn.cursor()\n",
        "\n",
        "# Створення таблиці workload_june\n",
        "cursor.execute('''CREATE TABLE workload_june\n",
        "                (date TEXT,\n",
        "                first_name TEXT,\n",
        "                last_name TEXT,\n",
        "                position TEXT,\n",
        "                time_in TEXT,\n",
        "                time_out TEXT)''')\n",
        "\n",
        "# Словник для збереження часу останнього виходу кожного працівника\n",
        "last_login_time = {}\n",
        "\n",
        "# Заповнення таблиці даними про входи та виходи співробітників за червень\n",
        "for i in range(1, 31):\n",
        "    if i in [3, 4, 10, 11, 17, 18, 24, 25]: # Виключаємо вихідні дні\n",
        "        continue\n",
        "    for j in range(1, len(employees) + 1):\n",
        "        employee = employees[j - 1]\n",
        "        first_name = employee[0]\n",
        "        last_name = employee[1]\n",
        "        position = employee[2]\n",
        "        date = f'{i:02}.06.2023'\n",
        "        if (first_name, last_name) not in last_login_time or last_login_time[(first_name, last_name)] != date:\n",
        "            time_in = f'{random.randint(9, 11):02}:{random.randint(0, 59):02}'\n",
        "            time_out = f'{random.randint(12, 17):02}:{random.randint(0, 59):02}'\n",
        "            cursor.execute('''INSERT INTO workload_june\n",
        "                              VALUES (?, ?, ?, ?, ?, ?)''', (date, first_name, last_name, position, time_in, time_out))\n",
        "            last_login_time[(first_name, last_name)] = date\n",
        "\n",
        "# Збереження змін та закриття бази даних\n",
        "conn.commit()\n",
        "conn.close()"
      ],
      "metadata": {
        "id": "G5F5F65CDb5P"
      },
      "execution_count": null,
      "outputs": []
    },
    {
      "cell_type": "code",
      "source": [
        "conn = sqlite3.connect('retailcompany.db')\n",
        "cursor = conn.cursor()\n",
        "\n",
        "# Створення словника для зберігання часу перебування кожного працівника\n",
        "employee_time = {}\n",
        "\n",
        "# Запит на обчислення часу перебування кожного співробітника CRM\n",
        "cursor.execute('''SELECT date, first_name, last_name, time_in, time_out\n",
        "                FROM workload_june''')\n",
        "\n",
        "# Розрахунок часу перебування кожного працівника за кожен день\n",
        "for row in cursor.fetchall():\n",
        "    date_str = row[0]\n",
        "    first_name = row[1]\n",
        "    last_name = row[2]\n",
        "    time_in_str = row[3]\n",
        "    time_out_str = row[4]\n",
        "\n",
        "    # Приведення дати та часу до потрібного формату\n",
        "    date = datetime.datetime.strptime(date_str, '%d.%m.%Y').date()\n",
        "    time_in = datetime.datetime.combine(date, datetime.datetime.strptime(time_in_str, '%H:%M').time())\n",
        "    time_out = datetime.datetime.combine(date, datetime.datetime.strptime(time_out_str, '%H:%M').time())\n",
        "\n",
        "    employee = (first_name, last_name)\n",
        "\n",
        "    if employee not in employee_time:\n",
        "        employee_time[employee] = {}\n",
        "\n",
        "    if date not in employee_time[employee]:\n",
        "        employee_time[employee][date] = 0\n",
        "\n",
        "    # Обчислення часу перебування співробітника у системі\n",
        "    time_spent = time_out - time_in\n",
        "    minutes_spent = time_spent.seconds // 60\n",
        "    employee_time[employee][date] += minutes_spent\n",
        "\n",
        "# Розрахунок часу перебування кожного працівника за весь місяць\n",
        "for employee, days in employee_time.items():\n",
        "    total_minutes_spent = sum(days.values())\n",
        "    total_hours_spent = total_minutes_spent // 60\n",
        "    total_minutes_spent = total_minutes_spent % 60\n",
        "\n",
        "    if total_hours_spent >= 95:\n",
        "        print(f'{employee[0]} {employee[1]}: {total_hours_spent} годин та {str(total_minutes_spent).ljust(2, \"0\")} хвилин.')\n",
        "\n",
        "# Закриття бази даних\n",
        "conn.close()"
      ],
      "metadata": {
        "colab": {
          "base_uri": "https://localhost:8080/"
        },
        "id": "DIb7v8H2EQkB",
        "outputId": "3eca3bbc-7aa5-4df7-ab17-136e9ca78331"
      },
      "execution_count": null,
      "outputs": [
        {
          "output_type": "stream",
          "name": "stdout",
          "text": [
            "Ілля Смирнов: 95 годин та 17 хвилин.\n",
            "Максим Іванов: 102 годин та 25 хвилин.\n",
            "Олександр Соколів: 100 годин та 60 хвилин.\n",
            "Дмитро Лебедєв: 96 годин та 48 хвилин.\n",
            "Марія Козлова: 104 годин та 27 хвилин.\n",
            "Анна Новікова: 109 годин та 33 хвилин.\n",
            "Ольга Морозова: 102 годин та 25 хвилин.\n",
            "Ірина Петрова: 96 годин та 45 хвилин.\n",
            "Олена Соловйова: 105 годин та 90 хвилин.\n",
            "Наталія Васильєва: 95 годин та 52 хвилин.\n"
          ]
        }
      ]
    },
    {
      "cell_type": "markdown",
      "source": [
        "## Завдання 10. Є база даних sales. В основі міститься таблиця cars. Дилер помилково вніс до таблиці дублюючі записи: вони повністю повторюють існуючі дані, за винятком неправильного регістру – назви марок та/або моделей у них завжди починаються з малих літер\n",
        "\n",
        "Напишіть програму, яка:\n",
        "\n",
        "1) Знаходить та виводить список записів, які мають дублікати.\n",
        "\n",
        "2) Пропонує видалити дублікати, а у разі відповіді yes – видаляє їх.\n"
      ],
      "metadata": {
        "id": "gzYz3ENNRxLR"
      }
    },
    {
      "cell_type": "code",
      "source": [
        "cars = [\n",
        "     ('Audi', 'A6', 'чорний', 2.0, 240, 2000000),\n",
        "     ('Audi', 'Q7', 'сірий', 3.0, 230, 4000000),\n",
        "     (\"BMW\", \"X5\", \"білий\", 4.4, 250, 4500000),\n",
        "     ('BMW', '5-серії', 'синій', 2.0, 220, 1800000),\n",
        "     ('bmw', '5-серії', 'синій', 2.0, 220, 1800000),\n",
        "     ('Chevrolet', 'Camaro', 'червоний', 3.6, 280, 3000000),\n",
        "     ('audi', 'Q7', 'сірий', 3.0, 230, 4000000),\n",
        "     ('Chevrolet', 'Tahoe', 'сірий', 5.3, 180, 3500000),\n",
        "     ('Chevrolet', 'camaro', 'червоний', 3.6, 280, 3000000),\n",
        "     ('Ford', 'Focus', 'жовтий', 1.6, 180, 900000),\n",
        "     ('Ford', 'Mustang', 'синій', 5.0, 280, 2700000),\n",
        "     ('Honda', 'Civic', 'чорний', 1.5, 220, 1200000),\n",
        "     ('Honda', 'Accord', 'білий', 2.0, 240, 1800000),\n",
        "     ('Honda', 'accord', 'білий', 2.0, 240, 1800000),\n",
        "     ('Hyundai', 'Santa Fe', 'сірий', 2.4, 180, 1400000),\n",
        "     ('Hyundai', 'Sonata', 'червоний', 2.0, 220, 1300000),\n",
        "     ('Infiniti', 'FX35', 'чорний', 3.5, 240, 2500000),\n",
        "     ('Infiniti', 'Q50', 'сірий', 2.0, 220, 2100000),\n",
        "     ('KIA', 'Ceed', 'білий', 1.4, 180, 1000000),\n",
        "     ('KIA', 'Sorento', 'синій', 2.2, 200, 1800000),\n",
        "     ('Lexus', 'NX200', 'чорний', 2.0, 220, 2700000),\n",
        "     ('Nissan', 'x-Trail', 'червоний', 2.0, 220, 1800000),\n",
        "     ('Lexus', 'RX350', 'білий', 3.5, 240, 3500000),\n",
        "     ('Mercedes-Benz', 'S500', 'сірий', 5.5, 250, 10000000),\n",
        "     ('kia', 'Sorento', 'синій', 2.2, 200, 1800000),\n",
        "     ('Lexus', 'rx350', 'білий', 3.5, 240, 3500000),\n",
        "     ('Mercedes-Benz', 'GLE250', 'синій', 2.2, 230, 4000000),\n",
        "     ('Nissan', 'Teana', 'білий', 2.5, 200, 1600000),\n",
        "     ('Nissan', 'X-Trail', 'червоний', 2.0, 220, 1800000),\n",
        "     ('nissan', 'Teana', 'білий', 2.5, 200, 1600000),\n",
        "     ('Toyota', 'Camry', 'чорний', 2.5, 210, 2000000),\n",
        "     ('Toyota', 'Land Cruiser 200', 'білий', 4.5, 220, 7000000),\n",
        "     ('mercedes-Benz', 'S500', 'сірий', 5.5, 250, 10000000),\n",
        "     ('Volkswagen', 'Passat', 'сірий', 1.8, 200, 1300000),\n",
        "     ('volkswagen', 'Passat', 'сірий', 1.8, 200, 1300000)\n",
        "]"
      ],
      "metadata": {
        "id": "9sZcFqLaEodJ"
      },
      "execution_count": null,
      "outputs": []
    },
    {
      "cell_type": "code",
      "source": [
        "con = sqlite3.connect('sales.db')\n",
        "cursor = con.cursor()\n",
        "\n",
        "cursor.execute('''\n",
        "    CREATE TABLE items (\n",
        "        id INTEGER PRIMARY KEY,\n",
        "        brand TEXT,\n",
        "        model TEXT,\n",
        "        color TEXT,\n",
        "        engine_volume REAL,\n",
        "        max_speed INTEGER,\n",
        "        price INTEGER\n",
        "    )\n",
        "''')\n",
        "\n",
        "for i, car in enumerate(cars):\n",
        "    cursor.execute(\n",
        "        f\"INSERT INTO items VALUES ({i+1}, ?, ?, ?, ?, ?, ?)\",\n",
        "        (car[0], car[1], car[2], car[3], car[4], car[5])\n",
        "    )\n",
        "\n",
        "con.commit()\n",
        "con.close()"
      ],
      "metadata": {
        "id": "OefuQdlLEkVS"
      },
      "execution_count": null,
      "outputs": []
    },
    {
      "cell_type": "code",
      "source": [
        "con = sqlite3.connect('sales.db')\n",
        "cursor = con.cursor()\n",
        "\n",
        "# Знаходимо дублікати\n",
        "cursor.execute('''\n",
        "    SELECT brand, model, engine_volume, max_speed, price, COUNT(*) FROM items\n",
        "    GROUP BY LOWER(brand), LOWER(model), engine_volume, max_speed, price\n",
        "    HAVING COUNT(*) > 1\n",
        "''')\n",
        "\n",
        "# Виводимо знайдені дублікати\n",
        "duplicates = cursor.fetchall()\n",
        "if duplicates:\n",
        "    print('Ці записи мають дублікати:')\n",
        "    for row in duplicates:\n",
        "        print(row[:-1])\n",
        "    answer = input('Бажаєте видалити дублікати? Введіть yes/no ' )\n",
        "    if answer.lower() == 'yes':\n",
        "        # Створюємо підключення до бази даних\n",
        "        con = sqlite3.connect('sales.db')\n",
        "\n",
        "        # Створюємо курсор для взаємодії з базою даних\n",
        "        cursor = con.cursor()\n",
        "\n",
        "        # Видаляємо дублікати зі значенням, що не починається на заголовну букву\n",
        "        cursor.execute('''\n",
        "            DELETE FROM items WHERE id NOT IN (\n",
        "                SELECT id FROM (\n",
        "                    SELECT id, ROW_NUMBER() OVER (\n",
        "                        PARTITION BY LOWER(brand), LOWER(model), color, engine_volume, max_speed, price\n",
        "                        ORDER BY id\n",
        "                    ) row_number\n",
        "                    FROM items\n",
        "                ) WHERE row_number = 1 or (row_number = 2 and brand = LOWER(brand) and model = LOWER(model))\n",
        "            )\n",
        "        ''')\n",
        "        # Зберігаємо зміни у базі даних\n",
        "        con.commit()\n",
        "        print('Дублікати видалені')\n",
        "    else:\n",
        "        print('Не забудьте видалити дублікати')\n",
        "else:\n",
        "    print('Дубликаты не найдены')\n",
        "\n",
        "# Закриваємо з'єднання з базою даних\n",
        "con.close()"
      ],
      "metadata": {
        "colab": {
          "base_uri": "https://localhost:8080/"
        },
        "id": "-ERur0CwEv6K",
        "outputId": "17d6c48a-868f-463e-8d9a-038bfe8dfa90"
      },
      "execution_count": null,
      "outputs": [
        {
          "output_type": "stream",
          "name": "stdout",
          "text": [
            "Ці записи мають дублікати:\n",
            "('Audi', 'Q7', 3.0, 230, 4000000)\n",
            "('BMW', '5-серії', 2.0, 220, 1800000)\n",
            "('Chevrolet', 'Camaro', 3.6, 280, 3000000)\n",
            "('Honda', 'Accord', 2.0, 240, 1800000)\n",
            "('KIA', 'Sorento', 2.2, 200, 1800000)\n",
            "('Lexus', 'RX350', 3.5, 240, 3500000)\n",
            "('Mercedes-Benz', 'S500', 5.5, 250, 10000000)\n",
            "('Nissan', 'Teana', 2.5, 200, 1600000)\n",
            "('Nissan', 'x-Trail', 2.0, 220, 1800000)\n",
            "('Volkswagen', 'Passat', 1.8, 200, 1300000)\n",
            "Бажаєте видалити дублікати? Введіть yes/no yes\n",
            "Дублікати видалені\n"
          ]
        }
      ]
    }
  ]
}